{
 "cells": [
  {
   "cell_type": "markdown",
   "metadata": {},
   "source": [
    "# **FINANCIAL REPORT**"
   ]
  },
  {
   "cell_type": "markdown",
   "metadata": {},
   "source": [
    "## **Budget Analysis**"
   ]
  },
  {
   "cell_type": "markdown",
   "metadata": {},
   "source": [
    "Here we used Plaid to access transaction and account data for the client. "
   ]
  },
  {
   "cell_type": "markdown",
   "metadata": {},
   "source": [
    "I generated a spending categories pie chart to visualize how the clients money is spent. "
   ]
  },
  {
   "cell_type": "markdown",
   "metadata": {},
   "source": [
    "![Spending Pie Chart](Expense_Breakdown_Pie.png)"
   ]
  },
  {
   "cell_type": "markdown",
   "metadata": {},
   "source": [
    "Here one can see that the client seems to spend the most money on travel, food, and drink."
   ]
  },
  {
   "cell_type": "markdown",
   "metadata": {},
   "source": [
    "This is even more visible in the bar chart below."
   ]
  },
  {
   "cell_type": "markdown",
   "metadata": {},
   "source": [
    "![Spending Bar Chart](Bar_Breakdown_Categorical.png)"
   ]
  },
  {
   "cell_type": "markdown",
   "metadata": {},
   "source": [
    "Here one can obviously see that first off, the client is spending alot on food and travel but then one can clearly see that they are spending the most on food and drink. "
   ]
  },
  {
   "cell_type": "markdown",
   "metadata": {},
   "source": [
    "I then created a bar chart to analyze the clients monthly spending."
   ]
  },
  {
   "cell_type": "markdown",
   "metadata": {},
   "source": [
    "![Monthly Spending Bar Chart](Bar_Breakdown_Monthly_Spending.png)"
   ]
  },
  {
   "cell_type": "markdown",
   "metadata": {},
   "source": [
    "Looking at this bar chart from the past three months, one can see that the client has been spending extremely more in May to July. The Spring and Summer months may have the client eating and traveling more often. "
   ]
  },
  {
   "cell_type": "markdown",
   "metadata": {},
   "source": [
    "It is pretty easy to see that if the client cut down on eating out and travel, they would save a considerable amount of money."
   ]
  },
  {
   "cell_type": "markdown",
   "metadata": {},
   "source": [
    "## **Retirement Planning**"
   ]
  },
  {
   "cell_type": "markdown",
   "metadata": {},
   "source": [
    "Here I created Monte Carlo simulations based off of a 60/40 portfolio, 60% stocks (SPY) and 40% bonds (AGG), with a 30 year investing period."
   ]
  },
  {
   "cell_type": "markdown",
   "metadata": {},
   "source": [
    "I first created a line graph with 500 simulation runs of the portfolio. "
   ]
  },
  {
   "cell_type": "markdown",
   "metadata": {},
   "source": [
    "![Monte Carlo Simulations](Sim_60_40_Port_Ret_Line.png)"
   ]
  },
  {
   "cell_type": "markdown",
   "metadata": {},
   "source": [
    "I then plotted a histogram using the ending cumulative returns for all of the simulations. This would be the cumulative returns on day 7560 which is the conclusion of 252*30 or 30 years of trading. I added 90% confidence intervals as red vertical lines."
   ]
  },
  {
   "cell_type": "markdown",
   "metadata": {},
   "source": [
    "![Simulated Cumulative Returns with 90% Confidence](Simulated_Cum_Returns90.png)"
   ]
  },
  {
   "cell_type": "markdown",
   "metadata": {},
   "source": [
    "Here one can see that the lower confidence interval is at about 1.87 and the higher end is at about 65.04. This would mean that we are 90% confident that the simulated ending cumulative returns would be between 1.87 and 65.04. We could then run with this data and begin looking at how some returns would look with different investments. I also created a line graph of 500 simulations for closing prices of SPY and AGG over the 7560 trading days, found below."
   ]
  },
  {
   "cell_type": "markdown",
   "metadata": {},
   "source": [
    "![Simulation of Closing Prices](Sim_Closing_Prices_Line.png)"
   ]
  },
  {
   "cell_type": "markdown",
   "metadata": {},
   "source": [
    "Here one can see that the stocks are pretty volatile which will add lots of variance into the simulations while the bonds are pretty much constantly increasing at a consistent rate. "
   ]
  },
  {
   "cell_type": "markdown",
   "metadata": {},
   "source": [
    "I then reviewed the data and first found the expected cumulative returns at 30 years for the 10'th, 50'th, and 90'th percentiles.\n",
    "\n",
    "10'th: $2.81\n",
    "\n",
    "50'th: $11.86\n",
    "\n",
    "90'th: $44.61\n",
    "\n",
    "After this I did the same calculations but added an in initial investment of $20,000.00, our 10'th, 50'th, and 90'th percentiles then became:\n",
    "\n",
    "10'th: $56,114.92\n",
    "\n",
    "50'th: $237,168.62\n",
    "\n",
    "90'th: $892,182.19"
   ]
  },
  {
   "cell_type": "markdown",
   "metadata": {},
   "source": [
    "I then assessed if investing the current projected yearly income, which was $6085.00, over the 30 years or 7560 trading days with a 4% withdrawal rate would meet or exceed our previous 10'th percentile return that we received with a $20,000.00 investment. As one would expect, it did not. Using the projected yearly income and a 4% withdrawal rate I received a value of about $682.92 which is extremely lower than our $56,114.92 from using a $20,000.00 investment with no withdrawal rate. Then, even if we used a 4% withdrawal rate with the $20,000.00 investment we would get about $2,244.60 which is still more than when we use the projected yearly income. The only time the projected yearly income exceeds the 10'th percentile is when we use the base simulation data, where we found the 10'th percentile to be at $2.81.\n"
   ]
  },
  {
   "cell_type": "markdown",
   "metadata": {},
   "source": [
    "I then decided to assess how a 50% increase in the initial investment amount would affect the 4% retirement withdrawal. Because we used an initial investment of $20,000.00 as our first basis I decided to continue using this number for our investment. A 50% increase would then make our initial investment $30,000.00. As one would expect, the returns increased. For the 10'th percentile I received $3,366.89. For the 50'th percentile I received $14,230.12. For the 90'th percentile I received $53,530.93. So one can see that if the initial investment is/was larger, then the returns would be larger as well. The same can be said about the projected yearly income. If we increase the projected yearly income investment by 50% this would then be $9,127.50. For the 10'th percentile I received $1,024.38. For the 50'th percentile I received $4,329.51. The for the 90'th percentile I received $16,286.79. Again, increasing the investment increases the returns."
   ]
  },
  {
   "cell_type": "markdown",
   "metadata": {},
   "source": [
    "# **Summary**"
   ]
  },
  {
   "cell_type": "markdown",
   "metadata": {},
   "source": [
    "A frequently used rule of thumb for retirement spending is the 4% rule. You will add all of your assets and investments and then account for withdrawing 4% of everything in the first year of retirement. You may then increase the percentage to account for inflation. Here I analyzed my client's monthly spending and general spending as a whole and then simulated a 60/40 retirement portfolio with an initial investment of their projected yearly income and then another with an initial investment of $20,000.00. I even went a step further and calculated prospective cumulative returns if we did a 50% increase of both initial investments. \n",
    "\n",
    "From the budget analysis one could see that my client has seen a reasonible increase in spending in the last three months. A deeper look will find that the largest chunks of spending are on food and travel as well. I believe that if my client could cut down on the food and travel he/she could then focus on increasing his/her retirement investment. This would benefit them alot. \n",
    "\n",
    "Going into the retirement analysis one can see that even in the 10'th percentile, the lower confidence interval, these numbers are greater than one meaning that any investment will have some type of profit for the most part. Nothing is full proof, but we have 90% confidence that a profit will come about. The biggest question is, what will this profit look like? The most important aspect of this answer is the investment. We ran numbers using the projected yearly income, $6085.00 as the investment, using $20,000.00 as the investment, and then doubling both. We eventually concluded that if one looked at the 10'th percentile, lets say this is the worst situation, if my client only used their projected yearly income as their investment with our 4% withdrawal rate they would have $682.92. If we compare this to their current monthly income of $500.00 they could not keep their current lifestyle in retirement. We split that $682.92 into 12 months that would be about $56.91 a little over 10 percent of their current monthly income. \n",
    "\n",
    "Now, going back to our budget analysis, if my client would be able to make some cuts from food expenses and travel, especially restaurant eating and air travel; they would then be able to invest. I did an analysis of using an initial investment of $20,000.00. With $20,000.00, at the 10th percentile we would get about $2,244.60 this is a considerable increase. When dividing this into 12 months it is still lower than their monthly income but it illustrates that increasing the investment will increase the returns, and again we are only looking at the worst case scenarios, the 10'th percentiles. But, even if he/she increases the projected yearly income investment by 50% to $9,127.50, they will see an increase. I projected $1,024.38 and again this is only looking at the 10'th percentile. If we look at the 90'th percentile increasing the projected yearly income as our investment by 50% we would be looking at $16,286.79. Divide this into 12 months and we are looking at about $1,357.23, almost three times the current monthly income. The return of $16,286.79 itself is almost three times the projected yearly income.\n",
    "\n",
    "This is a solid 60/40 portfolio choice and illustrates the power of investing in your future.\n"
   ]
  }
 ],
 "metadata": {
  "kernelspec": {
   "display_name": "Python 3",
   "language": "python",
   "name": "python3"
  },
  "language_info": {
   "codemirror_mode": {
    "name": "ipython",
    "version": 3
   },
   "file_extension": ".py",
   "mimetype": "text/x-python",
   "name": "python",
   "nbconvert_exporter": "python",
   "pygments_lexer": "ipython3",
   "version": "3.7.6"
  }
 },
 "nbformat": 4,
 "nbformat_minor": 4
}
