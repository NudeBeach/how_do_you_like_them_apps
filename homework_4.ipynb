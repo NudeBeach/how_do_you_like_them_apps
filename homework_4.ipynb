{
 "cells": [
  {
   "cell_type": "markdown",
   "metadata": {},
   "source": [
    "# **BUDGET ANALYSIS**"
   ]
  },
  {
   "cell_type": "markdown",
   "metadata": {},
   "source": [
    "## **Preperations**"
   ]
  },
  {
   "cell_type": "code",
   "execution_count": 117,
   "metadata": {},
   "outputs": [],
   "source": [
    "#Import necessary libraries\n",
    "import pandas as pd\n",
    "from numpy import random\n",
    "import requests\n",
    "import os\n",
    "import plaid\n",
    "import datetime\n",
    "from dotenv import load_dotenv\n",
    "import json\n",
    "%matplotlib inline"
   ]
  },
  {
   "cell_type": "code",
   "execution_count": 118,
   "metadata": {},
   "outputs": [
    {
     "data": {
      "text/plain": [
       "True"
      ]
     },
     "execution_count": 118,
     "metadata": {},
     "output_type": "execute_result"
    }
   ],
   "source": [
    "#Access .env files.\n",
    "load_dotenv()"
   ]
  },
  {
   "cell_type": "code",
   "execution_count": 119,
   "metadata": {},
   "outputs": [],
   "source": [
    "#Access API keys.\n",
    "PLAID_CLIENT_ID=os.getenv(\"PLAID_CLIENT_ID\")\n",
    "PLAID_PUBLIC_KEY=os.getenv(\"PLAID_PUBLIC_KEY\")\n",
    "PLAID_SANDBOX_KEY=os.getenv(\"PLAID_SANDBOX_KEY\")"
   ]
  },
  {
   "cell_type": "code",
   "execution_count": 120,
   "metadata": {},
   "outputs": [
    {
     "data": {
      "text/plain": [
       "30"
      ]
     },
     "execution_count": 120,
     "metadata": {},
     "output_type": "execute_result"
    }
   ],
   "source": [
    "len(PLAID_PUBLIC_KEY)"
   ]
  },
  {
   "cell_type": "code",
   "execution_count": 121,
   "metadata": {},
   "outputs": [],
   "source": [
    "#Create client object for Plaid\n",
    "client=plaid.Client(client_id=PLAID_CLIENT_ID,public_key=PLAID_PUBLIC_KEY,secret=PLAID_SANDBOX_KEY,environment=\"sandbox\")"
   ]
  },
  {
   "cell_type": "code",
   "execution_count": 122,
   "metadata": {},
   "outputs": [],
   "source": [
    "#client.Institutions.get(1)"
   ]
  },
  {
   "cell_type": "markdown",
   "metadata": {},
   "source": [
    "## **Plaid Access Token**"
   ]
  },
  {
   "cell_type": "code",
   "execution_count": 123,
   "metadata": {},
   "outputs": [],
   "source": [
    "#Generate a Plaid access token to access the Developer Sandbox.\n",
    "INSTITUTION_ID=\"ins_109508\""
   ]
  },
  {
   "cell_type": "code",
   "execution_count": 124,
   "metadata": {},
   "outputs": [],
   "source": [
    "public_token_generator=client.Sandbox.public_token.create(INSTITUTION_ID,[\"transactions\",\"income\",\"assets\"])"
   ]
  },
  {
   "cell_type": "code",
   "execution_count": 125,
   "metadata": {},
   "outputs": [
    {
     "data": {
      "text/plain": [
       "{'public_token': 'public-sandbox-d4478fb2-459f-41bc-8bcc-fd0e8d6af3be',\n",
       " 'request_id': 'p5mxgkt6X8nU8HZ'}"
      ]
     },
     "execution_count": 125,
     "metadata": {},
     "output_type": "execute_result"
    }
   ],
   "source": [
    "public_token_generator"
   ]
  },
  {
   "cell_type": "code",
   "execution_count": 126,
   "metadata": {},
   "outputs": [],
   "source": [
    "exchange_response=client.Item.public_token.exchange(public_token_generator[\"public_token\"])"
   ]
  },
  {
   "cell_type": "code",
   "execution_count": 127,
   "metadata": {},
   "outputs": [
    {
     "data": {
      "text/plain": [
       "{'access_token': 'access-sandbox-322eb477-b991-4f85-8838-f6f5a71483ed',\n",
       " 'item_id': 'NdvElRbEMGhgx4aRXeZQCZV3laXvlytWqBpBr',\n",
       " 'request_id': 'QpkWnnxeQgjFhun'}"
      ]
     },
     "execution_count": 127,
     "metadata": {},
     "output_type": "execute_result"
    }
   ],
   "source": [
    "exchange_response"
   ]
  },
  {
   "cell_type": "code",
   "execution_count": 128,
   "metadata": {},
   "outputs": [],
   "source": [
    "access_token=exchange_response[\"access_token\"]"
   ]
  },
  {
   "cell_type": "code",
   "execution_count": 129,
   "metadata": {},
   "outputs": [
    {
     "data": {
      "text/plain": [
       "{'accounts': [{'account_id': 'erlpgvQpyohbJ9qpzrkei3Vm9o5BJKSL5vbQG',\n",
       "   'balances': {'available': 100,\n",
       "    'current': 110,\n",
       "    'iso_currency_code': 'USD',\n",
       "    'limit': None,\n",
       "    'unofficial_currency_code': None},\n",
       "   'mask': '0000',\n",
       "   'name': 'Plaid Checking',\n",
       "   'official_name': 'Plaid Gold Standard 0% Interest Checking',\n",
       "   'subtype': 'checking',\n",
       "   'type': 'depository'},\n",
       "  {'account_id': 'QNwqrJgq7KhGvjDmo78Kfo6VQyxGgPip7PgXn',\n",
       "   'balances': {'available': 200,\n",
       "    'current': 210,\n",
       "    'iso_currency_code': 'USD',\n",
       "    'limit': None,\n",
       "    'unofficial_currency_code': None},\n",
       "   'mask': '1111',\n",
       "   'name': 'Plaid Saving',\n",
       "   'official_name': 'Plaid Silver Standard 0.1% Interest Saving',\n",
       "   'subtype': 'savings',\n",
       "   'type': 'depository'},\n",
       "  {'account_id': 'ZLX4PqD4pNhJvoNGmzw8ILwayZzM6KugXaEpw',\n",
       "   'balances': {'available': None,\n",
       "    'current': 1000,\n",
       "    'iso_currency_code': 'USD',\n",
       "    'limit': None,\n",
       "    'unofficial_currency_code': None},\n",
       "   'mask': '2222',\n",
       "   'name': 'Plaid CD',\n",
       "   'official_name': 'Plaid Bronze Standard 0.2% Interest CD',\n",
       "   'subtype': 'cd',\n",
       "   'type': 'depository'},\n",
       "  {'account_id': 'Mxv8y7G8RAIj3aBGq7nETxQzeEp37qi9PXWvb',\n",
       "   'balances': {'available': None,\n",
       "    'current': 410,\n",
       "    'iso_currency_code': 'USD',\n",
       "    'limit': 2000,\n",
       "    'unofficial_currency_code': None},\n",
       "   'mask': '3333',\n",
       "   'name': 'Plaid Credit Card',\n",
       "   'official_name': 'Plaid Diamond 12.5% APR Interest Credit Card',\n",
       "   'subtype': 'credit card',\n",
       "   'type': 'credit'},\n",
       "  {'account_id': '1xdRzl3RLGIPLa8WprwGcjRx9wW4Npu5e9kRQ',\n",
       "   'balances': {'available': 43200,\n",
       "    'current': 43200,\n",
       "    'iso_currency_code': 'USD',\n",
       "    'limit': None,\n",
       "    'unofficial_currency_code': None},\n",
       "   'mask': '4444',\n",
       "   'name': 'Plaid Money Market',\n",
       "   'official_name': 'Plaid Platinum Standard 1.85% Interest Money Market',\n",
       "   'subtype': 'money market',\n",
       "   'type': 'depository'},\n",
       "  {'account_id': 'L3vkmVykQWhRBdqjlyEJS8l1WxK7LNCPp6xMP',\n",
       "   'balances': {'available': None,\n",
       "    'current': 320.76,\n",
       "    'iso_currency_code': 'USD',\n",
       "    'limit': None,\n",
       "    'unofficial_currency_code': None},\n",
       "   'mask': '5555',\n",
       "   'name': 'Plaid IRA',\n",
       "   'official_name': None,\n",
       "   'subtype': 'ira',\n",
       "   'type': 'investment'},\n",
       "  {'account_id': 'p7NBq5pBlzS9APdLqGr7tZg6onVG4KFLVlvGp',\n",
       "   'balances': {'available': None,\n",
       "    'current': 23631.9805,\n",
       "    'iso_currency_code': 'USD',\n",
       "    'limit': None,\n",
       "    'unofficial_currency_code': None},\n",
       "   'mask': '6666',\n",
       "   'name': 'Plaid 401k',\n",
       "   'official_name': None,\n",
       "   'subtype': '401k',\n",
       "   'type': 'investment'},\n",
       "  {'account_id': 'oj4zl5NzWrHJmRwZljKzIdg5Gy63lBtR7QZDp',\n",
       "   'balances': {'available': None,\n",
       "    'current': 65262,\n",
       "    'iso_currency_code': 'USD',\n",
       "    'limit': None,\n",
       "    'unofficial_currency_code': None},\n",
       "   'mask': '7777',\n",
       "   'name': 'Plaid Student Loan',\n",
       "   'official_name': None,\n",
       "   'subtype': 'student',\n",
       "   'type': 'loan'},\n",
       "  {'account_id': 'gBKgEbZgN8H1ARk8vBK3FozP8BnW1ZignN6B4',\n",
       "   'balances': {'available': None,\n",
       "    'current': 56302.06,\n",
       "    'iso_currency_code': 'USD',\n",
       "    'limit': None,\n",
       "    'unofficial_currency_code': None},\n",
       "   'mask': '8888',\n",
       "   'name': 'Plaid Mortgage',\n",
       "   'official_name': None,\n",
       "   'subtype': 'mortgage',\n",
       "   'type': 'loan'}],\n",
       " 'item': {'available_products': ['auth',\n",
       "   'balance',\n",
       "   'credit_details',\n",
       "   'identity',\n",
       "   'investments',\n",
       "   'liabilities'],\n",
       "  'billed_products': ['assets', 'income', 'transactions'],\n",
       "  'consent_expiration_time': None,\n",
       "  'error': None,\n",
       "  'institution_id': 'ins_109508',\n",
       "  'item_id': 'NdvElRbEMGhgx4aRXeZQCZV3laXvlytWqBpBr',\n",
       "  'webhook': ''},\n",
       " 'request_id': 'Zub0I2iiEsZRbi5'}"
      ]
     },
     "execution_count": 129,
     "metadata": {},
     "output_type": "execute_result"
    }
   ],
   "source": [
    "client.Accounts.get(access_token)"
   ]
  },
  {
   "cell_type": "markdown",
   "metadata": {},
   "source": [
    "## **Account Transactions with Plaid**"
   ]
  },
  {
   "cell_type": "code",
   "execution_count": 130,
   "metadata": {},
   "outputs": [],
   "source": [
    "#Use the Access token to fetch the last 90 days of account transactions from the sandbox.\n",
    "start_date=\"{:%Y-%m-%d}\".format(datetime.datetime.now() + datetime.timedelta(-90))\n",
    "end_date=\"{:%Y-%m-%d}\".format(datetime.datetime.now())"
   ]
  },
  {
   "cell_type": "code",
   "execution_count": 131,
   "metadata": {},
   "outputs": [],
   "source": [
    "transactions_response=client.Transactions.get(access_token,start_date,end_date)"
   ]
  },
  {
   "cell_type": "code",
   "execution_count": 132,
   "metadata": {},
   "outputs": [
    {
     "data": {
      "text/plain": [
       "{'accounts': [{'account_id': 'erlpgvQpyohbJ9qpzrkei3Vm9o5BJKSL5vbQG',\n",
       "   'balances': {'available': 100,\n",
       "    'current': 110,\n",
       "    'iso_currency_code': 'USD',\n",
       "    'limit': None,\n",
       "    'unofficial_currency_code': None},\n",
       "   'mask': '0000',\n",
       "   'name': 'Plaid Checking',\n",
       "   'official_name': 'Plaid Gold Standard 0% Interest Checking',\n",
       "   'subtype': 'checking',\n",
       "   'type': 'depository'},\n",
       "  {'account_id': 'QNwqrJgq7KhGvjDmo78Kfo6VQyxGgPip7PgXn',\n",
       "   'balances': {'available': 200,\n",
       "    'current': 210,\n",
       "    'iso_currency_code': 'USD',\n",
       "    'limit': None,\n",
       "    'unofficial_currency_code': None},\n",
       "   'mask': '1111',\n",
       "   'name': 'Plaid Saving',\n",
       "   'official_name': 'Plaid Silver Standard 0.1% Interest Saving',\n",
       "   'subtype': 'savings',\n",
       "   'type': 'depository'},\n",
       "  {'account_id': 'ZLX4PqD4pNhJvoNGmzw8ILwayZzM6KugXaEpw',\n",
       "   'balances': {'available': None,\n",
       "    'current': 1000,\n",
       "    'iso_currency_code': 'USD',\n",
       "    'limit': None,\n",
       "    'unofficial_currency_code': None},\n",
       "   'mask': '2222',\n",
       "   'name': 'Plaid CD',\n",
       "   'official_name': 'Plaid Bronze Standard 0.2% Interest CD',\n",
       "   'subtype': 'cd',\n",
       "   'type': 'depository'},\n",
       "  {'account_id': 'Mxv8y7G8RAIj3aBGq7nETxQzeEp37qi9PXWvb',\n",
       "   'balances': {'available': None,\n",
       "    'current': 410,\n",
       "    'iso_currency_code': 'USD',\n",
       "    'limit': 2000,\n",
       "    'unofficial_currency_code': None},\n",
       "   'mask': '3333',\n",
       "   'name': 'Plaid Credit Card',\n",
       "   'official_name': 'Plaid Diamond 12.5% APR Interest Credit Card',\n",
       "   'subtype': 'credit card',\n",
       "   'type': 'credit'},\n",
       "  {'account_id': '1xdRzl3RLGIPLa8WprwGcjRx9wW4Npu5e9kRQ',\n",
       "   'balances': {'available': 43200,\n",
       "    'current': 43200,\n",
       "    'iso_currency_code': 'USD',\n",
       "    'limit': None,\n",
       "    'unofficial_currency_code': None},\n",
       "   'mask': '4444',\n",
       "   'name': 'Plaid Money Market',\n",
       "   'official_name': 'Plaid Platinum Standard 1.85% Interest Money Market',\n",
       "   'subtype': 'money market',\n",
       "   'type': 'depository'},\n",
       "  {'account_id': 'L3vkmVykQWhRBdqjlyEJS8l1WxK7LNCPp6xMP',\n",
       "   'balances': {'available': None,\n",
       "    'current': 320.76,\n",
       "    'iso_currency_code': 'USD',\n",
       "    'limit': None,\n",
       "    'unofficial_currency_code': None},\n",
       "   'mask': '5555',\n",
       "   'name': 'Plaid IRA',\n",
       "   'official_name': None,\n",
       "   'subtype': 'ira',\n",
       "   'type': 'investment'},\n",
       "  {'account_id': 'p7NBq5pBlzS9APdLqGr7tZg6onVG4KFLVlvGp',\n",
       "   'balances': {'available': None,\n",
       "    'current': 23631.9805,\n",
       "    'iso_currency_code': 'USD',\n",
       "    'limit': None,\n",
       "    'unofficial_currency_code': None},\n",
       "   'mask': '6666',\n",
       "   'name': 'Plaid 401k',\n",
       "   'official_name': None,\n",
       "   'subtype': '401k',\n",
       "   'type': 'investment'},\n",
       "  {'account_id': 'oj4zl5NzWrHJmRwZljKzIdg5Gy63lBtR7QZDp',\n",
       "   'balances': {'available': None,\n",
       "    'current': 65262,\n",
       "    'iso_currency_code': 'USD',\n",
       "    'limit': None,\n",
       "    'unofficial_currency_code': None},\n",
       "   'mask': '7777',\n",
       "   'name': 'Plaid Student Loan',\n",
       "   'official_name': None,\n",
       "   'subtype': 'student',\n",
       "   'type': 'loan'},\n",
       "  {'account_id': 'gBKgEbZgN8H1ARk8vBK3FozP8BnW1ZignN6B4',\n",
       "   'balances': {'available': None,\n",
       "    'current': 56302.06,\n",
       "    'iso_currency_code': 'USD',\n",
       "    'limit': None,\n",
       "    'unofficial_currency_code': None},\n",
       "   'mask': '8888',\n",
       "   'name': 'Plaid Mortgage',\n",
       "   'official_name': None,\n",
       "   'subtype': 'mortgage',\n",
       "   'type': 'loan'}],\n",
       " 'item': {'available_products': ['auth',\n",
       "   'balance',\n",
       "   'credit_details',\n",
       "   'identity',\n",
       "   'investments',\n",
       "   'liabilities'],\n",
       "  'billed_products': ['assets', 'income', 'transactions'],\n",
       "  'consent_expiration_time': None,\n",
       "  'error': None,\n",
       "  'institution_id': 'ins_109508',\n",
       "  'item_id': 'NdvElRbEMGhgx4aRXeZQCZV3laXvlytWqBpBr',\n",
       "  'webhook': ''},\n",
       " 'request_id': 'CxeQc8sox5SItiM',\n",
       " 'total_transactions': 16,\n",
       " 'transactions': [{'account_id': 'erlpgvQpyohbJ9qpzrkei3Vm9o5BJKSL5vbQG',\n",
       "   'account_owner': None,\n",
       "   'amount': 6.33,\n",
       "   'authorized_date': None,\n",
       "   'category': ['Travel', 'Taxi'],\n",
       "   'category_id': '22016000',\n",
       "   'date': '2020-07-27',\n",
       "   'iso_currency_code': 'USD',\n",
       "   'location': {'address': None,\n",
       "    'city': None,\n",
       "    'country': None,\n",
       "    'lat': None,\n",
       "    'lon': None,\n",
       "    'postal_code': None,\n",
       "    'region': None,\n",
       "    'store_number': None},\n",
       "   'merchant_name': 'Uber',\n",
       "   'name': 'Uber 072515 SF**POOL**',\n",
       "   'payment_channel': 'in store',\n",
       "   'payment_meta': {'by_order_of': None,\n",
       "    'payee': None,\n",
       "    'payer': None,\n",
       "    'payment_method': None,\n",
       "    'payment_processor': None,\n",
       "    'ppd_id': None,\n",
       "    'reason': None,\n",
       "    'reference_number': None},\n",
       "   'pending': False,\n",
       "   'pending_transaction_id': None,\n",
       "   'transaction_code': None,\n",
       "   'transaction_id': 'RPvKz8XKZrhGN76Z3BqvfjAqgdMdjNfRbNqE3',\n",
       "   'transaction_type': 'special',\n",
       "   'unofficial_currency_code': None},\n",
       "  {'account_id': 'Mxv8y7G8RAIj3aBGq7nETxQzeEp37qi9PXWvb',\n",
       "   'account_owner': None,\n",
       "   'amount': 500,\n",
       "   'authorized_date': None,\n",
       "   'category': ['Food and Drink', 'Restaurants'],\n",
       "   'category_id': '13005000',\n",
       "   'date': '2020-07-24',\n",
       "   'iso_currency_code': 'USD',\n",
       "   'location': {'address': None,\n",
       "    'city': None,\n",
       "    'country': None,\n",
       "    'lat': None,\n",
       "    'lon': None,\n",
       "    'postal_code': None,\n",
       "    'region': None,\n",
       "    'store_number': None},\n",
       "   'merchant_name': 'Tectra Inc',\n",
       "   'name': 'Tectra Inc',\n",
       "   'payment_channel': 'in store',\n",
       "   'payment_meta': {'by_order_of': None,\n",
       "    'payee': None,\n",
       "    'payer': None,\n",
       "    'payment_method': None,\n",
       "    'payment_processor': None,\n",
       "    'ppd_id': None,\n",
       "    'reason': None,\n",
       "    'reference_number': None},\n",
       "   'pending': False,\n",
       "   'pending_transaction_id': None,\n",
       "   'transaction_code': None,\n",
       "   'transaction_id': 'qeP3KRp3qBtqJ94pKeZBuzQMy1L1zmud7lj3q',\n",
       "   'transaction_type': 'place',\n",
       "   'unofficial_currency_code': None},\n",
       "  {'account_id': 'Mxv8y7G8RAIj3aBGq7nETxQzeEp37qi9PXWvb',\n",
       "   'account_owner': None,\n",
       "   'amount': 2078.5,\n",
       "   'authorized_date': None,\n",
       "   'category': ['Payment'],\n",
       "   'category_id': '16000000',\n",
       "   'date': '2020-07-23',\n",
       "   'iso_currency_code': 'USD',\n",
       "   'location': {'address': None,\n",
       "    'city': None,\n",
       "    'country': None,\n",
       "    'lat': None,\n",
       "    'lon': None,\n",
       "    'postal_code': None,\n",
       "    'region': None,\n",
       "    'store_number': None},\n",
       "   'merchant_name': None,\n",
       "   'name': 'AUTOMATIC PAYMENT - THANK',\n",
       "   'payment_channel': 'other',\n",
       "   'payment_meta': {'by_order_of': None,\n",
       "    'payee': None,\n",
       "    'payer': None,\n",
       "    'payment_method': None,\n",
       "    'payment_processor': None,\n",
       "    'ppd_id': None,\n",
       "    'reason': None,\n",
       "    'reference_number': None},\n",
       "   'pending': False,\n",
       "   'pending_transaction_id': None,\n",
       "   'transaction_code': None,\n",
       "   'transaction_id': 'z8peNmxeA7hoVEdlN8qac5MmNADA5JtoLdynV',\n",
       "   'transaction_type': 'special',\n",
       "   'unofficial_currency_code': None},\n",
       "  {'account_id': 'Mxv8y7G8RAIj3aBGq7nETxQzeEp37qi9PXWvb',\n",
       "   'account_owner': None,\n",
       "   'amount': 500,\n",
       "   'authorized_date': None,\n",
       "   'category': ['Food and Drink', 'Restaurants', 'Fast Food'],\n",
       "   'category_id': '13005032',\n",
       "   'date': '2020-07-23',\n",
       "   'iso_currency_code': 'USD',\n",
       "   'location': {'address': None,\n",
       "    'city': None,\n",
       "    'country': None,\n",
       "    'lat': None,\n",
       "    'lon': None,\n",
       "    'postal_code': None,\n",
       "    'region': None,\n",
       "    'store_number': None},\n",
       "   'merchant_name': 'KFC',\n",
       "   'name': 'KFC',\n",
       "   'payment_channel': 'in store',\n",
       "   'payment_meta': {'by_order_of': None,\n",
       "    'payee': None,\n",
       "    'payer': None,\n",
       "    'payment_method': None,\n",
       "    'payment_processor': None,\n",
       "    'ppd_id': None,\n",
       "    'reason': None,\n",
       "    'reference_number': None},\n",
       "   'pending': False,\n",
       "   'pending_transaction_id': None,\n",
       "   'transaction_code': None,\n",
       "   'transaction_id': 'rQkxrJyxK3UqjKoJrQekueAMLEBEejHl6bAzx',\n",
       "   'transaction_type': 'place',\n",
       "   'unofficial_currency_code': None},\n",
       "  {'account_id': 'Mxv8y7G8RAIj3aBGq7nETxQzeEp37qi9PXWvb',\n",
       "   'account_owner': None,\n",
       "   'amount': 500,\n",
       "   'authorized_date': None,\n",
       "   'category': ['Shops', 'Sporting Goods'],\n",
       "   'category_id': '19046000',\n",
       "   'date': '2020-07-23',\n",
       "   'iso_currency_code': 'USD',\n",
       "   'location': {'address': None,\n",
       "    'city': None,\n",
       "    'country': None,\n",
       "    'lat': None,\n",
       "    'lon': None,\n",
       "    'postal_code': None,\n",
       "    'region': None,\n",
       "    'store_number': None},\n",
       "   'merchant_name': 'Madison Bicycle Shop',\n",
       "   'name': 'Madison Bicycle Shop',\n",
       "   'payment_channel': 'in store',\n",
       "   'payment_meta': {'by_order_of': None,\n",
       "    'payee': None,\n",
       "    'payer': None,\n",
       "    'payment_method': None,\n",
       "    'payment_processor': None,\n",
       "    'ppd_id': None,\n",
       "    'reason': None,\n",
       "    'reference_number': None},\n",
       "   'pending': False,\n",
       "   'pending_transaction_id': None,\n",
       "   'transaction_code': None,\n",
       "   'transaction_id': 'KBvobn9oyEHnzxLw3aEXf8NzvDXD81FVAo9QB',\n",
       "   'transaction_type': 'place',\n",
       "   'unofficial_currency_code': None},\n",
       "  {'account_id': 'QNwqrJgq7KhGvjDmo78Kfo6VQyxGgPip7PgXn',\n",
       "   'account_owner': None,\n",
       "   'amount': 25,\n",
       "   'authorized_date': None,\n",
       "   'category': ['Payment', 'Credit Card'],\n",
       "   'category_id': '16001000',\n",
       "   'date': '2020-07-14',\n",
       "   'iso_currency_code': 'USD',\n",
       "   'location': {'address': None,\n",
       "    'city': None,\n",
       "    'country': None,\n",
       "    'lat': None,\n",
       "    'lon': None,\n",
       "    'postal_code': None,\n",
       "    'region': None,\n",
       "    'store_number': None},\n",
       "   'merchant_name': None,\n",
       "   'name': 'CREDIT CARD 3333 PAYMENT *//',\n",
       "   'payment_channel': 'other',\n",
       "   'payment_meta': {'by_order_of': None,\n",
       "    'payee': None,\n",
       "    'payer': None,\n",
       "    'payment_method': None,\n",
       "    'payment_processor': None,\n",
       "    'ppd_id': None,\n",
       "    'reason': None,\n",
       "    'reference_number': None},\n",
       "   'pending': False,\n",
       "   'pending_transaction_id': None,\n",
       "   'transaction_code': None,\n",
       "   'transaction_id': '5NPldoGlJrh1n8l9ewpzFdzDxVgVdouZ7Xnmy',\n",
       "   'transaction_type': 'special',\n",
       "   'unofficial_currency_code': None},\n",
       "  {'account_id': 'erlpgvQpyohbJ9qpzrkei3Vm9o5BJKSL5vbQG',\n",
       "   'account_owner': None,\n",
       "   'amount': 5.4,\n",
       "   'authorized_date': None,\n",
       "   'category': ['Travel', 'Taxi'],\n",
       "   'category_id': '22016000',\n",
       "   'date': '2020-07-14',\n",
       "   'iso_currency_code': 'USD',\n",
       "   'location': {'address': None,\n",
       "    'city': None,\n",
       "    'country': None,\n",
       "    'lat': None,\n",
       "    'lon': None,\n",
       "    'postal_code': None,\n",
       "    'region': None,\n",
       "    'store_number': None},\n",
       "   'merchant_name': 'Uber',\n",
       "   'name': 'Uber 063015 SF**POOL**',\n",
       "   'payment_channel': 'in store',\n",
       "   'payment_meta': {'by_order_of': None,\n",
       "    'payee': None,\n",
       "    'payer': None,\n",
       "    'payment_method': None,\n",
       "    'payment_processor': None,\n",
       "    'ppd_id': None,\n",
       "    'reason': None,\n",
       "    'reference_number': None},\n",
       "   'pending': False,\n",
       "   'pending_transaction_id': None,\n",
       "   'transaction_code': None,\n",
       "   'transaction_id': '6PjqagNqLzhy6pP1LeDmi7mRZn3n7WTgXQl5X',\n",
       "   'transaction_type': 'special',\n",
       "   'unofficial_currency_code': None},\n",
       "  {'account_id': '1xdRzl3RLGIPLa8WprwGcjRx9wW4Npu5e9kRQ',\n",
       "   'account_owner': None,\n",
       "   'amount': 5850,\n",
       "   'authorized_date': None,\n",
       "   'category': ['Transfer', 'Debit'],\n",
       "   'category_id': '21006000',\n",
       "   'date': '2020-07-13',\n",
       "   'iso_currency_code': 'USD',\n",
       "   'location': {'address': None,\n",
       "    'city': None,\n",
       "    'country': None,\n",
       "    'lat': None,\n",
       "    'lon': None,\n",
       "    'postal_code': None,\n",
       "    'region': None,\n",
       "    'store_number': None},\n",
       "   'merchant_name': None,\n",
       "   'name': 'ACH Electronic CreditGUSTO PAY 123456',\n",
       "   'payment_channel': 'other',\n",
       "   'payment_meta': {'by_order_of': None,\n",
       "    'payee': None,\n",
       "    'payer': None,\n",
       "    'payment_method': 'ACH',\n",
       "    'payment_processor': None,\n",
       "    'ppd_id': None,\n",
       "    'reason': None,\n",
       "    'reference_number': None},\n",
       "   'pending': False,\n",
       "   'pending_transaction_id': None,\n",
       "   'transaction_code': None,\n",
       "   'transaction_id': '6PjqagNqLzhy6pP1LeDmi7mRZn3n7WTgXQl5J',\n",
       "   'transaction_type': 'special',\n",
       "   'unofficial_currency_code': None},\n",
       "  {'account_id': 'ZLX4PqD4pNhJvoNGmzw8ILwayZzM6KugXaEpw',\n",
       "   'account_owner': None,\n",
       "   'amount': 1000,\n",
       "   'authorized_date': None,\n",
       "   'category': ['Transfer', 'Deposit'],\n",
       "   'category_id': '21007000',\n",
       "   'date': '2020-07-13',\n",
       "   'iso_currency_code': 'USD',\n",
       "   'location': {'address': None,\n",
       "    'city': None,\n",
       "    'country': None,\n",
       "    'lat': None,\n",
       "    'lon': None,\n",
       "    'postal_code': None,\n",
       "    'region': None,\n",
       "    'store_number': None},\n",
       "   'merchant_name': None,\n",
       "   'name': 'CD DEPOSIT .INITIAL.',\n",
       "   'payment_channel': 'other',\n",
       "   'payment_meta': {'by_order_of': None,\n",
       "    'payee': None,\n",
       "    'payer': None,\n",
       "    'payment_method': None,\n",
       "    'payment_processor': None,\n",
       "    'ppd_id': None,\n",
       "    'reason': None,\n",
       "    'reference_number': None},\n",
       "   'pending': False,\n",
       "   'pending_transaction_id': None,\n",
       "   'transaction_code': None,\n",
       "   'transaction_id': 'ka3lnyjlpGsbxXAnJ9gBiGgaxlMlGeHWd7jv5',\n",
       "   'transaction_type': 'special',\n",
       "   'unofficial_currency_code': None},\n",
       "  {'account_id': 'Mxv8y7G8RAIj3aBGq7nETxQzeEp37qi9PXWvb',\n",
       "   'account_owner': None,\n",
       "   'amount': 78.5,\n",
       "   'authorized_date': None,\n",
       "   'category': ['Recreation', 'Gyms and Fitness Centers'],\n",
       "   'category_id': '17018000',\n",
       "   'date': '2020-07-12',\n",
       "   'iso_currency_code': 'USD',\n",
       "   'location': {'address': None,\n",
       "    'city': None,\n",
       "    'country': None,\n",
       "    'lat': None,\n",
       "    'lon': None,\n",
       "    'postal_code': None,\n",
       "    'region': None,\n",
       "    'store_number': None},\n",
       "   'merchant_name': 'Touchstone',\n",
       "   'name': 'Touchstone Climbing',\n",
       "   'payment_channel': 'in store',\n",
       "   'payment_meta': {'by_order_of': None,\n",
       "    'payee': None,\n",
       "    'payer': None,\n",
       "    'payment_method': None,\n",
       "    'payment_processor': None,\n",
       "    'ppd_id': None,\n",
       "    'reason': None,\n",
       "    'reference_number': None},\n",
       "   'pending': False,\n",
       "   'pending_transaction_id': None,\n",
       "   'transaction_code': None,\n",
       "   'transaction_id': 'B8EjpRdjvQhQMGq8pWBoCJojrNQNJPCw8vplp',\n",
       "   'transaction_type': 'place',\n",
       "   'unofficial_currency_code': None},\n",
       "  {'account_id': 'erlpgvQpyohbJ9qpzrkei3Vm9o5BJKSL5vbQG',\n",
       "   'account_owner': None,\n",
       "   'amount': -500,\n",
       "   'authorized_date': None,\n",
       "   'category': ['Travel', 'Airlines and Aviation Services'],\n",
       "   'category_id': '22001000',\n",
       "   'date': '2020-07-12',\n",
       "   'iso_currency_code': 'USD',\n",
       "   'location': {'address': None,\n",
       "    'city': None,\n",
       "    'country': None,\n",
       "    'lat': None,\n",
       "    'lon': None,\n",
       "    'postal_code': None,\n",
       "    'region': None,\n",
       "    'store_number': None},\n",
       "   'merchant_name': 'United Airlines',\n",
       "   'name': 'United Airlines',\n",
       "   'payment_channel': 'other',\n",
       "   'payment_meta': {'by_order_of': None,\n",
       "    'payee': None,\n",
       "    'payer': None,\n",
       "    'payment_method': None,\n",
       "    'payment_processor': None,\n",
       "    'ppd_id': None,\n",
       "    'reason': None,\n",
       "    'reference_number': None},\n",
       "   'pending': False,\n",
       "   'pending_transaction_id': None,\n",
       "   'transaction_code': None,\n",
       "   'transaction_id': 'XMvd48EdQacKZLd3NjxzFg9XpQ5Qg8fdnkXaE',\n",
       "   'transaction_type': 'special',\n",
       "   'unofficial_currency_code': None},\n",
       "  {'account_id': 'erlpgvQpyohbJ9qpzrkei3Vm9o5BJKSL5vbQG',\n",
       "   'account_owner': None,\n",
       "   'amount': 12,\n",
       "   'authorized_date': None,\n",
       "   'category': ['Food and Drink', 'Restaurants', 'Fast Food'],\n",
       "   'category_id': '13005032',\n",
       "   'date': '2020-07-11',\n",
       "   'iso_currency_code': 'USD',\n",
       "   'location': {'address': None,\n",
       "    'city': None,\n",
       "    'country': None,\n",
       "    'lat': None,\n",
       "    'lon': None,\n",
       "    'postal_code': None,\n",
       "    'region': None,\n",
       "    'store_number': '3322'},\n",
       "   'merchant_name': \"McDonald's\",\n",
       "   'name': \"McDonald's\",\n",
       "   'payment_channel': 'in store',\n",
       "   'payment_meta': {'by_order_of': None,\n",
       "    'payee': None,\n",
       "    'payer': None,\n",
       "    'payment_method': None,\n",
       "    'payment_processor': None,\n",
       "    'ppd_id': None,\n",
       "    'reason': None,\n",
       "    'reference_number': None},\n",
       "   'pending': False,\n",
       "   'pending_transaction_id': None,\n",
       "   'transaction_code': None,\n",
       "   'transaction_id': 'DWAeg8je4McaelxAZDJ9ce9PKV8VegHvaNoMJ',\n",
       "   'transaction_type': 'place',\n",
       "   'unofficial_currency_code': None},\n",
       "  {'account_id': 'erlpgvQpyohbJ9qpzrkei3Vm9o5BJKSL5vbQG',\n",
       "   'account_owner': None,\n",
       "   'amount': 4.33,\n",
       "   'authorized_date': None,\n",
       "   'category': ['Food and Drink', 'Restaurants', 'Coffee Shop'],\n",
       "   'category_id': '13005043',\n",
       "   'date': '2020-07-11',\n",
       "   'iso_currency_code': 'USD',\n",
       "   'location': {'address': None,\n",
       "    'city': None,\n",
       "    'country': None,\n",
       "    'lat': None,\n",
       "    'lon': None,\n",
       "    'postal_code': None,\n",
       "    'region': None,\n",
       "    'store_number': None},\n",
       "   'merchant_name': 'Starbucks',\n",
       "   'name': 'Starbucks',\n",
       "   'payment_channel': 'in store',\n",
       "   'payment_meta': {'by_order_of': None,\n",
       "    'payee': None,\n",
       "    'payer': None,\n",
       "    'payment_method': None,\n",
       "    'payment_processor': None,\n",
       "    'ppd_id': None,\n",
       "    'reason': None,\n",
       "    'reference_number': None},\n",
       "   'pending': False,\n",
       "   'pending_transaction_id': None,\n",
       "   'transaction_code': None,\n",
       "   'transaction_id': 'VQv3dWG3wxUNeMjZGL81fkgV7LRLkQfWPQVrZ',\n",
       "   'transaction_type': 'place',\n",
       "   'unofficial_currency_code': None},\n",
       "  {'account_id': 'erlpgvQpyohbJ9qpzrkei3Vm9o5BJKSL5vbQG',\n",
       "   'account_owner': None,\n",
       "   'amount': 89.4,\n",
       "   'authorized_date': None,\n",
       "   'category': ['Food and Drink', 'Restaurants'],\n",
       "   'category_id': '13005000',\n",
       "   'date': '2020-07-10',\n",
       "   'iso_currency_code': 'USD',\n",
       "   'location': {'address': None,\n",
       "    'city': None,\n",
       "    'country': None,\n",
       "    'lat': None,\n",
       "    'lon': None,\n",
       "    'postal_code': None,\n",
       "    'region': None,\n",
       "    'store_number': None},\n",
       "   'merchant_name': 'Sparkfun',\n",
       "   'name': 'SparkFun',\n",
       "   'payment_channel': 'in store',\n",
       "   'payment_meta': {'by_order_of': None,\n",
       "    'payee': None,\n",
       "    'payer': None,\n",
       "    'payment_method': None,\n",
       "    'payment_processor': None,\n",
       "    'ppd_id': None,\n",
       "    'reason': None,\n",
       "    'reference_number': None},\n",
       "   'pending': False,\n",
       "   'pending_transaction_id': None,\n",
       "   'transaction_code': None,\n",
       "   'transaction_id': 'wpMPdK9PxNh61lg3LpA9cb8JXZLZb4Frozp8z',\n",
       "   'transaction_type': 'place',\n",
       "   'unofficial_currency_code': None},\n",
       "  {'account_id': 'QNwqrJgq7KhGvjDmo78Kfo6VQyxGgPip7PgXn',\n",
       "   'account_owner': None,\n",
       "   'amount': -4.22,\n",
       "   'authorized_date': None,\n",
       "   'category': ['Transfer', 'Credit'],\n",
       "   'category_id': '21005000',\n",
       "   'date': '2020-07-09',\n",
       "   'iso_currency_code': 'USD',\n",
       "   'location': {'address': None,\n",
       "    'city': None,\n",
       "    'country': None,\n",
       "    'lat': None,\n",
       "    'lon': None,\n",
       "    'postal_code': None,\n",
       "    'region': None,\n",
       "    'store_number': None},\n",
       "   'merchant_name': None,\n",
       "   'name': 'INTRST PYMNT',\n",
       "   'payment_channel': 'other',\n",
       "   'payment_meta': {'by_order_of': None,\n",
       "    'payee': None,\n",
       "    'payer': None,\n",
       "    'payment_method': None,\n",
       "    'payment_processor': None,\n",
       "    'ppd_id': None,\n",
       "    'reason': None,\n",
       "    'reference_number': None},\n",
       "   'pending': False,\n",
       "   'pending_transaction_id': None,\n",
       "   'transaction_code': None,\n",
       "   'transaction_id': 'JzvpnERpQ8sRr3xbndqLSjzJx9a9jDfdgXyP6',\n",
       "   'transaction_type': 'special',\n",
       "   'unofficial_currency_code': None},\n",
       "  {'account_id': 'Mxv8y7G8RAIj3aBGq7nETxQzeEp37qi9PXWvb',\n",
       "   'account_owner': None,\n",
       "   'amount': 500,\n",
       "   'authorized_date': None,\n",
       "   'category': ['Travel', 'Airlines and Aviation Services'],\n",
       "   'category_id': '22001000',\n",
       "   'date': '2020-06-29',\n",
       "   'iso_currency_code': 'USD',\n",
       "   'location': {'address': None,\n",
       "    'city': None,\n",
       "    'country': None,\n",
       "    'lat': None,\n",
       "    'lon': None,\n",
       "    'postal_code': None,\n",
       "    'region': None,\n",
       "    'store_number': None},\n",
       "   'merchant_name': 'United Airlines',\n",
       "   'name': 'United Airlines',\n",
       "   'payment_channel': 'in store',\n",
       "   'payment_meta': {'by_order_of': None,\n",
       "    'payee': None,\n",
       "    'payer': None,\n",
       "    'payment_method': None,\n",
       "    'payment_processor': None,\n",
       "    'ppd_id': None,\n",
       "    'reason': None,\n",
       "    'reference_number': None},\n",
       "   'pending': False,\n",
       "   'pending_transaction_id': None,\n",
       "   'transaction_code': None,\n",
       "   'transaction_id': 'RPvKz8XKZrhGN76Z3BqvfjAqgdMdjNfRbNqEl',\n",
       "   'transaction_type': 'special',\n",
       "   'unofficial_currency_code': None}]}"
      ]
     },
     "execution_count": 132,
     "metadata": {},
     "output_type": "execute_result"
    }
   ],
   "source": [
    "transactions_response"
   ]
  },
  {
   "cell_type": "code",
   "execution_count": 133,
   "metadata": {},
   "outputs": [
    {
     "name": "stdout",
     "output_type": "stream",
     "text": [
      "['Travel', 'Taxi']\n",
      "['Food and Drink', 'Restaurants']\n",
      "['Payment']\n",
      "['Food and Drink', 'Restaurants', 'Fast Food']\n",
      "['Shops', 'Sporting Goods']\n",
      "['Payment', 'Credit Card']\n",
      "['Travel', 'Taxi']\n",
      "['Transfer', 'Debit']\n",
      "['Transfer', 'Deposit']\n",
      "['Recreation', 'Gyms and Fitness Centers']\n",
      "['Travel', 'Airlines and Aviation Services']\n",
      "['Food and Drink', 'Restaurants', 'Fast Food']\n",
      "['Food and Drink', 'Restaurants', 'Coffee Shop']\n",
      "['Food and Drink', 'Restaurants']\n",
      "['Transfer', 'Credit']\n",
      "['Travel', 'Airlines and Aviation Services']\n"
     ]
    }
   ],
   "source": [
    "# Create a for-loop to print the categories for each transaction\n",
    "for transactions in transactions_response[\"transactions\"]:\n",
    "    print(transactions[\"category\"])"
   ]
  },
  {
   "cell_type": "code",
   "execution_count": 134,
   "metadata": {},
   "outputs": [],
   "source": [
    "# Define an empty DataFrame and set the columns as date, name, amount, and category\n",
    "budget_analysis_df=pd.DataFrame()"
   ]
  },
  {
   "cell_type": "code",
   "execution_count": 135,
   "metadata": {},
   "outputs": [],
   "source": [
    "date=[]\n",
    "name=[]\n",
    "amount=[]\n",
    "category=[]  "
   ]
  },
  {
   "cell_type": "code",
   "execution_count": 136,
   "metadata": {},
   "outputs": [],
   "source": [
    "# Populate the transactions DataFrame with the transactions data\n",
    "for transactions in transactions_response[\"transactions\"]:\n",
    "    date.append(transactions[\"date\"])\n",
    "    name.append(transactions[\"name\"])\n",
    "    amount.append(transactions[\"amount\"])\n",
    "    category.append(transactions[\"category\"])"
   ]
  },
  {
   "cell_type": "code",
   "execution_count": 137,
   "metadata": {},
   "outputs": [],
   "source": [
    "budget_analysis_df[\"date\"]=date\n",
    "budget_analysis_df[\"name\"]=name\n",
    "budget_analysis_df[\"amount\"]=amount\n",
    "budget_analysis_df[\"category\"]=category"
   ]
  },
  {
   "cell_type": "code",
   "execution_count": 138,
   "metadata": {},
   "outputs": [
    {
     "data": {
      "text/html": [
       "<div>\n",
       "<style scoped>\n",
       "    .dataframe tbody tr th:only-of-type {\n",
       "        vertical-align: middle;\n",
       "    }\n",
       "\n",
       "    .dataframe tbody tr th {\n",
       "        vertical-align: top;\n",
       "    }\n",
       "\n",
       "    .dataframe thead th {\n",
       "        text-align: right;\n",
       "    }\n",
       "</style>\n",
       "<table border=\"1\" class=\"dataframe\">\n",
       "  <thead>\n",
       "    <tr style=\"text-align: right;\">\n",
       "      <th></th>\n",
       "      <th>date</th>\n",
       "      <th>name</th>\n",
       "      <th>amount</th>\n",
       "      <th>category</th>\n",
       "    </tr>\n",
       "  </thead>\n",
       "  <tbody>\n",
       "    <tr>\n",
       "      <th>0</th>\n",
       "      <td>2020-07-27</td>\n",
       "      <td>Uber 072515 SF**POOL**</td>\n",
       "      <td>6.33</td>\n",
       "      <td>[Travel, Taxi]</td>\n",
       "    </tr>\n",
       "    <tr>\n",
       "      <th>1</th>\n",
       "      <td>2020-07-24</td>\n",
       "      <td>Tectra Inc</td>\n",
       "      <td>500.00</td>\n",
       "      <td>[Food and Drink, Restaurants]</td>\n",
       "    </tr>\n",
       "    <tr>\n",
       "      <th>2</th>\n",
       "      <td>2020-07-23</td>\n",
       "      <td>AUTOMATIC PAYMENT - THANK</td>\n",
       "      <td>2078.50</td>\n",
       "      <td>[Payment]</td>\n",
       "    </tr>\n",
       "    <tr>\n",
       "      <th>3</th>\n",
       "      <td>2020-07-23</td>\n",
       "      <td>KFC</td>\n",
       "      <td>500.00</td>\n",
       "      <td>[Food and Drink, Restaurants, Fast Food]</td>\n",
       "    </tr>\n",
       "    <tr>\n",
       "      <th>4</th>\n",
       "      <td>2020-07-23</td>\n",
       "      <td>Madison Bicycle Shop</td>\n",
       "      <td>500.00</td>\n",
       "      <td>[Shops, Sporting Goods]</td>\n",
       "    </tr>\n",
       "  </tbody>\n",
       "</table>\n",
       "</div>"
      ],
      "text/plain": [
       "         date                       name   amount  \\\n",
       "0  2020-07-27     Uber 072515 SF**POOL**     6.33   \n",
       "1  2020-07-24                 Tectra Inc   500.00   \n",
       "2  2020-07-23  AUTOMATIC PAYMENT - THANK  2078.50   \n",
       "3  2020-07-23                        KFC   500.00   \n",
       "4  2020-07-23       Madison Bicycle Shop   500.00   \n",
       "\n",
       "                                   category  \n",
       "0                            [Travel, Taxi]  \n",
       "1             [Food and Drink, Restaurants]  \n",
       "2                                 [Payment]  \n",
       "3  [Food and Drink, Restaurants, Fast Food]  \n",
       "4                   [Shops, Sporting Goods]  "
      ]
     },
     "execution_count": 138,
     "metadata": {},
     "output_type": "execute_result"
    }
   ],
   "source": [
    "budget_analysis_df.head()"
   ]
  },
  {
   "cell_type": "code",
   "execution_count": 139,
   "metadata": {},
   "outputs": [
    {
     "data": {
      "text/plain": [
       "date         object\n",
       "name         object\n",
       "amount      float64\n",
       "category     object\n",
       "dtype: object"
      ]
     },
     "execution_count": 139,
     "metadata": {},
     "output_type": "execute_result"
    }
   ],
   "source": [
    "# Display data types.\n",
    "budget_analysis_df.dtypes"
   ]
  },
  {
   "cell_type": "code",
   "execution_count": 140,
   "metadata": {},
   "outputs": [],
   "source": [
    "# Set the date column as index and make any data type transformation.\n",
    "budget_analysis_df = budget_analysis_df.set_index(pd.to_datetime(budget_analysis_df[\"date\"], infer_datetime_format=True)).copy()"
   ]
  },
  {
   "cell_type": "code",
   "execution_count": 141,
   "metadata": {},
   "outputs": [],
   "source": [
    "budget_analysis_df = budget_analysis_df.sort_index()"
   ]
  },
  {
   "cell_type": "code",
   "execution_count": 142,
   "metadata": {},
   "outputs": [
    {
     "data": {
      "text/html": [
       "<div>\n",
       "<style scoped>\n",
       "    .dataframe tbody tr th:only-of-type {\n",
       "        vertical-align: middle;\n",
       "    }\n",
       "\n",
       "    .dataframe tbody tr th {\n",
       "        vertical-align: top;\n",
       "    }\n",
       "\n",
       "    .dataframe thead th {\n",
       "        text-align: right;\n",
       "    }\n",
       "</style>\n",
       "<table border=\"1\" class=\"dataframe\">\n",
       "  <thead>\n",
       "    <tr style=\"text-align: right;\">\n",
       "      <th></th>\n",
       "      <th>date</th>\n",
       "      <th>name</th>\n",
       "      <th>amount</th>\n",
       "      <th>category</th>\n",
       "    </tr>\n",
       "    <tr>\n",
       "      <th>date</th>\n",
       "      <th></th>\n",
       "      <th></th>\n",
       "      <th></th>\n",
       "      <th></th>\n",
       "    </tr>\n",
       "  </thead>\n",
       "  <tbody>\n",
       "    <tr>\n",
       "      <th>2020-06-29</th>\n",
       "      <td>2020-06-29</td>\n",
       "      <td>United Airlines</td>\n",
       "      <td>500.00</td>\n",
       "      <td>[Travel, Airlines and Aviation Services]</td>\n",
       "    </tr>\n",
       "    <tr>\n",
       "      <th>2020-07-09</th>\n",
       "      <td>2020-07-09</td>\n",
       "      <td>INTRST PYMNT</td>\n",
       "      <td>-4.22</td>\n",
       "      <td>[Transfer, Credit]</td>\n",
       "    </tr>\n",
       "    <tr>\n",
       "      <th>2020-07-10</th>\n",
       "      <td>2020-07-10</td>\n",
       "      <td>SparkFun</td>\n",
       "      <td>89.40</td>\n",
       "      <td>[Food and Drink, Restaurants]</td>\n",
       "    </tr>\n",
       "    <tr>\n",
       "      <th>2020-07-11</th>\n",
       "      <td>2020-07-11</td>\n",
       "      <td>McDonald's</td>\n",
       "      <td>12.00</td>\n",
       "      <td>[Food and Drink, Restaurants, Fast Food]</td>\n",
       "    </tr>\n",
       "    <tr>\n",
       "      <th>2020-07-11</th>\n",
       "      <td>2020-07-11</td>\n",
       "      <td>Starbucks</td>\n",
       "      <td>4.33</td>\n",
       "      <td>[Food and Drink, Restaurants, Coffee Shop]</td>\n",
       "    </tr>\n",
       "    <tr>\n",
       "      <th>2020-07-12</th>\n",
       "      <td>2020-07-12</td>\n",
       "      <td>Touchstone Climbing</td>\n",
       "      <td>78.50</td>\n",
       "      <td>[Recreation, Gyms and Fitness Centers]</td>\n",
       "    </tr>\n",
       "    <tr>\n",
       "      <th>2020-07-12</th>\n",
       "      <td>2020-07-12</td>\n",
       "      <td>United Airlines</td>\n",
       "      <td>-500.00</td>\n",
       "      <td>[Travel, Airlines and Aviation Services]</td>\n",
       "    </tr>\n",
       "    <tr>\n",
       "      <th>2020-07-13</th>\n",
       "      <td>2020-07-13</td>\n",
       "      <td>ACH Electronic CreditGUSTO PAY 123456</td>\n",
       "      <td>5850.00</td>\n",
       "      <td>[Transfer, Debit]</td>\n",
       "    </tr>\n",
       "    <tr>\n",
       "      <th>2020-07-13</th>\n",
       "      <td>2020-07-13</td>\n",
       "      <td>CD DEPOSIT .INITIAL.</td>\n",
       "      <td>1000.00</td>\n",
       "      <td>[Transfer, Deposit]</td>\n",
       "    </tr>\n",
       "    <tr>\n",
       "      <th>2020-07-14</th>\n",
       "      <td>2020-07-14</td>\n",
       "      <td>CREDIT CARD 3333 PAYMENT *//</td>\n",
       "      <td>25.00</td>\n",
       "      <td>[Payment, Credit Card]</td>\n",
       "    </tr>\n",
       "    <tr>\n",
       "      <th>2020-07-14</th>\n",
       "      <td>2020-07-14</td>\n",
       "      <td>Uber 063015 SF**POOL**</td>\n",
       "      <td>5.40</td>\n",
       "      <td>[Travel, Taxi]</td>\n",
       "    </tr>\n",
       "    <tr>\n",
       "      <th>2020-07-23</th>\n",
       "      <td>2020-07-23</td>\n",
       "      <td>AUTOMATIC PAYMENT - THANK</td>\n",
       "      <td>2078.50</td>\n",
       "      <td>[Payment]</td>\n",
       "    </tr>\n",
       "    <tr>\n",
       "      <th>2020-07-23</th>\n",
       "      <td>2020-07-23</td>\n",
       "      <td>KFC</td>\n",
       "      <td>500.00</td>\n",
       "      <td>[Food and Drink, Restaurants, Fast Food]</td>\n",
       "    </tr>\n",
       "    <tr>\n",
       "      <th>2020-07-23</th>\n",
       "      <td>2020-07-23</td>\n",
       "      <td>Madison Bicycle Shop</td>\n",
       "      <td>500.00</td>\n",
       "      <td>[Shops, Sporting Goods]</td>\n",
       "    </tr>\n",
       "    <tr>\n",
       "      <th>2020-07-24</th>\n",
       "      <td>2020-07-24</td>\n",
       "      <td>Tectra Inc</td>\n",
       "      <td>500.00</td>\n",
       "      <td>[Food and Drink, Restaurants]</td>\n",
       "    </tr>\n",
       "    <tr>\n",
       "      <th>2020-07-27</th>\n",
       "      <td>2020-07-27</td>\n",
       "      <td>Uber 072515 SF**POOL**</td>\n",
       "      <td>6.33</td>\n",
       "      <td>[Travel, Taxi]</td>\n",
       "    </tr>\n",
       "  </tbody>\n",
       "</table>\n",
       "</div>"
      ],
      "text/plain": [
       "                  date                                   name   amount  \\\n",
       "date                                                                     \n",
       "2020-06-29  2020-06-29                        United Airlines   500.00   \n",
       "2020-07-09  2020-07-09                           INTRST PYMNT    -4.22   \n",
       "2020-07-10  2020-07-10                               SparkFun    89.40   \n",
       "2020-07-11  2020-07-11                             McDonald's    12.00   \n",
       "2020-07-11  2020-07-11                              Starbucks     4.33   \n",
       "2020-07-12  2020-07-12                    Touchstone Climbing    78.50   \n",
       "2020-07-12  2020-07-12                        United Airlines  -500.00   \n",
       "2020-07-13  2020-07-13  ACH Electronic CreditGUSTO PAY 123456  5850.00   \n",
       "2020-07-13  2020-07-13                   CD DEPOSIT .INITIAL.  1000.00   \n",
       "2020-07-14  2020-07-14           CREDIT CARD 3333 PAYMENT *//    25.00   \n",
       "2020-07-14  2020-07-14                 Uber 063015 SF**POOL**     5.40   \n",
       "2020-07-23  2020-07-23              AUTOMATIC PAYMENT - THANK  2078.50   \n",
       "2020-07-23  2020-07-23                                    KFC   500.00   \n",
       "2020-07-23  2020-07-23                   Madison Bicycle Shop   500.00   \n",
       "2020-07-24  2020-07-24                             Tectra Inc   500.00   \n",
       "2020-07-27  2020-07-27                 Uber 072515 SF**POOL**     6.33   \n",
       "\n",
       "                                              category  \n",
       "date                                                    \n",
       "2020-06-29    [Travel, Airlines and Aviation Services]  \n",
       "2020-07-09                          [Transfer, Credit]  \n",
       "2020-07-10               [Food and Drink, Restaurants]  \n",
       "2020-07-11    [Food and Drink, Restaurants, Fast Food]  \n",
       "2020-07-11  [Food and Drink, Restaurants, Coffee Shop]  \n",
       "2020-07-12      [Recreation, Gyms and Fitness Centers]  \n",
       "2020-07-12    [Travel, Airlines and Aviation Services]  \n",
       "2020-07-13                           [Transfer, Debit]  \n",
       "2020-07-13                         [Transfer, Deposit]  \n",
       "2020-07-14                      [Payment, Credit Card]  \n",
       "2020-07-14                              [Travel, Taxi]  \n",
       "2020-07-23                                   [Payment]  \n",
       "2020-07-23    [Food and Drink, Restaurants, Fast Food]  \n",
       "2020-07-23                     [Shops, Sporting Goods]  \n",
       "2020-07-24               [Food and Drink, Restaurants]  \n",
       "2020-07-27                              [Travel, Taxi]  "
      ]
     },
     "execution_count": 142,
     "metadata": {},
     "output_type": "execute_result"
    }
   ],
   "source": [
    "budget_analysis_df"
   ]
  },
  {
   "cell_type": "code",
   "execution_count": 143,
   "metadata": {},
   "outputs": [],
   "source": [
    "budget_analysis_df=budget_analysis_df.drop(columns=[\"date\"])"
   ]
  },
  {
   "cell_type": "code",
   "execution_count": 144,
   "metadata": {},
   "outputs": [
    {
     "data": {
      "text/html": [
       "<div>\n",
       "<style scoped>\n",
       "    .dataframe tbody tr th:only-of-type {\n",
       "        vertical-align: middle;\n",
       "    }\n",
       "\n",
       "    .dataframe tbody tr th {\n",
       "        vertical-align: top;\n",
       "    }\n",
       "\n",
       "    .dataframe thead th {\n",
       "        text-align: right;\n",
       "    }\n",
       "</style>\n",
       "<table border=\"1\" class=\"dataframe\">\n",
       "  <thead>\n",
       "    <tr style=\"text-align: right;\">\n",
       "      <th></th>\n",
       "      <th>name</th>\n",
       "      <th>amount</th>\n",
       "      <th>category</th>\n",
       "    </tr>\n",
       "    <tr>\n",
       "      <th>date</th>\n",
       "      <th></th>\n",
       "      <th></th>\n",
       "      <th></th>\n",
       "    </tr>\n",
       "  </thead>\n",
       "  <tbody>\n",
       "    <tr>\n",
       "      <th>2020-06-29</th>\n",
       "      <td>United Airlines</td>\n",
       "      <td>500.00</td>\n",
       "      <td>[Travel, Airlines and Aviation Services]</td>\n",
       "    </tr>\n",
       "    <tr>\n",
       "      <th>2020-07-09</th>\n",
       "      <td>INTRST PYMNT</td>\n",
       "      <td>-4.22</td>\n",
       "      <td>[Transfer, Credit]</td>\n",
       "    </tr>\n",
       "    <tr>\n",
       "      <th>2020-07-10</th>\n",
       "      <td>SparkFun</td>\n",
       "      <td>89.40</td>\n",
       "      <td>[Food and Drink, Restaurants]</td>\n",
       "    </tr>\n",
       "    <tr>\n",
       "      <th>2020-07-11</th>\n",
       "      <td>McDonald's</td>\n",
       "      <td>12.00</td>\n",
       "      <td>[Food and Drink, Restaurants, Fast Food]</td>\n",
       "    </tr>\n",
       "    <tr>\n",
       "      <th>2020-07-11</th>\n",
       "      <td>Starbucks</td>\n",
       "      <td>4.33</td>\n",
       "      <td>[Food and Drink, Restaurants, Coffee Shop]</td>\n",
       "    </tr>\n",
       "    <tr>\n",
       "      <th>2020-07-12</th>\n",
       "      <td>Touchstone Climbing</td>\n",
       "      <td>78.50</td>\n",
       "      <td>[Recreation, Gyms and Fitness Centers]</td>\n",
       "    </tr>\n",
       "    <tr>\n",
       "      <th>2020-07-12</th>\n",
       "      <td>United Airlines</td>\n",
       "      <td>-500.00</td>\n",
       "      <td>[Travel, Airlines and Aviation Services]</td>\n",
       "    </tr>\n",
       "    <tr>\n",
       "      <th>2020-07-13</th>\n",
       "      <td>ACH Electronic CreditGUSTO PAY 123456</td>\n",
       "      <td>5850.00</td>\n",
       "      <td>[Transfer, Debit]</td>\n",
       "    </tr>\n",
       "    <tr>\n",
       "      <th>2020-07-13</th>\n",
       "      <td>CD DEPOSIT .INITIAL.</td>\n",
       "      <td>1000.00</td>\n",
       "      <td>[Transfer, Deposit]</td>\n",
       "    </tr>\n",
       "    <tr>\n",
       "      <th>2020-07-14</th>\n",
       "      <td>CREDIT CARD 3333 PAYMENT *//</td>\n",
       "      <td>25.00</td>\n",
       "      <td>[Payment, Credit Card]</td>\n",
       "    </tr>\n",
       "    <tr>\n",
       "      <th>2020-07-14</th>\n",
       "      <td>Uber 063015 SF**POOL**</td>\n",
       "      <td>5.40</td>\n",
       "      <td>[Travel, Taxi]</td>\n",
       "    </tr>\n",
       "    <tr>\n",
       "      <th>2020-07-23</th>\n",
       "      <td>AUTOMATIC PAYMENT - THANK</td>\n",
       "      <td>2078.50</td>\n",
       "      <td>[Payment]</td>\n",
       "    </tr>\n",
       "    <tr>\n",
       "      <th>2020-07-23</th>\n",
       "      <td>KFC</td>\n",
       "      <td>500.00</td>\n",
       "      <td>[Food and Drink, Restaurants, Fast Food]</td>\n",
       "    </tr>\n",
       "    <tr>\n",
       "      <th>2020-07-23</th>\n",
       "      <td>Madison Bicycle Shop</td>\n",
       "      <td>500.00</td>\n",
       "      <td>[Shops, Sporting Goods]</td>\n",
       "    </tr>\n",
       "    <tr>\n",
       "      <th>2020-07-24</th>\n",
       "      <td>Tectra Inc</td>\n",
       "      <td>500.00</td>\n",
       "      <td>[Food and Drink, Restaurants]</td>\n",
       "    </tr>\n",
       "    <tr>\n",
       "      <th>2020-07-27</th>\n",
       "      <td>Uber 072515 SF**POOL**</td>\n",
       "      <td>6.33</td>\n",
       "      <td>[Travel, Taxi]</td>\n",
       "    </tr>\n",
       "  </tbody>\n",
       "</table>\n",
       "</div>"
      ],
      "text/plain": [
       "                                             name   amount  \\\n",
       "date                                                         \n",
       "2020-06-29                        United Airlines   500.00   \n",
       "2020-07-09                           INTRST PYMNT    -4.22   \n",
       "2020-07-10                               SparkFun    89.40   \n",
       "2020-07-11                             McDonald's    12.00   \n",
       "2020-07-11                              Starbucks     4.33   \n",
       "2020-07-12                    Touchstone Climbing    78.50   \n",
       "2020-07-12                        United Airlines  -500.00   \n",
       "2020-07-13  ACH Electronic CreditGUSTO PAY 123456  5850.00   \n",
       "2020-07-13                   CD DEPOSIT .INITIAL.  1000.00   \n",
       "2020-07-14           CREDIT CARD 3333 PAYMENT *//    25.00   \n",
       "2020-07-14                 Uber 063015 SF**POOL**     5.40   \n",
       "2020-07-23              AUTOMATIC PAYMENT - THANK  2078.50   \n",
       "2020-07-23                                    KFC   500.00   \n",
       "2020-07-23                   Madison Bicycle Shop   500.00   \n",
       "2020-07-24                             Tectra Inc   500.00   \n",
       "2020-07-27                 Uber 072515 SF**POOL**     6.33   \n",
       "\n",
       "                                              category  \n",
       "date                                                    \n",
       "2020-06-29    [Travel, Airlines and Aviation Services]  \n",
       "2020-07-09                          [Transfer, Credit]  \n",
       "2020-07-10               [Food and Drink, Restaurants]  \n",
       "2020-07-11    [Food and Drink, Restaurants, Fast Food]  \n",
       "2020-07-11  [Food and Drink, Restaurants, Coffee Shop]  \n",
       "2020-07-12      [Recreation, Gyms and Fitness Centers]  \n",
       "2020-07-12    [Travel, Airlines and Aviation Services]  \n",
       "2020-07-13                           [Transfer, Debit]  \n",
       "2020-07-13                         [Transfer, Deposit]  \n",
       "2020-07-14                      [Payment, Credit Card]  \n",
       "2020-07-14                              [Travel, Taxi]  \n",
       "2020-07-23                                   [Payment]  \n",
       "2020-07-23    [Food and Drink, Restaurants, Fast Food]  \n",
       "2020-07-23                     [Shops, Sporting Goods]  \n",
       "2020-07-24               [Food and Drink, Restaurants]  \n",
       "2020-07-27                              [Travel, Taxi]  "
      ]
     },
     "execution_count": 144,
     "metadata": {},
     "output_type": "execute_result"
    }
   ],
   "source": [
    "budget_analysis_df"
   ]
  },
  {
   "cell_type": "code",
   "execution_count": 145,
   "metadata": {},
   "outputs": [
    {
     "data": {
      "text/plain": [
       "name         object\n",
       "amount      float64\n",
       "category     object\n",
       "dtype: object"
      ]
     },
     "execution_count": 145,
     "metadata": {},
     "output_type": "execute_result"
    }
   ],
   "source": [
    "budget_analysis_df.dtypes"
   ]
  },
  {
   "cell_type": "markdown",
   "metadata": {},
   "source": [
    "## **Income Analysis with Plaid**"
   ]
  },
  {
   "cell_type": "code",
   "execution_count": 146,
   "metadata": {},
   "outputs": [],
   "source": [
    "# Get the income data.\n",
    "start_date2=\"{:%Y-%m-%d}\".format(datetime.datetime.now()+datetime.timedelta(-365))\n",
    "end_date2=\"{:%Y-%m-%d}\".format(datetime.datetime.now())"
   ]
  },
  {
   "cell_type": "code",
   "execution_count": 147,
   "metadata": {},
   "outputs": [],
   "source": [
    "income_response=client.Income.get(access_token)"
   ]
  },
  {
   "cell_type": "code",
   "execution_count": 148,
   "metadata": {},
   "outputs": [
    {
     "data": {
      "text/plain": [
       "{'income': {'income_streams': [{'confidence': 0.99,\n",
       "    'days': 690,\n",
       "    'monthly_income': 500,\n",
       "    'name': 'UNITED AIRLINES'}],\n",
       "  'last_year_income': 6000,\n",
       "  'last_year_income_before_tax': 7285,\n",
       "  'max_number_of_overlapping_income_streams': 1,\n",
       "  'number_of_income_streams': 1,\n",
       "  'projected_yearly_income': 6085,\n",
       "  'projected_yearly_income_before_tax': 7389},\n",
       " 'request_id': '0jcUbjqFsRXUTJ4'}"
      ]
     },
     "execution_count": 148,
     "metadata": {},
     "output_type": "execute_result"
    }
   ],
   "source": [
    "income_response"
   ]
  },
  {
   "cell_type": "code",
   "execution_count": 149,
   "metadata": {},
   "outputs": [],
   "source": [
    "# Determine the previous year's gross income and print the results\n",
    "previous_year_gross=income_response[\"income\"][\"last_year_income_before_tax\"]"
   ]
  },
  {
   "cell_type": "code",
   "execution_count": 150,
   "metadata": {},
   "outputs": [
    {
     "data": {
      "text/plain": [
       "7285"
      ]
     },
     "execution_count": 150,
     "metadata": {},
     "output_type": "execute_result"
    }
   ],
   "source": [
    "previous_year_gross"
   ]
  },
  {
   "cell_type": "code",
   "execution_count": 151,
   "metadata": {},
   "outputs": [],
   "source": [
    "# Determine the current monthly income and print the results."
   ]
  },
  {
   "cell_type": "code",
   "execution_count": 152,
   "metadata": {},
   "outputs": [],
   "source": [
    "current_monthly_income=income_response[\"income\"][\"income_streams\"][0][\"monthly_income\"]"
   ]
  },
  {
   "cell_type": "code",
   "execution_count": 153,
   "metadata": {},
   "outputs": [
    {
     "data": {
      "text/plain": [
       "500"
      ]
     },
     "execution_count": 153,
     "metadata": {},
     "output_type": "execute_result"
    }
   ],
   "source": [
    "current_monthly_income"
   ]
  },
  {
   "cell_type": "code",
   "execution_count": 154,
   "metadata": {},
   "outputs": [],
   "source": [
    "# Determine the projected yearly income and print the results.\n",
    "projected_yearly_income=income_response[\"income\"][\"projected_yearly_income\"]"
   ]
  },
  {
   "cell_type": "code",
   "execution_count": 155,
   "metadata": {},
   "outputs": [
    {
     "data": {
      "text/plain": [
       "6085"
      ]
     },
     "execution_count": 155,
     "metadata": {},
     "output_type": "execute_result"
    }
   ],
   "source": [
    "projected_yearly_income"
   ]
  },
  {
   "cell_type": "markdown",
   "metadata": {},
   "source": [
    "## **Budget Analysis**"
   ]
  },
  {
   "cell_type": "code",
   "execution_count": 156,
   "metadata": {},
   "outputs": [
    {
     "data": {
      "text/html": [
       "<div>\n",
       "<style scoped>\n",
       "    .dataframe tbody tr th:only-of-type {\n",
       "        vertical-align: middle;\n",
       "    }\n",
       "\n",
       "    .dataframe tbody tr th {\n",
       "        vertical-align: top;\n",
       "    }\n",
       "\n",
       "    .dataframe thead th {\n",
       "        text-align: right;\n",
       "    }\n",
       "</style>\n",
       "<table border=\"1\" class=\"dataframe\">\n",
       "  <thead>\n",
       "    <tr style=\"text-align: right;\">\n",
       "      <th></th>\n",
       "      <th>name</th>\n",
       "      <th>amount</th>\n",
       "      <th>category</th>\n",
       "    </tr>\n",
       "    <tr>\n",
       "      <th>date</th>\n",
       "      <th></th>\n",
       "      <th></th>\n",
       "      <th></th>\n",
       "    </tr>\n",
       "  </thead>\n",
       "  <tbody>\n",
       "    <tr>\n",
       "      <th>2020-07-11</th>\n",
       "      <td>McDonald's</td>\n",
       "      <td>12.0</td>\n",
       "      <td>[Food and Drink, Restaurants, Fast Food]</td>\n",
       "    </tr>\n",
       "  </tbody>\n",
       "</table>\n",
       "</div>"
      ],
      "text/plain": [
       "                  name  amount                                  category\n",
       "date                                                                    \n",
       "2020-07-11  McDonald's    12.0  [Food and Drink, Restaurants, Fast Food]"
      ]
     },
     "execution_count": 156,
     "metadata": {},
     "output_type": "execute_result"
    }
   ],
   "source": [
    "# Compute and display the total expenses per category.\n",
    "\n",
    "budget_analysis_df.sample()"
   ]
  },
  {
   "cell_type": "code",
   "execution_count": 157,
   "metadata": {},
   "outputs": [],
   "source": [
    "category_breakdown = budget_analysis_df[\"category\"].value_counts()"
   ]
  },
  {
   "cell_type": "code",
   "execution_count": 158,
   "metadata": {},
   "outputs": [
    {
     "data": {
      "text/plain": [
       "[Travel, Taxi]                                2\n",
       "[Travel, Airlines and Aviation Services]      2\n",
       "[Food and Drink, Restaurants, Fast Food]      2\n",
       "[Food and Drink, Restaurants]                 2\n",
       "[Recreation, Gyms and Fitness Centers]        1\n",
       "[Transfer, Credit]                            1\n",
       "[Shops, Sporting Goods]                       1\n",
       "[Transfer, Debit]                             1\n",
       "[Payment, Credit Card]                        1\n",
       "[Food and Drink, Restaurants, Coffee Shop]    1\n",
       "[Payment]                                     1\n",
       "[Transfer, Deposit]                           1\n",
       "Name: category, dtype: int64"
      ]
     },
     "execution_count": 158,
     "metadata": {},
     "output_type": "execute_result"
    }
   ],
   "source": [
    "category_breakdown"
   ]
  },
  {
   "cell_type": "code",
   "execution_count": 159,
   "metadata": {},
   "outputs": [
    {
     "data": {
      "text/plain": [
       "<matplotlib.axes._subplots.AxesSubplot at 0x7fec3d99e2d0>"
      ]
     },
     "execution_count": 159,
     "metadata": {},
     "output_type": "execute_result"
    },
    {
     "data": {
      "image/png": "[encoded data removed]",
      "text/plain": [
       "<Figure size 432x288 with 1 Axes>"
      ]
     },
     "metadata": {
      "needs_background": "light"
     },
     "output_type": "display_data"
    }
   ],
   "source": [
    "category_breakdown.plot(kind=\"bar\",title=\"A Categorical Breakdown of Spending Habits Based off Number of Transactions\",x=\"Category\",y=\"Number of Transactions\")"
   ]
  },
  {
   "cell_type": "code",
   "execution_count": 160,
   "metadata": {},
   "outputs": [
    {
     "data": {
      "text/plain": [
       "<matplotlib.axes._subplots.AxesSubplot at 0x7fec3d9275d0>"
      ]
     },
     "execution_count": 160,
     "metadata": {},
     "output_type": "execute_result"
    },
    {
     "data": {
      "image/png": "[encoded data removed]",
      "text/plain": [
       "<Figure size 432x288 with 1 Axes>"
      ]
     },
     "metadata": {},
     "output_type": "display_data"
    }
   ],
   "source": [
    "# Create a spending categories pie chart.\n",
    "category_breakdown.plot.pie(legend=None, title=\"A Categorical Breakdown of Spending Habits Based off Number of Transactions\")"
   ]
  },
  {
   "cell_type": "code",
   "execution_count": 161,
   "metadata": {},
   "outputs": [
    {
     "data": {
      "text/html": [
       "<div>\n",
       "<style scoped>\n",
       "    .dataframe tbody tr th:only-of-type {\n",
       "        vertical-align: middle;\n",
       "    }\n",
       "\n",
       "    .dataframe tbody tr th {\n",
       "        vertical-align: top;\n",
       "    }\n",
       "\n",
       "    .dataframe thead th {\n",
       "        text-align: right;\n",
       "    }\n",
       "</style>\n",
       "<table border=\"1\" class=\"dataframe\">\n",
       "  <thead>\n",
       "    <tr style=\"text-align: right;\">\n",
       "      <th></th>\n",
       "      <th>name</th>\n",
       "      <th>amount</th>\n",
       "      <th>category</th>\n",
       "    </tr>\n",
       "    <tr>\n",
       "      <th>date</th>\n",
       "      <th></th>\n",
       "      <th></th>\n",
       "      <th></th>\n",
       "    </tr>\n",
       "  </thead>\n",
       "  <tbody>\n",
       "    <tr>\n",
       "      <th>2020-06-29</th>\n",
       "      <td>United Airlines</td>\n",
       "      <td>500.00</td>\n",
       "      <td>[Travel, Airlines and Aviation Services]</td>\n",
       "    </tr>\n",
       "    <tr>\n",
       "      <th>2020-07-09</th>\n",
       "      <td>INTRST PYMNT</td>\n",
       "      <td>-4.22</td>\n",
       "      <td>[Transfer, Credit]</td>\n",
       "    </tr>\n",
       "  </tbody>\n",
       "</table>\n",
       "</div>"
      ],
      "text/plain": [
       "                       name  amount                                  category\n",
       "date                                                                         \n",
       "2020-06-29  United Airlines  500.00  [Travel, Airlines and Aviation Services]\n",
       "2020-07-09     INTRST PYMNT   -4.22                        [Transfer, Credit]"
      ]
     },
     "execution_count": 161,
     "metadata": {},
     "output_type": "execute_result"
    }
   ],
   "source": [
    "# Create a DataFrame with the total expenses\n",
    "budget_analysis_df.head(2)"
   ]
  },
  {
   "cell_type": "code",
   "execution_count": 162,
   "metadata": {},
   "outputs": [
    {
     "data": {
      "text/plain": [
       "DatetimeIndex(['2020-06-29', '2020-07-09', '2020-07-10', '2020-07-11',\n",
       "               '2020-07-11', '2020-07-12', '2020-07-12', '2020-07-13',\n",
       "               '2020-07-13', '2020-07-14', '2020-07-14', '2020-07-23',\n",
       "               '2020-07-23', '2020-07-23', '2020-07-24', '2020-07-27'],\n",
       "              dtype='datetime64[ns]', name='date', freq=None)"
      ]
     },
     "execution_count": 162,
     "metadata": {},
     "output_type": "execute_result"
    }
   ],
   "source": [
    "budget_analysis_df.index"
   ]
  },
  {
   "cell_type": "code",
   "execution_count": 163,
   "metadata": {},
   "outputs": [],
   "source": [
    "budget_analysis_df[\"year\"]=budget_analysis_df.index.year\n",
    "budget_analysis_df[\"month\"]=budget_analysis_df.index.month\n",
    "budget_analysis_df[\"day\"]=budget_analysis_df.index.day"
   ]
  },
  {
   "cell_type": "code",
   "execution_count": 164,
   "metadata": {},
   "outputs": [],
   "source": [
    "budget_analysis_grp = budget_analysis_df.groupby([\"year\",\"month\"]).sum()"
   ]
  },
  {
   "cell_type": "code",
   "execution_count": 165,
   "metadata": {},
   "outputs": [
    {
     "data": {
      "text/html": [
       "<div>\n",
       "<style scoped>\n",
       "    .dataframe tbody tr th:only-of-type {\n",
       "        vertical-align: middle;\n",
       "    }\n",
       "\n",
       "    .dataframe tbody tr th {\n",
       "        vertical-align: top;\n",
       "    }\n",
       "\n",
       "    .dataframe thead th {\n",
       "        text-align: right;\n",
       "    }\n",
       "</style>\n",
       "<table border=\"1\" class=\"dataframe\">\n",
       "  <thead>\n",
       "    <tr style=\"text-align: right;\">\n",
       "      <th></th>\n",
       "      <th></th>\n",
       "      <th>amount</th>\n",
       "      <th>day</th>\n",
       "    </tr>\n",
       "    <tr>\n",
       "      <th>year</th>\n",
       "      <th>month</th>\n",
       "      <th></th>\n",
       "      <th></th>\n",
       "    </tr>\n",
       "  </thead>\n",
       "  <tbody>\n",
       "    <tr>\n",
       "      <th rowspan=\"2\" valign=\"top\">2020</th>\n",
       "      <th>6</th>\n",
       "      <td>500.00</td>\n",
       "      <td>29</td>\n",
       "    </tr>\n",
       "    <tr>\n",
       "      <th>7</th>\n",
       "      <td>10145.24</td>\n",
       "      <td>239</td>\n",
       "    </tr>\n",
       "  </tbody>\n",
       "</table>\n",
       "</div>"
      ],
      "text/plain": [
       "              amount  day\n",
       "year month               \n",
       "2020 6        500.00   29\n",
       "     7      10145.24  239"
      ]
     },
     "execution_count": 165,
     "metadata": {},
     "output_type": "execute_result"
    }
   ],
   "source": [
    "budget_analysis_grp"
   ]
  },
  {
   "cell_type": "code",
   "execution_count": 166,
   "metadata": {},
   "outputs": [
    {
     "data": {
      "text/plain": [
       "<matplotlib.axes._subplots.AxesSubplot at 0x7fec3da38fd0>"
      ]
     },
     "execution_count": 166,
     "metadata": {},
     "output_type": "execute_result"
    },
    {
     "data": {
      "image/png": "[encoded data removed]",
      "text/plain": [
       "<Figure size 432x288 with 1 Axes>"
      ]
     },
     "metadata": {
      "needs_background": "light"
     },
     "output_type": "display_data"
    }
   ],
   "source": [
    "# Create a spending per month bar chart\n",
    "budget_analysis_grp[\"amount\"].plot(kind=\"bar\", title=\"A Breakdown of Spending by Month\")"
   ]
  },
  {
   "cell_type": "markdown",
   "metadata": {},
   "source": [
    "# **RETIREMENT PLANNER**"
   ]
  },
  {
   "cell_type": "markdown",
   "metadata": {},
   "source": [
    "## **Preperations**"
   ]
  },
  {
   "cell_type": "code",
   "execution_count": 167,
   "metadata": {},
   "outputs": [],
   "source": [
    "# Import extra libraries and dependencies.\n",
    "import numpy as np\n",
    "from datetime import datetime, timedelta\n",
    "import matplotlib.pyplot as plt\n",
    "import alpaca_trade_api as tradeapi\n",
    "# Set the random seed for resutls reproducibility (for testing purposes only).\n",
    "np.random.seed(42)"
   ]
  },
  {
   "cell_type": "markdown",
   "metadata": {},
   "source": [
    "## **Portfolio Planner**"
   ]
  },
  {
   "cell_type": "code",
   "execution_count": 168,
   "metadata": {},
   "outputs": [],
   "source": [
    "# Set Alpaca API key and secret key\n",
    "ALPACA_API_KEY=os.getenv(\"ALPACA_API_KEY\")\n",
    "ALPACA_SECRET_KEY=os.getenv(\"ALPACA_SECRET_KEY\")\n",
    "\n",
    "# Create the Alpaca API object\n",
    "api=tradeapi.REST(ALPACA_API_KEY,ALPACA_SECRET_KEY,api_version=\"v2\")"
   ]
  },
  {
   "cell_type": "code",
   "execution_count": 169,
   "metadata": {},
   "outputs": [
    {
     "data": {
      "text/plain": [
       "20"
      ]
     },
     "execution_count": 169,
     "metadata": {},
     "output_type": "execute_result"
    }
   ],
   "source": [
    "len(ALPACA_API_KEY)"
   ]
  },
  {
   "cell_type": "markdown",
   "metadata": {},
   "source": [
    "## **Data Collection**"
   ]
  },
  {
   "cell_type": "code",
   "execution_count": 170,
   "metadata": {},
   "outputs": [],
   "source": [
    "# Pull a years worth of return data for \"SPY\" and \"AGG\".\n",
    "ticker=[\"SPY\",\"AGG\"]\n",
    "timeframe=\"1D\"\n",
    "\n",
    "start_date=pd.Timestamp(\"2019-07-23\",tz=\"America/New_York\").isoformat()\n",
    "end_date=pd.Timestamp(\"2020-07-24\",tz=\"America/New_York\").isoformat()\n",
    "\n",
    "df=api.get_barset(ticker,timeframe,limit=None,start=start_date,end=end_date,after=None,until=None).df"
   ]
  },
  {
   "cell_type": "code",
   "execution_count": 171,
   "metadata": {},
   "outputs": [
    {
     "data": {
      "text/html": [
       "<div>\n",
       "<style scoped>\n",
       "    .dataframe tbody tr th:only-of-type {\n",
       "        vertical-align: middle;\n",
       "    }\n",
       "\n",
       "    .dataframe tbody tr th {\n",
       "        vertical-align: top;\n",
       "    }\n",
       "\n",
       "    .dataframe thead tr th {\n",
       "        text-align: left;\n",
       "    }\n",
       "\n",
       "    .dataframe thead tr:last-of-type th {\n",
       "        text-align: right;\n",
       "    }\n",
       "</style>\n",
       "<table border=\"1\" class=\"dataframe\">\n",
       "  <thead>\n",
       "    <tr>\n",
       "      <th></th>\n",
       "      <th colspan=\"5\" halign=\"left\">AGG</th>\n",
       "      <th colspan=\"5\" halign=\"left\">SPY</th>\n",
       "    </tr>\n",
       "    <tr>\n",
       "      <th></th>\n",
       "      <th>open</th>\n",
       "      <th>high</th>\n",
       "      <th>low</th>\n",
       "      <th>close</th>\n",
       "      <th>volume</th>\n",
       "      <th>open</th>\n",
       "      <th>high</th>\n",
       "      <th>low</th>\n",
       "      <th>close</th>\n",
       "      <th>volume</th>\n",
       "    </tr>\n",
       "    <tr>\n",
       "      <th>time</th>\n",
       "      <th></th>\n",
       "      <th></th>\n",
       "      <th></th>\n",
       "      <th></th>\n",
       "      <th></th>\n",
       "      <th></th>\n",
       "      <th></th>\n",
       "      <th></th>\n",
       "      <th></th>\n",
       "      <th></th>\n",
       "    </tr>\n",
       "  </thead>\n",
       "  <tbody>\n",
       "    <tr>\n",
       "      <th>2019-07-23 00:00:00-04:00</th>\n",
       "      <td>111.27</td>\n",
       "      <td>111.3200</td>\n",
       "      <td>111.1600</td>\n",
       "      <td>111.2000</td>\n",
       "      <td>2380357</td>\n",
       "      <td>299.140</td>\n",
       "      <td>300.0300</td>\n",
       "      <td>298.2200</td>\n",
       "      <td>299.9800</td>\n",
       "      <td>37081403</td>\n",
       "    </tr>\n",
       "    <tr>\n",
       "      <th>2019-07-24 00:00:00-04:00</th>\n",
       "      <td>111.33</td>\n",
       "      <td>111.4100</td>\n",
       "      <td>111.2950</td>\n",
       "      <td>111.3600</td>\n",
       "      <td>2583309</td>\n",
       "      <td>299.190</td>\n",
       "      <td>301.4200</td>\n",
       "      <td>299.0900</td>\n",
       "      <td>301.3800</td>\n",
       "      <td>35918479</td>\n",
       "    </tr>\n",
       "    <tr>\n",
       "      <th>2019-07-25 00:00:00-04:00</th>\n",
       "      <td>111.33</td>\n",
       "      <td>111.3300</td>\n",
       "      <td>111.0474</td>\n",
       "      <td>111.2000</td>\n",
       "      <td>2691764</td>\n",
       "      <td>300.940</td>\n",
       "      <td>301.0000</td>\n",
       "      <td>299.1100</td>\n",
       "      <td>299.9595</td>\n",
       "      <td>41205709</td>\n",
       "    </tr>\n",
       "    <tr>\n",
       "      <th>2019-07-26 00:00:00-04:00</th>\n",
       "      <td>111.32</td>\n",
       "      <td>111.3200</td>\n",
       "      <td>111.1400</td>\n",
       "      <td>111.2295</td>\n",
       "      <td>3324597</td>\n",
       "      <td>300.760</td>\n",
       "      <td>302.2300</td>\n",
       "      <td>300.6200</td>\n",
       "      <td>301.9900</td>\n",
       "      <td>31573461</td>\n",
       "    </tr>\n",
       "    <tr>\n",
       "      <th>2019-07-29 00:00:00-04:00</th>\n",
       "      <td>111.30</td>\n",
       "      <td>111.3500</td>\n",
       "      <td>111.2200</td>\n",
       "      <td>111.2400</td>\n",
       "      <td>3601926</td>\n",
       "      <td>301.880</td>\n",
       "      <td>302.0100</td>\n",
       "      <td>300.8500</td>\n",
       "      <td>301.4800</td>\n",
       "      <td>30716784</td>\n",
       "    </tr>\n",
       "    <tr>\n",
       "      <th>2019-07-30 00:00:00-04:00</th>\n",
       "      <td>111.27</td>\n",
       "      <td>111.3300</td>\n",
       "      <td>111.1600</td>\n",
       "      <td>111.2600</td>\n",
       "      <td>1961423</td>\n",
       "      <td>299.910</td>\n",
       "      <td>301.1700</td>\n",
       "      <td>299.4900</td>\n",
       "      <td>300.8200</td>\n",
       "      <td>36845878</td>\n",
       "    </tr>\n",
       "    <tr>\n",
       "      <th>2019-07-31 00:00:00-04:00</th>\n",
       "      <td>111.30</td>\n",
       "      <td>111.5900</td>\n",
       "      <td>111.0700</td>\n",
       "      <td>111.3000</td>\n",
       "      <td>7434391</td>\n",
       "      <td>300.990</td>\n",
       "      <td>301.2000</td>\n",
       "      <td>295.2000</td>\n",
       "      <td>297.4000</td>\n",
       "      <td>86217888</td>\n",
       "    </tr>\n",
       "    <tr>\n",
       "      <th>2019-08-01 00:00:00-04:00</th>\n",
       "      <td>111.34</td>\n",
       "      <td>111.9500</td>\n",
       "      <td>111.2600</td>\n",
       "      <td>111.9095</td>\n",
       "      <td>4537852</td>\n",
       "      <td>297.600</td>\n",
       "      <td>300.8700</td>\n",
       "      <td>293.9600</td>\n",
       "      <td>294.8800</td>\n",
       "      <td>118812176</td>\n",
       "    </tr>\n",
       "    <tr>\n",
       "      <th>2019-08-02 00:00:00-04:00</th>\n",
       "      <td>111.93</td>\n",
       "      <td>112.0400</td>\n",
       "      <td>111.8200</td>\n",
       "      <td>111.9600</td>\n",
       "      <td>2757388</td>\n",
       "      <td>293.850</td>\n",
       "      <td>294.0100</td>\n",
       "      <td>290.9000</td>\n",
       "      <td>292.7600</td>\n",
       "      <td>80287515</td>\n",
       "    </tr>\n",
       "    <tr>\n",
       "      <th>2019-08-05 00:00:00-04:00</th>\n",
       "      <td>112.28</td>\n",
       "      <td>112.5800</td>\n",
       "      <td>112.2500</td>\n",
       "      <td>112.4600</td>\n",
       "      <td>6965437</td>\n",
       "      <td>288.090</td>\n",
       "      <td>288.2100</td>\n",
       "      <td>281.7200</td>\n",
       "      <td>284.0400</td>\n",
       "      <td>139832961</td>\n",
       "    </tr>\n",
       "    <tr>\n",
       "      <th>2019-08-06 00:00:00-04:00</th>\n",
       "      <td>112.47</td>\n",
       "      <td>112.7600</td>\n",
       "      <td>112.4000</td>\n",
       "      <td>112.7200</td>\n",
       "      <td>4196665</td>\n",
       "      <td>285.910</td>\n",
       "      <td>288.0400</td>\n",
       "      <td>284.2800</td>\n",
       "      <td>287.7700</td>\n",
       "      <td>93116955</td>\n",
       "    </tr>\n",
       "    <tr>\n",
       "      <th>2019-08-07 00:00:00-04:00</th>\n",
       "      <td>113.17</td>\n",
       "      <td>113.2900</td>\n",
       "      <td>112.6100</td>\n",
       "      <td>112.6800</td>\n",
       "      <td>8588290</td>\n",
       "      <td>284.400</td>\n",
       "      <td>288.8200</td>\n",
       "      <td>282.0400</td>\n",
       "      <td>288.0300</td>\n",
       "      <td>104501931</td>\n",
       "    </tr>\n",
       "    <tr>\n",
       "      <th>2019-08-08 00:00:00-04:00</th>\n",
       "      <td>112.51</td>\n",
       "      <td>112.8200</td>\n",
       "      <td>112.3300</td>\n",
       "      <td>112.7800</td>\n",
       "      <td>3340919</td>\n",
       "      <td>289.620</td>\n",
       "      <td>293.5600</td>\n",
       "      <td>289.0100</td>\n",
       "      <td>293.5500</td>\n",
       "      <td>66991540</td>\n",
       "    </tr>\n",
       "    <tr>\n",
       "      <th>2019-08-09 00:00:00-04:00</th>\n",
       "      <td>112.86</td>\n",
       "      <td>112.9500</td>\n",
       "      <td>112.5750</td>\n",
       "      <td>112.6300</td>\n",
       "      <td>2152921</td>\n",
       "      <td>292.580</td>\n",
       "      <td>293.2400</td>\n",
       "      <td>289.6500</td>\n",
       "      <td>291.5900</td>\n",
       "      <td>74394337</td>\n",
       "    </tr>\n",
       "    <tr>\n",
       "      <th>2019-08-12 00:00:00-04:00</th>\n",
       "      <td>112.93</td>\n",
       "      <td>113.1850</td>\n",
       "      <td>112.8700</td>\n",
       "      <td>113.0650</td>\n",
       "      <td>1581109</td>\n",
       "      <td>289.960</td>\n",
       "      <td>290.5700</td>\n",
       "      <td>287.0200</td>\n",
       "      <td>288.1000</td>\n",
       "      <td>49917206</td>\n",
       "    </tr>\n",
       "    <tr>\n",
       "      <th>2019-08-13 00:00:00-04:00</th>\n",
       "      <td>113.15</td>\n",
       "      <td>113.1504</td>\n",
       "      <td>112.7850</td>\n",
       "      <td>112.8900</td>\n",
       "      <td>2452786</td>\n",
       "      <td>287.740</td>\n",
       "      <td>294.1500</td>\n",
       "      <td>287.3600</td>\n",
       "      <td>292.4300</td>\n",
       "      <td>77959723</td>\n",
       "    </tr>\n",
       "    <tr>\n",
       "      <th>2019-08-14 00:00:00-04:00</th>\n",
       "      <td>113.28</td>\n",
       "      <td>113.3800</td>\n",
       "      <td>113.2100</td>\n",
       "      <td>113.2600</td>\n",
       "      <td>2543412</td>\n",
       "      <td>288.070</td>\n",
       "      <td>292.4644</td>\n",
       "      <td>283.7600</td>\n",
       "      <td>283.9300</td>\n",
       "      <td>108269930</td>\n",
       "    </tr>\n",
       "    <tr>\n",
       "      <th>2019-08-15 00:00:00-04:00</th>\n",
       "      <td>113.39</td>\n",
       "      <td>113.9100</td>\n",
       "      <td>113.3700</td>\n",
       "      <td>113.7600</td>\n",
       "      <td>2654437</td>\n",
       "      <td>284.880</td>\n",
       "      <td>285.6400</td>\n",
       "      <td>282.3900</td>\n",
       "      <td>284.6900</td>\n",
       "      <td>78605260</td>\n",
       "    </tr>\n",
       "    <tr>\n",
       "      <th>2019-08-16 00:00:00-04:00</th>\n",
       "      <td>113.57</td>\n",
       "      <td>113.6850</td>\n",
       "      <td>113.3600</td>\n",
       "      <td>113.6700</td>\n",
       "      <td>4828939</td>\n",
       "      <td>286.455</td>\n",
       "      <td>289.3300</td>\n",
       "      <td>284.7138</td>\n",
       "      <td>288.8700</td>\n",
       "      <td>63335869</td>\n",
       "    </tr>\n",
       "    <tr>\n",
       "      <th>2019-08-19 00:00:00-04:00</th>\n",
       "      <td>113.34</td>\n",
       "      <td>113.4600</td>\n",
       "      <td>113.2700</td>\n",
       "      <td>113.3700</td>\n",
       "      <td>2650873</td>\n",
       "      <td>292.190</td>\n",
       "      <td>293.0800</td>\n",
       "      <td>291.4400</td>\n",
       "      <td>292.3200</td>\n",
       "      <td>43315000</td>\n",
       "    </tr>\n",
       "    <tr>\n",
       "      <th>2019-08-20 00:00:00-04:00</th>\n",
       "      <td>113.67</td>\n",
       "      <td>113.7000</td>\n",
       "      <td>113.5600</td>\n",
       "      <td>113.6900</td>\n",
       "      <td>2143854</td>\n",
       "      <td>291.770</td>\n",
       "      <td>292.3600</td>\n",
       "      <td>289.9500</td>\n",
       "      <td>290.0500</td>\n",
       "      <td>41470101</td>\n",
       "    </tr>\n",
       "    <tr>\n",
       "      <th>2019-08-21 00:00:00-04:00</th>\n",
       "      <td>113.51</td>\n",
       "      <td>113.8250</td>\n",
       "      <td>113.5100</td>\n",
       "      <td>113.6200</td>\n",
       "      <td>3238867</td>\n",
       "      <td>292.480</td>\n",
       "      <td>292.8600</td>\n",
       "      <td>291.7200</td>\n",
       "      <td>292.4300</td>\n",
       "      <td>40118468</td>\n",
       "    </tr>\n",
       "    <tr>\n",
       "      <th>2019-08-22 00:00:00-04:00</th>\n",
       "      <td>113.51</td>\n",
       "      <td>113.6791</td>\n",
       "      <td>113.3001</td>\n",
       "      <td>113.3205</td>\n",
       "      <td>5461413</td>\n",
       "      <td>293.230</td>\n",
       "      <td>293.9300</td>\n",
       "      <td>290.4000</td>\n",
       "      <td>292.3100</td>\n",
       "      <td>43889705</td>\n",
       "    </tr>\n",
       "    <tr>\n",
       "      <th>2019-08-23 00:00:00-04:00</th>\n",
       "      <td>113.34</td>\n",
       "      <td>113.9099</td>\n",
       "      <td>113.3100</td>\n",
       "      <td>113.7900</td>\n",
       "      <td>3372807</td>\n",
       "      <td>290.930</td>\n",
       "      <td>292.7600</td>\n",
       "      <td>283.4700</td>\n",
       "      <td>284.8100</td>\n",
       "      <td>111222081</td>\n",
       "    </tr>\n",
       "    <tr>\n",
       "      <th>2019-08-26 00:00:00-04:00</th>\n",
       "      <td>113.84</td>\n",
       "      <td>113.9500</td>\n",
       "      <td>113.6700</td>\n",
       "      <td>113.7300</td>\n",
       "      <td>3428084</td>\n",
       "      <td>287.270</td>\n",
       "      <td>287.9900</td>\n",
       "      <td>285.5800</td>\n",
       "      <td>287.9700</td>\n",
       "      <td>55417381</td>\n",
       "    </tr>\n",
       "    <tr>\n",
       "      <th>2019-08-27 00:00:00-04:00</th>\n",
       "      <td>113.91</td>\n",
       "      <td>114.1200</td>\n",
       "      <td>113.8700</td>\n",
       "      <td>114.0900</td>\n",
       "      <td>2005511</td>\n",
       "      <td>289.540</td>\n",
       "      <td>289.9500</td>\n",
       "      <td>286.0300</td>\n",
       "      <td>286.8400</td>\n",
       "      <td>57062542</td>\n",
       "    </tr>\n",
       "    <tr>\n",
       "      <th>2019-08-28 00:00:00-04:00</th>\n",
       "      <td>114.30</td>\n",
       "      <td>114.3000</td>\n",
       "      <td>114.0400</td>\n",
       "      <td>114.1100</td>\n",
       "      <td>4006428</td>\n",
       "      <td>286.140</td>\n",
       "      <td>289.0700</td>\n",
       "      <td>285.2500</td>\n",
       "      <td>288.8400</td>\n",
       "      <td>50136080</td>\n",
       "    </tr>\n",
       "    <tr>\n",
       "      <th>2019-08-29 00:00:00-04:00</th>\n",
       "      <td>114.08</td>\n",
       "      <td>114.0800</td>\n",
       "      <td>113.8350</td>\n",
       "      <td>114.0300</td>\n",
       "      <td>2476914</td>\n",
       "      <td>291.720</td>\n",
       "      <td>293.1600</td>\n",
       "      <td>290.6100</td>\n",
       "      <td>292.5600</td>\n",
       "      <td>46853904</td>\n",
       "    </tr>\n",
       "    <tr>\n",
       "      <th>2019-08-30 00:00:00-04:00</th>\n",
       "      <td>113.90</td>\n",
       "      <td>114.1500</td>\n",
       "      <td>113.8900</td>\n",
       "      <td>114.1250</td>\n",
       "      <td>3707090</td>\n",
       "      <td>294.220</td>\n",
       "      <td>294.2399</td>\n",
       "      <td>291.4200</td>\n",
       "      <td>292.4527</td>\n",
       "      <td>49059839</td>\n",
       "    </tr>\n",
       "    <tr>\n",
       "      <th>2019-09-03 00:00:00-04:00</th>\n",
       "      <td>113.86</td>\n",
       "      <td>114.1200</td>\n",
       "      <td>113.6900</td>\n",
       "      <td>113.8550</td>\n",
       "      <td>5281206</td>\n",
       "      <td>290.570</td>\n",
       "      <td>291.5800</td>\n",
       "      <td>289.2700</td>\n",
       "      <td>290.7750</td>\n",
       "      <td>52837823</td>\n",
       "    </tr>\n",
       "    <tr>\n",
       "      <th>...</th>\n",
       "      <td>...</td>\n",
       "      <td>...</td>\n",
       "      <td>...</td>\n",
       "      <td>...</td>\n",
       "      <td>...</td>\n",
       "      <td>...</td>\n",
       "      <td>...</td>\n",
       "      <td>...</td>\n",
       "      <td>...</td>\n",
       "      <td>...</td>\n",
       "    </tr>\n",
       "    <tr>\n",
       "      <th>2020-06-12 00:00:00-04:00</th>\n",
       "      <td>117.60</td>\n",
       "      <td>117.7000</td>\n",
       "      <td>117.5700</td>\n",
       "      <td>117.6400</td>\n",
       "      <td>1790030</td>\n",
       "      <td>308.240</td>\n",
       "      <td>309.0800</td>\n",
       "      <td>298.6000</td>\n",
       "      <td>304.2800</td>\n",
       "      <td>168502612</td>\n",
       "    </tr>\n",
       "    <tr>\n",
       "      <th>2020-06-15 00:00:00-04:00</th>\n",
       "      <td>117.72</td>\n",
       "      <td>117.9800</td>\n",
       "      <td>117.6100</td>\n",
       "      <td>117.9400</td>\n",
       "      <td>8120154</td>\n",
       "      <td>298.020</td>\n",
       "      <td>308.2800</td>\n",
       "      <td>296.7400</td>\n",
       "      <td>307.0300</td>\n",
       "      <td>246933334</td>\n",
       "    </tr>\n",
       "    <tr>\n",
       "      <th>2020-06-16 00:00:00-04:00</th>\n",
       "      <td>117.98</td>\n",
       "      <td>118.0000</td>\n",
       "      <td>117.5900</td>\n",
       "      <td>117.6800</td>\n",
       "      <td>9274606</td>\n",
       "      <td>315.480</td>\n",
       "      <td>315.6400</td>\n",
       "      <td>307.6700</td>\n",
       "      <td>312.9300</td>\n",
       "      <td>241870738</td>\n",
       "    </tr>\n",
       "    <tr>\n",
       "      <th>2020-06-17 00:00:00-04:00</th>\n",
       "      <td>117.74</td>\n",
       "      <td>117.7600</td>\n",
       "      <td>117.4700</td>\n",
       "      <td>117.6400</td>\n",
       "      <td>7241112</td>\n",
       "      <td>314.070</td>\n",
       "      <td>314.3900</td>\n",
       "      <td>310.8600</td>\n",
       "      <td>311.5600</td>\n",
       "      <td>147035711</td>\n",
       "    </tr>\n",
       "    <tr>\n",
       "      <th>2020-06-18 00:00:00-04:00</th>\n",
       "      <td>117.88</td>\n",
       "      <td>117.8800</td>\n",
       "      <td>117.6400</td>\n",
       "      <td>117.7900</td>\n",
       "      <td>5689912</td>\n",
       "      <td>310.005</td>\n",
       "      <td>312.3000</td>\n",
       "      <td>309.5100</td>\n",
       "      <td>311.7400</td>\n",
       "      <td>128833528</td>\n",
       "    </tr>\n",
       "    <tr>\n",
       "      <th>2020-06-19 00:00:00-04:00</th>\n",
       "      <td>117.80</td>\n",
       "      <td>117.9700</td>\n",
       "      <td>117.7400</td>\n",
       "      <td>117.8300</td>\n",
       "      <td>5269076</td>\n",
       "      <td>314.170</td>\n",
       "      <td>314.3800</td>\n",
       "      <td>306.5300</td>\n",
       "      <td>308.5600</td>\n",
       "      <td>223746346</td>\n",
       "    </tr>\n",
       "    <tr>\n",
       "      <th>2020-06-22 00:00:00-04:00</th>\n",
       "      <td>118.00</td>\n",
       "      <td>118.0000</td>\n",
       "      <td>117.7300</td>\n",
       "      <td>117.7700</td>\n",
       "      <td>3189556</td>\n",
       "      <td>307.990</td>\n",
       "      <td>311.0500</td>\n",
       "      <td>306.7500</td>\n",
       "      <td>310.6800</td>\n",
       "      <td>61103957</td>\n",
       "    </tr>\n",
       "    <tr>\n",
       "      <th>2020-06-23 00:00:00-04:00</th>\n",
       "      <td>117.79</td>\n",
       "      <td>117.8250</td>\n",
       "      <td>117.6900</td>\n",
       "      <td>117.7200</td>\n",
       "      <td>3845665</td>\n",
       "      <td>313.490</td>\n",
       "      <td>314.4900</td>\n",
       "      <td>311.6101</td>\n",
       "      <td>312.0300</td>\n",
       "      <td>56029323</td>\n",
       "    </tr>\n",
       "    <tr>\n",
       "      <th>2020-06-24 00:00:00-04:00</th>\n",
       "      <td>117.70</td>\n",
       "      <td>117.8400</td>\n",
       "      <td>117.6100</td>\n",
       "      <td>117.7500</td>\n",
       "      <td>4714563</td>\n",
       "      <td>309.840</td>\n",
       "      <td>310.5100</td>\n",
       "      <td>302.1000</td>\n",
       "      <td>304.1200</td>\n",
       "      <td>109892325</td>\n",
       "    </tr>\n",
       "    <tr>\n",
       "      <th>2020-06-25 00:00:00-04:00</th>\n",
       "      <td>117.94</td>\n",
       "      <td>117.9500</td>\n",
       "      <td>117.8000</td>\n",
       "      <td>117.8500</td>\n",
       "      <td>4338474</td>\n",
       "      <td>303.470</td>\n",
       "      <td>307.6400</td>\n",
       "      <td>301.2800</td>\n",
       "      <td>307.3100</td>\n",
       "      <td>74516605</td>\n",
       "    </tr>\n",
       "    <tr>\n",
       "      <th>2020-06-26 00:00:00-04:00</th>\n",
       "      <td>117.99</td>\n",
       "      <td>118.0800</td>\n",
       "      <td>117.8450</td>\n",
       "      <td>118.0200</td>\n",
       "      <td>5537471</td>\n",
       "      <td>306.160</td>\n",
       "      <td>306.3900</td>\n",
       "      <td>299.4200</td>\n",
       "      <td>300.0100</td>\n",
       "      <td>100618111</td>\n",
       "    </tr>\n",
       "    <tr>\n",
       "      <th>2020-06-29 00:00:00-04:00</th>\n",
       "      <td>118.01</td>\n",
       "      <td>118.1100</td>\n",
       "      <td>117.9500</td>\n",
       "      <td>118.0900</td>\n",
       "      <td>3212966</td>\n",
       "      <td>301.410</td>\n",
       "      <td>304.4500</td>\n",
       "      <td>298.9300</td>\n",
       "      <td>304.4300</td>\n",
       "      <td>64142958</td>\n",
       "    </tr>\n",
       "    <tr>\n",
       "      <th>2020-06-30 00:00:00-04:00</th>\n",
       "      <td>118.28</td>\n",
       "      <td>118.3200</td>\n",
       "      <td>117.9800</td>\n",
       "      <td>118.2000</td>\n",
       "      <td>5643934</td>\n",
       "      <td>303.990</td>\n",
       "      <td>310.2000</td>\n",
       "      <td>303.8200</td>\n",
       "      <td>308.5700</td>\n",
       "      <td>79864685</td>\n",
       "    </tr>\n",
       "    <tr>\n",
       "      <th>2020-07-01 00:00:00-04:00</th>\n",
       "      <td>117.90</td>\n",
       "      <td>118.0700</td>\n",
       "      <td>117.7600</td>\n",
       "      <td>118.0300</td>\n",
       "      <td>6247232</td>\n",
       "      <td>309.570</td>\n",
       "      <td>311.8900</td>\n",
       "      <td>309.0700</td>\n",
       "      <td>310.5700</td>\n",
       "      <td>59243827</td>\n",
       "    </tr>\n",
       "    <tr>\n",
       "      <th>2020-07-02 00:00:00-04:00</th>\n",
       "      <td>118.05</td>\n",
       "      <td>118.2100</td>\n",
       "      <td>117.9900</td>\n",
       "      <td>118.1800</td>\n",
       "      <td>3317392</td>\n",
       "      <td>314.240</td>\n",
       "      <td>315.7000</td>\n",
       "      <td>311.5100</td>\n",
       "      <td>312.1800</td>\n",
       "      <td>58907707</td>\n",
       "    </tr>\n",
       "    <tr>\n",
       "      <th>2020-07-06 00:00:00-04:00</th>\n",
       "      <td>118.18</td>\n",
       "      <td>118.2100</td>\n",
       "      <td>118.0000</td>\n",
       "      <td>118.1600</td>\n",
       "      <td>4663625</td>\n",
       "      <td>316.370</td>\n",
       "      <td>317.6800</td>\n",
       "      <td>315.5600</td>\n",
       "      <td>316.9900</td>\n",
       "      <td>51751682</td>\n",
       "    </tr>\n",
       "    <tr>\n",
       "      <th>2020-07-07 00:00:00-04:00</th>\n",
       "      <td>118.23</td>\n",
       "      <td>118.3800</td>\n",
       "      <td>118.0600</td>\n",
       "      <td>118.3600</td>\n",
       "      <td>5373298</td>\n",
       "      <td>315.380</td>\n",
       "      <td>317.5200</td>\n",
       "      <td>313.3700</td>\n",
       "      <td>313.7200</td>\n",
       "      <td>71585557</td>\n",
       "    </tr>\n",
       "    <tr>\n",
       "      <th>2020-07-08 00:00:00-04:00</th>\n",
       "      <td>118.35</td>\n",
       "      <td>118.4500</td>\n",
       "      <td>118.2200</td>\n",
       "      <td>118.3050</td>\n",
       "      <td>3942821</td>\n",
       "      <td>314.610</td>\n",
       "      <td>316.3000</td>\n",
       "      <td>312.7000</td>\n",
       "      <td>316.1200</td>\n",
       "      <td>48519883</td>\n",
       "    </tr>\n",
       "    <tr>\n",
       "      <th>2020-07-09 00:00:00-04:00</th>\n",
       "      <td>118.40</td>\n",
       "      <td>118.7000</td>\n",
       "      <td>118.3553</td>\n",
       "      <td>118.6400</td>\n",
       "      <td>3560921</td>\n",
       "      <td>316.840</td>\n",
       "      <td>317.1000</td>\n",
       "      <td>310.6800</td>\n",
       "      <td>314.4200</td>\n",
       "      <td>73998876</td>\n",
       "    </tr>\n",
       "    <tr>\n",
       "      <th>2020-07-10 00:00:00-04:00</th>\n",
       "      <td>118.83</td>\n",
       "      <td>118.8300</td>\n",
       "      <td>118.4500</td>\n",
       "      <td>118.4700</td>\n",
       "      <td>2910802</td>\n",
       "      <td>314.310</td>\n",
       "      <td>317.8800</td>\n",
       "      <td>312.7600</td>\n",
       "      <td>317.6100</td>\n",
       "      <td>49822174</td>\n",
       "    </tr>\n",
       "    <tr>\n",
       "      <th>2020-07-13 00:00:00-04:00</th>\n",
       "      <td>118.46</td>\n",
       "      <td>118.5287</td>\n",
       "      <td>118.3700</td>\n",
       "      <td>118.4800</td>\n",
       "      <td>4032929</td>\n",
       "      <td>320.130</td>\n",
       "      <td>322.7100</td>\n",
       "      <td>314.1300</td>\n",
       "      <td>314.8100</td>\n",
       "      <td>87626307</td>\n",
       "    </tr>\n",
       "    <tr>\n",
       "      <th>2020-07-14 00:00:00-04:00</th>\n",
       "      <td>118.58</td>\n",
       "      <td>118.7400</td>\n",
       "      <td>118.5800</td>\n",
       "      <td>118.6550</td>\n",
       "      <td>3611959</td>\n",
       "      <td>313.300</td>\n",
       "      <td>319.7600</td>\n",
       "      <td>312.0000</td>\n",
       "      <td>318.8900</td>\n",
       "      <td>79292036</td>\n",
       "    </tr>\n",
       "    <tr>\n",
       "      <th>2020-07-15 00:00:00-04:00</th>\n",
       "      <td>118.50</td>\n",
       "      <td>118.7000</td>\n",
       "      <td>118.5000</td>\n",
       "      <td>118.6350</td>\n",
       "      <td>3108307</td>\n",
       "      <td>322.410</td>\n",
       "      <td>323.0400</td>\n",
       "      <td>319.2650</td>\n",
       "      <td>321.8650</td>\n",
       "      <td>75854842</td>\n",
       "    </tr>\n",
       "    <tr>\n",
       "      <th>2020-07-16 00:00:00-04:00</th>\n",
       "      <td>118.83</td>\n",
       "      <td>118.8900</td>\n",
       "      <td>118.7400</td>\n",
       "      <td>118.7900</td>\n",
       "      <td>3215937</td>\n",
       "      <td>319.790</td>\n",
       "      <td>321.2800</td>\n",
       "      <td>319.0900</td>\n",
       "      <td>320.8100</td>\n",
       "      <td>47848514</td>\n",
       "    </tr>\n",
       "    <tr>\n",
       "      <th>2020-07-17 00:00:00-04:00</th>\n",
       "      <td>118.94</td>\n",
       "      <td>118.9900</td>\n",
       "      <td>118.7700</td>\n",
       "      <td>118.8600</td>\n",
       "      <td>2451388</td>\n",
       "      <td>321.880</td>\n",
       "      <td>322.5700</td>\n",
       "      <td>319.7350</td>\n",
       "      <td>321.6700</td>\n",
       "      <td>53682925</td>\n",
       "    </tr>\n",
       "    <tr>\n",
       "      <th>2020-07-20 00:00:00-04:00</th>\n",
       "      <td>119.03</td>\n",
       "      <td>119.0600</td>\n",
       "      <td>118.9100</td>\n",
       "      <td>118.9800</td>\n",
       "      <td>3453764</td>\n",
       "      <td>321.430</td>\n",
       "      <td>325.1300</td>\n",
       "      <td>320.6200</td>\n",
       "      <td>324.3600</td>\n",
       "      <td>48315472</td>\n",
       "    </tr>\n",
       "    <tr>\n",
       "      <th>2020-07-21 00:00:00-04:00</th>\n",
       "      <td>119.10</td>\n",
       "      <td>119.1000</td>\n",
       "      <td>119.0100</td>\n",
       "      <td>119.0500</td>\n",
       "      <td>4459705</td>\n",
       "      <td>326.450</td>\n",
       "      <td>326.9300</td>\n",
       "      <td>323.9400</td>\n",
       "      <td>324.9600</td>\n",
       "      <td>49155550</td>\n",
       "    </tr>\n",
       "    <tr>\n",
       "      <th>2020-07-22 00:00:00-04:00</th>\n",
       "      <td>119.22</td>\n",
       "      <td>119.2700</td>\n",
       "      <td>119.1100</td>\n",
       "      <td>119.1800</td>\n",
       "      <td>9385338</td>\n",
       "      <td>324.620</td>\n",
       "      <td>327.2000</td>\n",
       "      <td>324.5000</td>\n",
       "      <td>326.8200</td>\n",
       "      <td>76092164</td>\n",
       "    </tr>\n",
       "    <tr>\n",
       "      <th>2020-07-23 00:00:00-04:00</th>\n",
       "      <td>119.35</td>\n",
       "      <td>119.3900</td>\n",
       "      <td>119.2517</td>\n",
       "      <td>119.3600</td>\n",
       "      <td>24110606</td>\n",
       "      <td>326.470</td>\n",
       "      <td>327.2300</td>\n",
       "      <td>321.4800</td>\n",
       "      <td>322.9350</td>\n",
       "      <td>136040824</td>\n",
       "    </tr>\n",
       "    <tr>\n",
       "      <th>2020-07-24 00:00:00-04:00</th>\n",
       "      <td>119.25</td>\n",
       "      <td>119.4100</td>\n",
       "      <td>119.2500</td>\n",
       "      <td>119.2900</td>\n",
       "      <td>20333652</td>\n",
       "      <td>320.420</td>\n",
       "      <td>321.9900</td>\n",
       "      <td>319.2460</td>\n",
       "      <td>320.8600</td>\n",
       "      <td>101595687</td>\n",
       "    </tr>\n",
       "  </tbody>\n",
       "</table>\n",
       "<p>255 rows × 10 columns</p>\n",
       "</div>"
      ],
      "text/plain": [
       "                              AGG                                          \\\n",
       "                             open      high       low     close    volume   \n",
       "time                                                                        \n",
       "2019-07-23 00:00:00-04:00  111.27  111.3200  111.1600  111.2000   2380357   \n",
       "2019-07-24 00:00:00-04:00  111.33  111.4100  111.2950  111.3600   2583309   \n",
       "2019-07-25 00:00:00-04:00  111.33  111.3300  111.0474  111.2000   2691764   \n",
       "2019-07-26 00:00:00-04:00  111.32  111.3200  111.1400  111.2295   3324597   \n",
       "2019-07-29 00:00:00-04:00  111.30  111.3500  111.2200  111.2400   3601926   \n",
       "2019-07-30 00:00:00-04:00  111.27  111.3300  111.1600  111.2600   1961423   \n",
       "2019-07-31 00:00:00-04:00  111.30  111.5900  111.0700  111.3000   7434391   \n",
       "2019-08-01 00:00:00-04:00  111.34  111.9500  111.2600  111.9095   4537852   \n",
       "2019-08-02 00:00:00-04:00  111.93  112.0400  111.8200  111.9600   2757388   \n",
       "2019-08-05 00:00:00-04:00  112.28  112.5800  112.2500  112.4600   6965437   \n",
       "2019-08-06 00:00:00-04:00  112.47  112.7600  112.4000  112.7200   4196665   \n",
       "2019-08-07 00:00:00-04:00  113.17  113.2900  112.6100  112.6800   8588290   \n",
       "2019-08-08 00:00:00-04:00  112.51  112.8200  112.3300  112.7800   3340919   \n",
       "2019-08-09 00:00:00-04:00  112.86  112.9500  112.5750  112.6300   2152921   \n",
       "2019-08-12 00:00:00-04:00  112.93  113.1850  112.8700  113.0650   1581109   \n",
       "2019-08-13 00:00:00-04:00  113.15  113.1504  112.7850  112.8900   2452786   \n",
       "2019-08-14 00:00:00-04:00  113.28  113.3800  113.2100  113.2600   2543412   \n",
       "2019-08-15 00:00:00-04:00  113.39  113.9100  113.3700  113.7600   2654437   \n",
       "2019-08-16 00:00:00-04:00  113.57  113.6850  113.3600  113.6700   4828939   \n",
       "2019-08-19 00:00:00-04:00  113.34  113.4600  113.2700  113.3700   2650873   \n",
       "2019-08-20 00:00:00-04:00  113.67  113.7000  113.5600  113.6900   2143854   \n",
       "2019-08-21 00:00:00-04:00  113.51  113.8250  113.5100  113.6200   3238867   \n",
       "2019-08-22 00:00:00-04:00  113.51  113.6791  113.3001  113.3205   5461413   \n",
       "2019-08-23 00:00:00-04:00  113.34  113.9099  113.3100  113.7900   3372807   \n",
       "2019-08-26 00:00:00-04:00  113.84  113.9500  113.6700  113.7300   3428084   \n",
       "2019-08-27 00:00:00-04:00  113.91  114.1200  113.8700  114.0900   2005511   \n",
       "2019-08-28 00:00:00-04:00  114.30  114.3000  114.0400  114.1100   4006428   \n",
       "2019-08-29 00:00:00-04:00  114.08  114.0800  113.8350  114.0300   2476914   \n",
       "2019-08-30 00:00:00-04:00  113.90  114.1500  113.8900  114.1250   3707090   \n",
       "2019-09-03 00:00:00-04:00  113.86  114.1200  113.6900  113.8550   5281206   \n",
       "...                           ...       ...       ...       ...       ...   \n",
       "2020-06-12 00:00:00-04:00  117.60  117.7000  117.5700  117.6400   1790030   \n",
       "2020-06-15 00:00:00-04:00  117.72  117.9800  117.6100  117.9400   8120154   \n",
       "2020-06-16 00:00:00-04:00  117.98  118.0000  117.5900  117.6800   9274606   \n",
       "2020-06-17 00:00:00-04:00  117.74  117.7600  117.4700  117.6400   7241112   \n",
       "2020-06-18 00:00:00-04:00  117.88  117.8800  117.6400  117.7900   5689912   \n",
       "2020-06-19 00:00:00-04:00  117.80  117.9700  117.7400  117.8300   5269076   \n",
       "2020-06-22 00:00:00-04:00  118.00  118.0000  117.7300  117.7700   3189556   \n",
       "2020-06-23 00:00:00-04:00  117.79  117.8250  117.6900  117.7200   3845665   \n",
       "2020-06-24 00:00:00-04:00  117.70  117.8400  117.6100  117.7500   4714563   \n",
       "2020-06-25 00:00:00-04:00  117.94  117.9500  117.8000  117.8500   4338474   \n",
       "2020-06-26 00:00:00-04:00  117.99  118.0800  117.8450  118.0200   5537471   \n",
       "2020-06-29 00:00:00-04:00  118.01  118.1100  117.9500  118.0900   3212966   \n",
       "2020-06-30 00:00:00-04:00  118.28  118.3200  117.9800  118.2000   5643934   \n",
       "2020-07-01 00:00:00-04:00  117.90  118.0700  117.7600  118.0300   6247232   \n",
       "2020-07-02 00:00:00-04:00  118.05  118.2100  117.9900  118.1800   3317392   \n",
       "2020-07-06 00:00:00-04:00  118.18  118.2100  118.0000  118.1600   4663625   \n",
       "2020-07-07 00:00:00-04:00  118.23  118.3800  118.0600  118.3600   5373298   \n",
       "2020-07-08 00:00:00-04:00  118.35  118.4500  118.2200  118.3050   3942821   \n",
       "2020-07-09 00:00:00-04:00  118.40  118.7000  118.3553  118.6400   3560921   \n",
       "2020-07-10 00:00:00-04:00  118.83  118.8300  118.4500  118.4700   2910802   \n",
       "2020-07-13 00:00:00-04:00  118.46  118.5287  118.3700  118.4800   4032929   \n",
       "2020-07-14 00:00:00-04:00  118.58  118.7400  118.5800  118.6550   3611959   \n",
       "2020-07-15 00:00:00-04:00  118.50  118.7000  118.5000  118.6350   3108307   \n",
       "2020-07-16 00:00:00-04:00  118.83  118.8900  118.7400  118.7900   3215937   \n",
       "2020-07-17 00:00:00-04:00  118.94  118.9900  118.7700  118.8600   2451388   \n",
       "2020-07-20 00:00:00-04:00  119.03  119.0600  118.9100  118.9800   3453764   \n",
       "2020-07-21 00:00:00-04:00  119.10  119.1000  119.0100  119.0500   4459705   \n",
       "2020-07-22 00:00:00-04:00  119.22  119.2700  119.1100  119.1800   9385338   \n",
       "2020-07-23 00:00:00-04:00  119.35  119.3900  119.2517  119.3600  24110606   \n",
       "2020-07-24 00:00:00-04:00  119.25  119.4100  119.2500  119.2900  20333652   \n",
       "\n",
       "                               SPY                                           \n",
       "                              open      high       low     close     volume  \n",
       "time                                                                         \n",
       "2019-07-23 00:00:00-04:00  299.140  300.0300  298.2200  299.9800   37081403  \n",
       "2019-07-24 00:00:00-04:00  299.190  301.4200  299.0900  301.3800   35918479  \n",
       "2019-07-25 00:00:00-04:00  300.940  301.0000  299.1100  299.9595   41205709  \n",
       "2019-07-26 00:00:00-04:00  300.760  302.2300  300.6200  301.9900   31573461  \n",
       "2019-07-29 00:00:00-04:00  301.880  302.0100  300.8500  301.4800   30716784  \n",
       "2019-07-30 00:00:00-04:00  299.910  301.1700  299.4900  300.8200   36845878  \n",
       "2019-07-31 00:00:00-04:00  300.990  301.2000  295.2000  297.4000   86217888  \n",
       "2019-08-01 00:00:00-04:00  297.600  300.8700  293.9600  294.8800  118812176  \n",
       "2019-08-02 00:00:00-04:00  293.850  294.0100  290.9000  292.7600   80287515  \n",
       "2019-08-05 00:00:00-04:00  288.090  288.2100  281.7200  284.0400  139832961  \n",
       "2019-08-06 00:00:00-04:00  285.910  288.0400  284.2800  287.7700   93116955  \n",
       "2019-08-07 00:00:00-04:00  284.400  288.8200  282.0400  288.0300  104501931  \n",
       "2019-08-08 00:00:00-04:00  289.620  293.5600  289.0100  293.5500   66991540  \n",
       "2019-08-09 00:00:00-04:00  292.580  293.2400  289.6500  291.5900   74394337  \n",
       "2019-08-12 00:00:00-04:00  289.960  290.5700  287.0200  288.1000   49917206  \n",
       "2019-08-13 00:00:00-04:00  287.740  294.1500  287.3600  292.4300   77959723  \n",
       "2019-08-14 00:00:00-04:00  288.070  292.4644  283.7600  283.9300  108269930  \n",
       "2019-08-15 00:00:00-04:00  284.880  285.6400  282.3900  284.6900   78605260  \n",
       "2019-08-16 00:00:00-04:00  286.455  289.3300  284.7138  288.8700   63335869  \n",
       "2019-08-19 00:00:00-04:00  292.190  293.0800  291.4400  292.3200   43315000  \n",
       "2019-08-20 00:00:00-04:00  291.770  292.3600  289.9500  290.0500   41470101  \n",
       "2019-08-21 00:00:00-04:00  292.480  292.8600  291.7200  292.4300   40118468  \n",
       "2019-08-22 00:00:00-04:00  293.230  293.9300  290.4000  292.3100   43889705  \n",
       "2019-08-23 00:00:00-04:00  290.930  292.7600  283.4700  284.8100  111222081  \n",
       "2019-08-26 00:00:00-04:00  287.270  287.9900  285.5800  287.9700   55417381  \n",
       "2019-08-27 00:00:00-04:00  289.540  289.9500  286.0300  286.8400   57062542  \n",
       "2019-08-28 00:00:00-04:00  286.140  289.0700  285.2500  288.8400   50136080  \n",
       "2019-08-29 00:00:00-04:00  291.720  293.1600  290.6100  292.5600   46853904  \n",
       "2019-08-30 00:00:00-04:00  294.220  294.2399  291.4200  292.4527   49059839  \n",
       "2019-09-03 00:00:00-04:00  290.570  291.5800  289.2700  290.7750   52837823  \n",
       "...                            ...       ...       ...       ...        ...  \n",
       "2020-06-12 00:00:00-04:00  308.240  309.0800  298.6000  304.2800  168502612  \n",
       "2020-06-15 00:00:00-04:00  298.020  308.2800  296.7400  307.0300  246933334  \n",
       "2020-06-16 00:00:00-04:00  315.480  315.6400  307.6700  312.9300  241870738  \n",
       "2020-06-17 00:00:00-04:00  314.070  314.3900  310.8600  311.5600  147035711  \n",
       "2020-06-18 00:00:00-04:00  310.005  312.3000  309.5100  311.7400  128833528  \n",
       "2020-06-19 00:00:00-04:00  314.170  314.3800  306.5300  308.5600  223746346  \n",
       "2020-06-22 00:00:00-04:00  307.990  311.0500  306.7500  310.6800   61103957  \n",
       "2020-06-23 00:00:00-04:00  313.490  314.4900  311.6101  312.0300   56029323  \n",
       "2020-06-24 00:00:00-04:00  309.840  310.5100  302.1000  304.1200  109892325  \n",
       "2020-06-25 00:00:00-04:00  303.470  307.6400  301.2800  307.3100   74516605  \n",
       "2020-06-26 00:00:00-04:00  306.160  306.3900  299.4200  300.0100  100618111  \n",
       "2020-06-29 00:00:00-04:00  301.410  304.4500  298.9300  304.4300   64142958  \n",
       "2020-06-30 00:00:00-04:00  303.990  310.2000  303.8200  308.5700   79864685  \n",
       "2020-07-01 00:00:00-04:00  309.570  311.8900  309.0700  310.5700   59243827  \n",
       "2020-07-02 00:00:00-04:00  314.240  315.7000  311.5100  312.1800   58907707  \n",
       "2020-07-06 00:00:00-04:00  316.370  317.6800  315.5600  316.9900   51751682  \n",
       "2020-07-07 00:00:00-04:00  315.380  317.5200  313.3700  313.7200   71585557  \n",
       "2020-07-08 00:00:00-04:00  314.610  316.3000  312.7000  316.1200   48519883  \n",
       "2020-07-09 00:00:00-04:00  316.840  317.1000  310.6800  314.4200   73998876  \n",
       "2020-07-10 00:00:00-04:00  314.310  317.8800  312.7600  317.6100   49822174  \n",
       "2020-07-13 00:00:00-04:00  320.130  322.7100  314.1300  314.8100   87626307  \n",
       "2020-07-14 00:00:00-04:00  313.300  319.7600  312.0000  318.8900   79292036  \n",
       "2020-07-15 00:00:00-04:00  322.410  323.0400  319.2650  321.8650   75854842  \n",
       "2020-07-16 00:00:00-04:00  319.790  321.2800  319.0900  320.8100   47848514  \n",
       "2020-07-17 00:00:00-04:00  321.880  322.5700  319.7350  321.6700   53682925  \n",
       "2020-07-20 00:00:00-04:00  321.430  325.1300  320.6200  324.3600   48315472  \n",
       "2020-07-21 00:00:00-04:00  326.450  326.9300  323.9400  324.9600   49155550  \n",
       "2020-07-22 00:00:00-04:00  324.620  327.2000  324.5000  326.8200   76092164  \n",
       "2020-07-23 00:00:00-04:00  326.470  327.2300  321.4800  322.9350  136040824  \n",
       "2020-07-24 00:00:00-04:00  320.420  321.9900  319.2460  320.8600  101595687  \n",
       "\n",
       "[255 rows x 10 columns]"
      ]
     },
     "execution_count": 171,
     "metadata": {},
     "output_type": "execute_result"
    }
   ],
   "source": [
    "df"
   ]
  },
  {
   "cell_type": "code",
   "execution_count": 172,
   "metadata": {},
   "outputs": [],
   "source": [
    "# Clean the data frame.\n",
    "df=df.drop(columns=[\"open\",\"high\",\"low\",\"volume\"],level=1)"
   ]
  },
  {
   "cell_type": "code",
   "execution_count": 173,
   "metadata": {},
   "outputs": [],
   "source": [
    "df=df.sort_index()"
   ]
  },
  {
   "cell_type": "code",
   "execution_count": 174,
   "metadata": {},
   "outputs": [
    {
     "data": {
      "text/html": [
       "<div>\n",
       "<style scoped>\n",
       "    .dataframe tbody tr th:only-of-type {\n",
       "        vertical-align: middle;\n",
       "    }\n",
       "\n",
       "    .dataframe tbody tr th {\n",
       "        vertical-align: top;\n",
       "    }\n",
       "\n",
       "    .dataframe thead tr th {\n",
       "        text-align: left;\n",
       "    }\n",
       "\n",
       "    .dataframe thead tr:last-of-type th {\n",
       "        text-align: right;\n",
       "    }\n",
       "</style>\n",
       "<table border=\"1\" class=\"dataframe\">\n",
       "  <thead>\n",
       "    <tr>\n",
       "      <th></th>\n",
       "      <th>AGG</th>\n",
       "      <th>SPY</th>\n",
       "    </tr>\n",
       "    <tr>\n",
       "      <th></th>\n",
       "      <th>close</th>\n",
       "      <th>close</th>\n",
       "    </tr>\n",
       "    <tr>\n",
       "      <th>time</th>\n",
       "      <th></th>\n",
       "      <th></th>\n",
       "    </tr>\n",
       "  </thead>\n",
       "  <tbody>\n",
       "    <tr>\n",
       "      <th>2019-07-23 00:00:00-04:00</th>\n",
       "      <td>111.2000</td>\n",
       "      <td>299.9800</td>\n",
       "    </tr>\n",
       "    <tr>\n",
       "      <th>2019-07-24 00:00:00-04:00</th>\n",
       "      <td>111.3600</td>\n",
       "      <td>301.3800</td>\n",
       "    </tr>\n",
       "    <tr>\n",
       "      <th>2019-07-25 00:00:00-04:00</th>\n",
       "      <td>111.2000</td>\n",
       "      <td>299.9595</td>\n",
       "    </tr>\n",
       "    <tr>\n",
       "      <th>2019-07-26 00:00:00-04:00</th>\n",
       "      <td>111.2295</td>\n",
       "      <td>301.9900</td>\n",
       "    </tr>\n",
       "    <tr>\n",
       "      <th>2019-07-29 00:00:00-04:00</th>\n",
       "      <td>111.2400</td>\n",
       "      <td>301.4800</td>\n",
       "    </tr>\n",
       "    <tr>\n",
       "      <th>2019-07-30 00:00:00-04:00</th>\n",
       "      <td>111.2600</td>\n",
       "      <td>300.8200</td>\n",
       "    </tr>\n",
       "    <tr>\n",
       "      <th>2019-07-31 00:00:00-04:00</th>\n",
       "      <td>111.3000</td>\n",
       "      <td>297.4000</td>\n",
       "    </tr>\n",
       "    <tr>\n",
       "      <th>2019-08-01 00:00:00-04:00</th>\n",
       "      <td>111.9095</td>\n",
       "      <td>294.8800</td>\n",
       "    </tr>\n",
       "    <tr>\n",
       "      <th>2019-08-02 00:00:00-04:00</th>\n",
       "      <td>111.9600</td>\n",
       "      <td>292.7600</td>\n",
       "    </tr>\n",
       "    <tr>\n",
       "      <th>2019-08-05 00:00:00-04:00</th>\n",
       "      <td>112.4600</td>\n",
       "      <td>284.0400</td>\n",
       "    </tr>\n",
       "    <tr>\n",
       "      <th>2019-08-06 00:00:00-04:00</th>\n",
       "      <td>112.7200</td>\n",
       "      <td>287.7700</td>\n",
       "    </tr>\n",
       "    <tr>\n",
       "      <th>2019-08-07 00:00:00-04:00</th>\n",
       "      <td>112.6800</td>\n",
       "      <td>288.0300</td>\n",
       "    </tr>\n",
       "    <tr>\n",
       "      <th>2019-08-08 00:00:00-04:00</th>\n",
       "      <td>112.7800</td>\n",
       "      <td>293.5500</td>\n",
       "    </tr>\n",
       "    <tr>\n",
       "      <th>2019-08-09 00:00:00-04:00</th>\n",
       "      <td>112.6300</td>\n",
       "      <td>291.5900</td>\n",
       "    </tr>\n",
       "    <tr>\n",
       "      <th>2019-08-12 00:00:00-04:00</th>\n",
       "      <td>113.0650</td>\n",
       "      <td>288.1000</td>\n",
       "    </tr>\n",
       "    <tr>\n",
       "      <th>2019-08-13 00:00:00-04:00</th>\n",
       "      <td>112.8900</td>\n",
       "      <td>292.4300</td>\n",
       "    </tr>\n",
       "    <tr>\n",
       "      <th>2019-08-14 00:00:00-04:00</th>\n",
       "      <td>113.2600</td>\n",
       "      <td>283.9300</td>\n",
       "    </tr>\n",
       "    <tr>\n",
       "      <th>2019-08-15 00:00:00-04:00</th>\n",
       "      <td>113.7600</td>\n",
       "      <td>284.6900</td>\n",
       "    </tr>\n",
       "    <tr>\n",
       "      <th>2019-08-16 00:00:00-04:00</th>\n",
       "      <td>113.6700</td>\n",
       "      <td>288.8700</td>\n",
       "    </tr>\n",
       "    <tr>\n",
       "      <th>2019-08-19 00:00:00-04:00</th>\n",
       "      <td>113.3700</td>\n",
       "      <td>292.3200</td>\n",
       "    </tr>\n",
       "    <tr>\n",
       "      <th>2019-08-20 00:00:00-04:00</th>\n",
       "      <td>113.6900</td>\n",
       "      <td>290.0500</td>\n",
       "    </tr>\n",
       "    <tr>\n",
       "      <th>2019-08-21 00:00:00-04:00</th>\n",
       "      <td>113.6200</td>\n",
       "      <td>292.4300</td>\n",
       "    </tr>\n",
       "    <tr>\n",
       "      <th>2019-08-22 00:00:00-04:00</th>\n",
       "      <td>113.3205</td>\n",
       "      <td>292.3100</td>\n",
       "    </tr>\n",
       "    <tr>\n",
       "      <th>2019-08-23 00:00:00-04:00</th>\n",
       "      <td>113.7900</td>\n",
       "      <td>284.8100</td>\n",
       "    </tr>\n",
       "    <tr>\n",
       "      <th>2019-08-26 00:00:00-04:00</th>\n",
       "      <td>113.7300</td>\n",
       "      <td>287.9700</td>\n",
       "    </tr>\n",
       "    <tr>\n",
       "      <th>2019-08-27 00:00:00-04:00</th>\n",
       "      <td>114.0900</td>\n",
       "      <td>286.8400</td>\n",
       "    </tr>\n",
       "    <tr>\n",
       "      <th>2019-08-28 00:00:00-04:00</th>\n",
       "      <td>114.1100</td>\n",
       "      <td>288.8400</td>\n",
       "    </tr>\n",
       "    <tr>\n",
       "      <th>2019-08-29 00:00:00-04:00</th>\n",
       "      <td>114.0300</td>\n",
       "      <td>292.5600</td>\n",
       "    </tr>\n",
       "    <tr>\n",
       "      <th>2019-08-30 00:00:00-04:00</th>\n",
       "      <td>114.1250</td>\n",
       "      <td>292.4527</td>\n",
       "    </tr>\n",
       "    <tr>\n",
       "      <th>2019-09-03 00:00:00-04:00</th>\n",
       "      <td>113.8550</td>\n",
       "      <td>290.7750</td>\n",
       "    </tr>\n",
       "    <tr>\n",
       "      <th>...</th>\n",
       "      <td>...</td>\n",
       "      <td>...</td>\n",
       "    </tr>\n",
       "    <tr>\n",
       "      <th>2020-06-12 00:00:00-04:00</th>\n",
       "      <td>117.6400</td>\n",
       "      <td>304.2800</td>\n",
       "    </tr>\n",
       "    <tr>\n",
       "      <th>2020-06-15 00:00:00-04:00</th>\n",
       "      <td>117.9400</td>\n",
       "      <td>307.0300</td>\n",
       "    </tr>\n",
       "    <tr>\n",
       "      <th>2020-06-16 00:00:00-04:00</th>\n",
       "      <td>117.6800</td>\n",
       "      <td>312.9300</td>\n",
       "    </tr>\n",
       "    <tr>\n",
       "      <th>2020-06-17 00:00:00-04:00</th>\n",
       "      <td>117.6400</td>\n",
       "      <td>311.5600</td>\n",
       "    </tr>\n",
       "    <tr>\n",
       "      <th>2020-06-18 00:00:00-04:00</th>\n",
       "      <td>117.7900</td>\n",
       "      <td>311.7400</td>\n",
       "    </tr>\n",
       "    <tr>\n",
       "      <th>2020-06-19 00:00:00-04:00</th>\n",
       "      <td>117.8300</td>\n",
       "      <td>308.5600</td>\n",
       "    </tr>\n",
       "    <tr>\n",
       "      <th>2020-06-22 00:00:00-04:00</th>\n",
       "      <td>117.7700</td>\n",
       "      <td>310.6800</td>\n",
       "    </tr>\n",
       "    <tr>\n",
       "      <th>2020-06-23 00:00:00-04:00</th>\n",
       "      <td>117.7200</td>\n",
       "      <td>312.0300</td>\n",
       "    </tr>\n",
       "    <tr>\n",
       "      <th>2020-06-24 00:00:00-04:00</th>\n",
       "      <td>117.7500</td>\n",
       "      <td>304.1200</td>\n",
       "    </tr>\n",
       "    <tr>\n",
       "      <th>2020-06-25 00:00:00-04:00</th>\n",
       "      <td>117.8500</td>\n",
       "      <td>307.3100</td>\n",
       "    </tr>\n",
       "    <tr>\n",
       "      <th>2020-06-26 00:00:00-04:00</th>\n",
       "      <td>118.0200</td>\n",
       "      <td>300.0100</td>\n",
       "    </tr>\n",
       "    <tr>\n",
       "      <th>2020-06-29 00:00:00-04:00</th>\n",
       "      <td>118.0900</td>\n",
       "      <td>304.4300</td>\n",
       "    </tr>\n",
       "    <tr>\n",
       "      <th>2020-06-30 00:00:00-04:00</th>\n",
       "      <td>118.2000</td>\n",
       "      <td>308.5700</td>\n",
       "    </tr>\n",
       "    <tr>\n",
       "      <th>2020-07-01 00:00:00-04:00</th>\n",
       "      <td>118.0300</td>\n",
       "      <td>310.5700</td>\n",
       "    </tr>\n",
       "    <tr>\n",
       "      <th>2020-07-02 00:00:00-04:00</th>\n",
       "      <td>118.1800</td>\n",
       "      <td>312.1800</td>\n",
       "    </tr>\n",
       "    <tr>\n",
       "      <th>2020-07-06 00:00:00-04:00</th>\n",
       "      <td>118.1600</td>\n",
       "      <td>316.9900</td>\n",
       "    </tr>\n",
       "    <tr>\n",
       "      <th>2020-07-07 00:00:00-04:00</th>\n",
       "      <td>118.3600</td>\n",
       "      <td>313.7200</td>\n",
       "    </tr>\n",
       "    <tr>\n",
       "      <th>2020-07-08 00:00:00-04:00</th>\n",
       "      <td>118.3050</td>\n",
       "      <td>316.1200</td>\n",
       "    </tr>\n",
       "    <tr>\n",
       "      <th>2020-07-09 00:00:00-04:00</th>\n",
       "      <td>118.6400</td>\n",
       "      <td>314.4200</td>\n",
       "    </tr>\n",
       "    <tr>\n",
       "      <th>2020-07-10 00:00:00-04:00</th>\n",
       "      <td>118.4700</td>\n",
       "      <td>317.6100</td>\n",
       "    </tr>\n",
       "    <tr>\n",
       "      <th>2020-07-13 00:00:00-04:00</th>\n",
       "      <td>118.4800</td>\n",
       "      <td>314.8100</td>\n",
       "    </tr>\n",
       "    <tr>\n",
       "      <th>2020-07-14 00:00:00-04:00</th>\n",
       "      <td>118.6550</td>\n",
       "      <td>318.8900</td>\n",
       "    </tr>\n",
       "    <tr>\n",
       "      <th>2020-07-15 00:00:00-04:00</th>\n",
       "      <td>118.6350</td>\n",
       "      <td>321.8650</td>\n",
       "    </tr>\n",
       "    <tr>\n",
       "      <th>2020-07-16 00:00:00-04:00</th>\n",
       "      <td>118.7900</td>\n",
       "      <td>320.8100</td>\n",
       "    </tr>\n",
       "    <tr>\n",
       "      <th>2020-07-17 00:00:00-04:00</th>\n",
       "      <td>118.8600</td>\n",
       "      <td>321.6700</td>\n",
       "    </tr>\n",
       "    <tr>\n",
       "      <th>2020-07-20 00:00:00-04:00</th>\n",
       "      <td>118.9800</td>\n",
       "      <td>324.3600</td>\n",
       "    </tr>\n",
       "    <tr>\n",
       "      <th>2020-07-21 00:00:00-04:00</th>\n",
       "      <td>119.0500</td>\n",
       "      <td>324.9600</td>\n",
       "    </tr>\n",
       "    <tr>\n",
       "      <th>2020-07-22 00:00:00-04:00</th>\n",
       "      <td>119.1800</td>\n",
       "      <td>326.8200</td>\n",
       "    </tr>\n",
       "    <tr>\n",
       "      <th>2020-07-23 00:00:00-04:00</th>\n",
       "      <td>119.3600</td>\n",
       "      <td>322.9350</td>\n",
       "    </tr>\n",
       "    <tr>\n",
       "      <th>2020-07-24 00:00:00-04:00</th>\n",
       "      <td>119.2900</td>\n",
       "      <td>320.8600</td>\n",
       "    </tr>\n",
       "  </tbody>\n",
       "</table>\n",
       "<p>255 rows × 2 columns</p>\n",
       "</div>"
      ],
      "text/plain": [
       "                                AGG       SPY\n",
       "                              close     close\n",
       "time                                         \n",
       "2019-07-23 00:00:00-04:00  111.2000  299.9800\n",
       "2019-07-24 00:00:00-04:00  111.3600  301.3800\n",
       "2019-07-25 00:00:00-04:00  111.2000  299.9595\n",
       "2019-07-26 00:00:00-04:00  111.2295  301.9900\n",
       "2019-07-29 00:00:00-04:00  111.2400  301.4800\n",
       "2019-07-30 00:00:00-04:00  111.2600  300.8200\n",
       "2019-07-31 00:00:00-04:00  111.3000  297.4000\n",
       "2019-08-01 00:00:00-04:00  111.9095  294.8800\n",
       "2019-08-02 00:00:00-04:00  111.9600  292.7600\n",
       "2019-08-05 00:00:00-04:00  112.4600  284.0400\n",
       "2019-08-06 00:00:00-04:00  112.7200  287.7700\n",
       "2019-08-07 00:00:00-04:00  112.6800  288.0300\n",
       "2019-08-08 00:00:00-04:00  112.7800  293.5500\n",
       "2019-08-09 00:00:00-04:00  112.6300  291.5900\n",
       "2019-08-12 00:00:00-04:00  113.0650  288.1000\n",
       "2019-08-13 00:00:00-04:00  112.8900  292.4300\n",
       "2019-08-14 00:00:00-04:00  113.2600  283.9300\n",
       "2019-08-15 00:00:00-04:00  113.7600  284.6900\n",
       "2019-08-16 00:00:00-04:00  113.6700  288.8700\n",
       "2019-08-19 00:00:00-04:00  113.3700  292.3200\n",
       "2019-08-20 00:00:00-04:00  113.6900  290.0500\n",
       "2019-08-21 00:00:00-04:00  113.6200  292.4300\n",
       "2019-08-22 00:00:00-04:00  113.3205  292.3100\n",
       "2019-08-23 00:00:00-04:00  113.7900  284.8100\n",
       "2019-08-26 00:00:00-04:00  113.7300  287.9700\n",
       "2019-08-27 00:00:00-04:00  114.0900  286.8400\n",
       "2019-08-28 00:00:00-04:00  114.1100  288.8400\n",
       "2019-08-29 00:00:00-04:00  114.0300  292.5600\n",
       "2019-08-30 00:00:00-04:00  114.1250  292.4527\n",
       "2019-09-03 00:00:00-04:00  113.8550  290.7750\n",
       "...                             ...       ...\n",
       "2020-06-12 00:00:00-04:00  117.6400  304.2800\n",
       "2020-06-15 00:00:00-04:00  117.9400  307.0300\n",
       "2020-06-16 00:00:00-04:00  117.6800  312.9300\n",
       "2020-06-17 00:00:00-04:00  117.6400  311.5600\n",
       "2020-06-18 00:00:00-04:00  117.7900  311.7400\n",
       "2020-06-19 00:00:00-04:00  117.8300  308.5600\n",
       "2020-06-22 00:00:00-04:00  117.7700  310.6800\n",
       "2020-06-23 00:00:00-04:00  117.7200  312.0300\n",
       "2020-06-24 00:00:00-04:00  117.7500  304.1200\n",
       "2020-06-25 00:00:00-04:00  117.8500  307.3100\n",
       "2020-06-26 00:00:00-04:00  118.0200  300.0100\n",
       "2020-06-29 00:00:00-04:00  118.0900  304.4300\n",
       "2020-06-30 00:00:00-04:00  118.2000  308.5700\n",
       "2020-07-01 00:00:00-04:00  118.0300  310.5700\n",
       "2020-07-02 00:00:00-04:00  118.1800  312.1800\n",
       "2020-07-06 00:00:00-04:00  118.1600  316.9900\n",
       "2020-07-07 00:00:00-04:00  118.3600  313.7200\n",
       "2020-07-08 00:00:00-04:00  118.3050  316.1200\n",
       "2020-07-09 00:00:00-04:00  118.6400  314.4200\n",
       "2020-07-10 00:00:00-04:00  118.4700  317.6100\n",
       "2020-07-13 00:00:00-04:00  118.4800  314.8100\n",
       "2020-07-14 00:00:00-04:00  118.6550  318.8900\n",
       "2020-07-15 00:00:00-04:00  118.6350  321.8650\n",
       "2020-07-16 00:00:00-04:00  118.7900  320.8100\n",
       "2020-07-17 00:00:00-04:00  118.8600  321.6700\n",
       "2020-07-20 00:00:00-04:00  118.9800  324.3600\n",
       "2020-07-21 00:00:00-04:00  119.0500  324.9600\n",
       "2020-07-22 00:00:00-04:00  119.1800  326.8200\n",
       "2020-07-23 00:00:00-04:00  119.3600  322.9350\n",
       "2020-07-24 00:00:00-04:00  119.2900  320.8600\n",
       "\n",
       "[255 rows x 2 columns]"
      ]
     },
     "execution_count": 174,
     "metadata": {},
     "output_type": "execute_result"
    }
   ],
   "source": [
    "df"
   ]
  },
  {
   "cell_type": "markdown",
   "metadata": {},
   "source": [
    "## **Monte Carlo Simulation**"
   ]
  },
  {
   "cell_type": "code",
   "execution_count": 175,
   "metadata": {},
   "outputs": [],
   "source": [
    "# Calculate the daily returns for the portfolio.\n",
    "daily_returns=df.pct_change()"
   ]
  },
  {
   "cell_type": "code",
   "execution_count": 176,
   "metadata": {},
   "outputs": [
    {
     "data": {
      "text/html": [
       "<div>\n",
       "<style scoped>\n",
       "    .dataframe tbody tr th:only-of-type {\n",
       "        vertical-align: middle;\n",
       "    }\n",
       "\n",
       "    .dataframe tbody tr th {\n",
       "        vertical-align: top;\n",
       "    }\n",
       "\n",
       "    .dataframe thead tr th {\n",
       "        text-align: left;\n",
       "    }\n",
       "\n",
       "    .dataframe thead tr:last-of-type th {\n",
       "        text-align: right;\n",
       "    }\n",
       "</style>\n",
       "<table border=\"1\" class=\"dataframe\">\n",
       "  <thead>\n",
       "    <tr>\n",
       "      <th></th>\n",
       "      <th>AGG</th>\n",
       "      <th>SPY</th>\n",
       "    </tr>\n",
       "    <tr>\n",
       "      <th></th>\n",
       "      <th>close</th>\n",
       "      <th>close</th>\n",
       "    </tr>\n",
       "    <tr>\n",
       "      <th>time</th>\n",
       "      <th></th>\n",
       "      <th></th>\n",
       "    </tr>\n",
       "  </thead>\n",
       "  <tbody>\n",
       "    <tr>\n",
       "      <th>2020-04-23 00:00:00-04:00</th>\n",
       "      <td>0.002562</td>\n",
       "      <td>-0.003037</td>\n",
       "    </tr>\n",
       "  </tbody>\n",
       "</table>\n",
       "</div>"
      ],
      "text/plain": [
       "                                AGG       SPY\n",
       "                              close     close\n",
       "time                                         \n",
       "2020-04-23 00:00:00-04:00  0.002562 -0.003037"
      ]
     },
     "execution_count": 176,
     "metadata": {},
     "output_type": "execute_result"
    }
   ],
   "source": [
    "# Give a sample of the data.\n",
    "daily_returns.sample()"
   ]
  },
  {
   "cell_type": "code",
   "execution_count": 177,
   "metadata": {},
   "outputs": [],
   "source": [
    "# Calculate the volatility of the data.\n",
    "daily_volatility=daily_returns.std()"
   ]
  },
  {
   "cell_type": "code",
   "execution_count": 178,
   "metadata": {},
   "outputs": [
    {
     "data": {
      "text/plain": [
       "AGG  close    0.005549\n",
       "SPY  close    0.021053\n",
       "dtype: float64"
      ]
     },
     "execution_count": 178,
     "metadata": {},
     "output_type": "execute_result"
    }
   ],
   "source": [
    "daily_volatility"
   ]
  },
  {
   "cell_type": "markdown",
   "metadata": {},
   "source": [
    "Here we see that \"AGG\" is a less volatile stock than \"SPY\" making it the safer investment in the portfolio."
   ]
  },
  {
   "cell_type": "code",
   "execution_count": 179,
   "metadata": {},
   "outputs": [],
   "source": [
    "daily_volatility_agg = daily_volatility[\"AGG\"][\"close\"]"
   ]
  },
  {
   "cell_type": "code",
   "execution_count": 180,
   "metadata": {},
   "outputs": [
    {
     "data": {
      "text/plain": [
       "0.00554927724338688"
      ]
     },
     "execution_count": 180,
     "metadata": {},
     "output_type": "execute_result"
    }
   ],
   "source": [
    "daily_volatility_agg"
   ]
  },
  {
   "cell_type": "code",
   "execution_count": 181,
   "metadata": {},
   "outputs": [],
   "source": [
    "daily_volatility_spy = daily_volatility[\"SPY\"][\"close\"]"
   ]
  },
  {
   "cell_type": "code",
   "execution_count": 182,
   "metadata": {},
   "outputs": [
    {
     "data": {
      "text/plain": [
       "0.021052727751028618"
      ]
     },
     "execution_count": 182,
     "metadata": {},
     "output_type": "execute_result"
    }
   ],
   "source": [
    "daily_volatility_spy"
   ]
  },
  {
   "cell_type": "code",
   "execution_count": 183,
   "metadata": {},
   "outputs": [],
   "source": [
    "# Calculate the average daily return."
   ]
  },
  {
   "cell_type": "code",
   "execution_count": 184,
   "metadata": {},
   "outputs": [],
   "source": [
    "avg_dly_rtrn_agg=daily_returns[\"AGG\"][\"close\"].mean()"
   ]
  },
  {
   "cell_type": "code",
   "execution_count": 185,
   "metadata": {},
   "outputs": [
    {
     "data": {
      "text/plain": [
       "0.00029200236162614664"
      ]
     },
     "execution_count": 185,
     "metadata": {},
     "output_type": "execute_result"
    }
   ],
   "source": [
    "avg_dly_rtrn_agg"
   ]
  },
  {
   "cell_type": "code",
   "execution_count": 186,
   "metadata": {},
   "outputs": [],
   "source": [
    "avg_dly_rtrn_spy=daily_returns[\"SPY\"][\"close\"].mean()"
   ]
  },
  {
   "cell_type": "code",
   "execution_count": 187,
   "metadata": {},
   "outputs": [
    {
     "data": {
      "text/plain": [
       "0.00048776753840452643"
      ]
     },
     "execution_count": 187,
     "metadata": {},
     "output_type": "execute_result"
    }
   ],
   "source": [
    "avg_dly_rtrn_spy"
   ]
  },
  {
   "cell_type": "code",
   "execution_count": 188,
   "metadata": {},
   "outputs": [],
   "source": [
    "# Save the last day's closing price for each stock.\n",
    "last_day_close_agg=df[\"AGG\"][\"close\"][-1]"
   ]
  },
  {
   "cell_type": "code",
   "execution_count": 189,
   "metadata": {},
   "outputs": [
    {
     "data": {
      "text/plain": [
       "119.29"
      ]
     },
     "execution_count": 189,
     "metadata": {},
     "output_type": "execute_result"
    }
   ],
   "source": [
    "last_day_close_agg"
   ]
  },
  {
   "cell_type": "code",
   "execution_count": 190,
   "metadata": {},
   "outputs": [],
   "source": [
    "last_day_close_spy=df[\"SPY\"][\"close\"][-1]"
   ]
  },
  {
   "cell_type": "code",
   "execution_count": 191,
   "metadata": {},
   "outputs": [
    {
     "data": {
      "text/plain": [
       "320.86"
      ]
     },
     "execution_count": 191,
     "metadata": {},
     "output_type": "execute_result"
    }
   ],
   "source": [
    "last_day_close_spy"
   ]
  },
  {
   "cell_type": "code",
   "execution_count": 192,
   "metadata": {},
   "outputs": [
    {
     "data": {
      "text/html": [
       "<div>\n",
       "<style scoped>\n",
       "    .dataframe tbody tr th:only-of-type {\n",
       "        vertical-align: middle;\n",
       "    }\n",
       "\n",
       "    .dataframe tbody tr th {\n",
       "        vertical-align: top;\n",
       "    }\n",
       "\n",
       "    .dataframe thead tr th {\n",
       "        text-align: left;\n",
       "    }\n",
       "\n",
       "    .dataframe thead tr:last-of-type th {\n",
       "        text-align: right;\n",
       "    }\n",
       "</style>\n",
       "<table border=\"1\" class=\"dataframe\">\n",
       "  <thead>\n",
       "    <tr>\n",
       "      <th></th>\n",
       "      <th>AGG</th>\n",
       "      <th>SPY</th>\n",
       "    </tr>\n",
       "    <tr>\n",
       "      <th></th>\n",
       "      <th>close</th>\n",
       "      <th>close</th>\n",
       "    </tr>\n",
       "    <tr>\n",
       "      <th>time</th>\n",
       "      <th></th>\n",
       "      <th></th>\n",
       "    </tr>\n",
       "  </thead>\n",
       "  <tbody>\n",
       "    <tr>\n",
       "      <th>2020-07-20 00:00:00-04:00</th>\n",
       "      <td>118.98</td>\n",
       "      <td>324.360</td>\n",
       "    </tr>\n",
       "    <tr>\n",
       "      <th>2020-07-21 00:00:00-04:00</th>\n",
       "      <td>119.05</td>\n",
       "      <td>324.960</td>\n",
       "    </tr>\n",
       "    <tr>\n",
       "      <th>2020-07-22 00:00:00-04:00</th>\n",
       "      <td>119.18</td>\n",
       "      <td>326.820</td>\n",
       "    </tr>\n",
       "    <tr>\n",
       "      <th>2020-07-23 00:00:00-04:00</th>\n",
       "      <td>119.36</td>\n",
       "      <td>322.935</td>\n",
       "    </tr>\n",
       "    <tr>\n",
       "      <th>2020-07-24 00:00:00-04:00</th>\n",
       "      <td>119.29</td>\n",
       "      <td>320.860</td>\n",
       "    </tr>\n",
       "  </tbody>\n",
       "</table>\n",
       "</div>"
      ],
      "text/plain": [
       "                              AGG      SPY\n",
       "                            close    close\n",
       "time                                      \n",
       "2020-07-20 00:00:00-04:00  118.98  324.360\n",
       "2020-07-21 00:00:00-04:00  119.05  324.960\n",
       "2020-07-22 00:00:00-04:00  119.18  326.820\n",
       "2020-07-23 00:00:00-04:00  119.36  322.935\n",
       "2020-07-24 00:00:00-04:00  119.29  320.860"
      ]
     },
     "execution_count": 192,
     "metadata": {},
     "output_type": "execute_result"
    }
   ],
   "source": [
    "# Test to see if last closes are correct.\n",
    "df.tail()"
   ]
  },
  {
   "cell_type": "code",
   "execution_count": 193,
   "metadata": {},
   "outputs": [],
   "source": [
    "# Setup the Monte Carlo Parameters.\n",
    "num_simulations=500\n",
    "num_trading_days=252*30"
   ]
  },
  {
   "cell_type": "code",
   "execution_count": 194,
   "metadata": {},
   "outputs": [],
   "source": [
    "simulated_price_df=pd.DataFrame()\n",
    "portfolio_cumulative_returns=pd.DataFrame()"
   ]
  },
  {
   "cell_type": "code",
   "execution_count": 195,
   "metadata": {},
   "outputs": [],
   "source": [
    "for simulations in range(num_simulations):\n",
    "    simulated_agg_prices=[last_day_close_agg]\n",
    "    simulated_spy_prices=[last_day_close_spy]\n",
    "    for days in range(num_trading_days):\n",
    "        simulated_agg_price=simulated_agg_prices[-1]*(1+np.random.normal(avg_dly_rtrn_agg,daily_volatility_agg))\n",
    "        simulated_spy_price=simulated_spy_prices[-1]*(1+np.random.normal(avg_dly_rtrn_spy,daily_volatility_spy))\n",
    "        \n",
    "        simulated_agg_prices.append(simulated_agg_price)\n",
    "        simulated_spy_prices.append(simulated_spy_price)\n",
    "    \n",
    "    simulated_price_df[\"AGG\"]=simulated_agg_prices\n",
    "    simulated_price_df[\"SPY\"]=simulated_spy_prices\n",
    "    \n",
    "    simulated_daily_returns=simulated_price_df.pct_change()\n",
    "    weights=[0.40,0.60]\n",
    "    portfolio_daily_returns=simulated_daily_returns.dot(weights)\n",
    "    portfolio_cumulative_returns[simulations]= (1+portfolio_daily_returns.fillna(0)).cumprod()\n",
    "    "
   ]
  },
  {
   "cell_type": "code",
   "execution_count": 196,
   "metadata": {},
   "outputs": [
    {
     "data": {
      "text/html": [
       "<div>\n",
       "<style scoped>\n",
       "    .dataframe tbody tr th:only-of-type {\n",
       "        vertical-align: middle;\n",
       "    }\n",
       "\n",
       "    .dataframe tbody tr th {\n",
       "        vertical-align: top;\n",
       "    }\n",
       "\n",
       "    .dataframe thead th {\n",
       "        text-align: right;\n",
       "    }\n",
       "</style>\n",
       "<table border=\"1\" class=\"dataframe\">\n",
       "  <thead>\n",
       "    <tr style=\"text-align: right;\">\n",
       "      <th></th>\n",
       "      <th>AGG</th>\n",
       "      <th>SPY</th>\n",
       "    </tr>\n",
       "  </thead>\n",
       "  <tbody>\n",
       "    <tr>\n",
       "      <th>0</th>\n",
       "      <td>119.290000</td>\n",
       "      <td>320.860000</td>\n",
       "    </tr>\n",
       "    <tr>\n",
       "      <th>1</th>\n",
       "      <td>119.355834</td>\n",
       "      <td>325.196857</td>\n",
       "    </tr>\n",
       "    <tr>\n",
       "      <th>2</th>\n",
       "      <td>119.568467</td>\n",
       "      <td>335.527923</td>\n",
       "    </tr>\n",
       "    <tr>\n",
       "      <th>3</th>\n",
       "      <td>119.541702</td>\n",
       "      <td>339.628101</td>\n",
       "    </tr>\n",
       "    <tr>\n",
       "      <th>4</th>\n",
       "      <td>118.142304</td>\n",
       "      <td>342.988676</td>\n",
       "    </tr>\n",
       "  </tbody>\n",
       "</table>\n",
       "</div>"
      ],
      "text/plain": [
       "          AGG         SPY\n",
       "0  119.290000  320.860000\n",
       "1  119.355834  325.196857\n",
       "2  119.568467  335.527923\n",
       "3  119.541702  339.628101\n",
       "4  118.142304  342.988676"
      ]
     },
     "execution_count": 196,
     "metadata": {},
     "output_type": "execute_result"
    }
   ],
   "source": [
    "simulated_price_df.head()"
   ]
  },
  {
   "cell_type": "code",
   "execution_count": 197,
   "metadata": {},
   "outputs": [
    {
     "data": {
      "text/html": [
       "<div>\n",
       "<style scoped>\n",
       "    .dataframe tbody tr th:only-of-type {\n",
       "        vertical-align: middle;\n",
       "    }\n",
       "\n",
       "    .dataframe tbody tr th {\n",
       "        vertical-align: top;\n",
       "    }\n",
       "\n",
       "    .dataframe thead th {\n",
       "        text-align: right;\n",
       "    }\n",
       "</style>\n",
       "<table border=\"1\" class=\"dataframe\">\n",
       "  <thead>\n",
       "    <tr style=\"text-align: right;\">\n",
       "      <th></th>\n",
       "      <th>0</th>\n",
       "      <th>1</th>\n",
       "      <th>2</th>\n",
       "      <th>3</th>\n",
       "      <th>4</th>\n",
       "      <th>5</th>\n",
       "      <th>6</th>\n",
       "      <th>7</th>\n",
       "      <th>8</th>\n",
       "      <th>9</th>\n",
       "      <th>...</th>\n",
       "      <th>490</th>\n",
       "      <th>491</th>\n",
       "      <th>492</th>\n",
       "      <th>493</th>\n",
       "      <th>494</th>\n",
       "      <th>495</th>\n",
       "      <th>496</th>\n",
       "      <th>497</th>\n",
       "      <th>498</th>\n",
       "      <th>499</th>\n",
       "    </tr>\n",
       "  </thead>\n",
       "  <tbody>\n",
       "    <tr>\n",
       "      <th>7556</th>\n",
       "      <td>23.749540</td>\n",
       "      <td>5.299556</td>\n",
       "      <td>20.348104</td>\n",
       "      <td>6.515192</td>\n",
       "      <td>12.196293</td>\n",
       "      <td>51.913057</td>\n",
       "      <td>10.828478</td>\n",
       "      <td>5.382792</td>\n",
       "      <td>77.036082</td>\n",
       "      <td>32.147129</td>\n",
       "      <td>...</td>\n",
       "      <td>34.465343</td>\n",
       "      <td>11.413492</td>\n",
       "      <td>25.303695</td>\n",
       "      <td>13.133293</td>\n",
       "      <td>11.540795</td>\n",
       "      <td>24.182788</td>\n",
       "      <td>8.964905</td>\n",
       "      <td>18.872322</td>\n",
       "      <td>4.925498</td>\n",
       "      <td>4.340108</td>\n",
       "    </tr>\n",
       "    <tr>\n",
       "      <th>7557</th>\n",
       "      <td>23.428780</td>\n",
       "      <td>5.311633</td>\n",
       "      <td>20.519451</td>\n",
       "      <td>6.507113</td>\n",
       "      <td>12.397483</td>\n",
       "      <td>51.615292</td>\n",
       "      <td>10.974999</td>\n",
       "      <td>5.222268</td>\n",
       "      <td>77.890904</td>\n",
       "      <td>32.030343</td>\n",
       "      <td>...</td>\n",
       "      <td>34.629388</td>\n",
       "      <td>11.509744</td>\n",
       "      <td>25.497161</td>\n",
       "      <td>12.894762</td>\n",
       "      <td>11.606168</td>\n",
       "      <td>24.009786</td>\n",
       "      <td>9.105102</td>\n",
       "      <td>18.625263</td>\n",
       "      <td>4.985301</td>\n",
       "      <td>4.325699</td>\n",
       "    </tr>\n",
       "    <tr>\n",
       "      <th>7558</th>\n",
       "      <td>23.017805</td>\n",
       "      <td>5.408249</td>\n",
       "      <td>20.532152</td>\n",
       "      <td>6.511598</td>\n",
       "      <td>12.391064</td>\n",
       "      <td>51.653566</td>\n",
       "      <td>10.850487</td>\n",
       "      <td>5.075330</td>\n",
       "      <td>77.214805</td>\n",
       "      <td>31.952940</td>\n",
       "      <td>...</td>\n",
       "      <td>34.232287</td>\n",
       "      <td>11.590999</td>\n",
       "      <td>25.692532</td>\n",
       "      <td>12.569015</td>\n",
       "      <td>11.595341</td>\n",
       "      <td>24.207597</td>\n",
       "      <td>9.076108</td>\n",
       "      <td>18.499582</td>\n",
       "      <td>4.921033</td>\n",
       "      <td>4.329976</td>\n",
       "    </tr>\n",
       "    <tr>\n",
       "      <th>7559</th>\n",
       "      <td>23.183724</td>\n",
       "      <td>5.392971</td>\n",
       "      <td>20.193171</td>\n",
       "      <td>6.433873</td>\n",
       "      <td>12.422702</td>\n",
       "      <td>51.870055</td>\n",
       "      <td>10.856403</td>\n",
       "      <td>5.122886</td>\n",
       "      <td>78.051761</td>\n",
       "      <td>32.101795</td>\n",
       "      <td>...</td>\n",
       "      <td>33.898918</td>\n",
       "      <td>11.588603</td>\n",
       "      <td>25.862931</td>\n",
       "      <td>12.778025</td>\n",
       "      <td>11.480316</td>\n",
       "      <td>23.999254</td>\n",
       "      <td>8.888004</td>\n",
       "      <td>18.387151</td>\n",
       "      <td>5.010059</td>\n",
       "      <td>4.372214</td>\n",
       "    </tr>\n",
       "    <tr>\n",
       "      <th>7560</th>\n",
       "      <td>22.836127</td>\n",
       "      <td>5.409639</td>\n",
       "      <td>19.923557</td>\n",
       "      <td>6.550014</td>\n",
       "      <td>12.199576</td>\n",
       "      <td>51.080467</td>\n",
       "      <td>10.846362</td>\n",
       "      <td>5.119521</td>\n",
       "      <td>79.384584</td>\n",
       "      <td>31.169248</td>\n",
       "      <td>...</td>\n",
       "      <td>34.131993</td>\n",
       "      <td>11.799282</td>\n",
       "      <td>25.944140</td>\n",
       "      <td>12.768103</td>\n",
       "      <td>11.315055</td>\n",
       "      <td>24.170929</td>\n",
       "      <td>8.889244</td>\n",
       "      <td>18.308269</td>\n",
       "      <td>5.052439</td>\n",
       "      <td>4.352822</td>\n",
       "    </tr>\n",
       "  </tbody>\n",
       "</table>\n",
       "<p>5 rows × 500 columns</p>\n",
       "</div>"
      ],
      "text/plain": [
       "            0         1          2         3          4          5    \\\n",
       "7556  23.749540  5.299556  20.348104  6.515192  12.196293  51.913057   \n",
       "7557  23.428780  5.311633  20.519451  6.507113  12.397483  51.615292   \n",
       "7558  23.017805  5.408249  20.532152  6.511598  12.391064  51.653566   \n",
       "7559  23.183724  5.392971  20.193171  6.433873  12.422702  51.870055   \n",
       "7560  22.836127  5.409639  19.923557  6.550014  12.199576  51.080467   \n",
       "\n",
       "            6         7          8          9    ...        490        491  \\\n",
       "7556  10.828478  5.382792  77.036082  32.147129  ...  34.465343  11.413492   \n",
       "7557  10.974999  5.222268  77.890904  32.030343  ...  34.629388  11.509744   \n",
       "7558  10.850487  5.075330  77.214805  31.952940  ...  34.232287  11.590999   \n",
       "7559  10.856403  5.122886  78.051761  32.101795  ...  33.898918  11.588603   \n",
       "7560  10.846362  5.119521  79.384584  31.169248  ...  34.131993  11.799282   \n",
       "\n",
       "            492        493        494        495       496        497  \\\n",
       "7556  25.303695  13.133293  11.540795  24.182788  8.964905  18.872322   \n",
       "7557  25.497161  12.894762  11.606168  24.009786  9.105102  18.625263   \n",
       "7558  25.692532  12.569015  11.595341  24.207597  9.076108  18.499582   \n",
       "7559  25.862931  12.778025  11.480316  23.999254  8.888004  18.387151   \n",
       "7560  25.944140  12.768103  11.315055  24.170929  8.889244  18.308269   \n",
       "\n",
       "           498       499  \n",
       "7556  4.925498  4.340108  \n",
       "7557  4.985301  4.325699  \n",
       "7558  4.921033  4.329976  \n",
       "7559  5.010059  4.372214  \n",
       "7560  5.052439  4.352822  \n",
       "\n",
       "[5 rows x 500 columns]"
      ]
     },
     "execution_count": 197,
     "metadata": {},
     "output_type": "execute_result"
    }
   ],
   "source": [
    "portfolio_cumulative_returns.tail()"
   ]
  },
  {
   "cell_type": "code",
   "execution_count": 198,
   "metadata": {},
   "outputs": [
    {
     "data": {
      "text/plain": [
       "<matplotlib.axes._subplots.AxesSubplot at 0x7fec4a0cf650>"
      ]
     },
     "execution_count": 198,
     "metadata": {},
     "output_type": "execute_result"
    },
    {
     "data": {
      "image/png": "[encoded data removed]",
      "text/plain": [
       "<Figure size 432x288 with 1 Axes>"
      ]
     },
     "metadata": {
      "needs_background": "light"
     },
     "output_type": "display_data"
    }
   ],
   "source": [
    "# Full 30 Year Cumulative Return Simulation Plot\n",
    "plot_title=f\"{num_simulations} Simulations of 60/40 Portfolio Returns over {num_trading_days} Trading Days in 30 Years\"\n",
    "portfolio_cumulative_returns.plot(legend=None,title=plot_title)"
   ]
  },
  {
   "cell_type": "code",
   "execution_count": 199,
   "metadata": {},
   "outputs": [
    {
     "data": {
      "text/plain": [
       "<matplotlib.axes._subplots.AxesSubplot at 0x7fec321f9310>"
      ]
     },
     "execution_count": 199,
     "metadata": {},
     "output_type": "execute_result"
    },
    {
     "data": {
      "image/png": "[encoded data removed]",
      "text/plain": [
       "<Figure size 432x288 with 1 Axes>"
      ]
     },
     "metadata": {
      "needs_background": "light"
     },
     "output_type": "display_data"
    }
   ],
   "source": [
    "# General simulated closing prices plot.\n",
    "plot_title2=f\"{num_simulations} Simulations for Closing Prices of SPY and AGG over {num_trading_days} Trading Days in 30 Years\"\n",
    "simulated_price_df.plot(title=plot_title2)"
   ]
  },
  {
   "cell_type": "code",
   "execution_count": 200,
   "metadata": {},
   "outputs": [
    {
     "data": {
      "text/html": [
       "<div>\n",
       "<style scoped>\n",
       "    .dataframe tbody tr th:only-of-type {\n",
       "        vertical-align: middle;\n",
       "    }\n",
       "\n",
       "    .dataframe tbody tr th {\n",
       "        vertical-align: top;\n",
       "    }\n",
       "\n",
       "    .dataframe thead th {\n",
       "        text-align: right;\n",
       "    }\n",
       "</style>\n",
       "<table border=\"1\" class=\"dataframe\">\n",
       "  <thead>\n",
       "    <tr style=\"text-align: right;\">\n",
       "      <th></th>\n",
       "      <th>AGG</th>\n",
       "      <th>SPY</th>\n",
       "    </tr>\n",
       "  </thead>\n",
       "  <tbody>\n",
       "    <tr>\n",
       "      <th>7560</th>\n",
       "      <td>1038.167418</td>\n",
       "      <td>431.900661</td>\n",
       "    </tr>\n",
       "  </tbody>\n",
       "</table>\n",
       "</div>"
      ],
      "text/plain": [
       "              AGG         SPY\n",
       "7560  1038.167418  431.900661"
      ]
     },
     "execution_count": 200,
     "metadata": {},
     "output_type": "execute_result"
    }
   ],
   "source": [
    "# Select the last row of the general monte carlo data frame for the cumulative returns (cumulative returns at 20 years)\n",
    "simulated_price_df[-1:]"
   ]
  },
  {
   "cell_type": "code",
   "execution_count": 201,
   "metadata": {},
   "outputs": [
    {
     "data": {
      "text/html": [
       "<div>\n",
       "<style scoped>\n",
       "    .dataframe tbody tr th:only-of-type {\n",
       "        vertical-align: middle;\n",
       "    }\n",
       "\n",
       "    .dataframe tbody tr th {\n",
       "        vertical-align: top;\n",
       "    }\n",
       "\n",
       "    .dataframe thead th {\n",
       "        text-align: right;\n",
       "    }\n",
       "</style>\n",
       "<table border=\"1\" class=\"dataframe\">\n",
       "  <thead>\n",
       "    <tr style=\"text-align: right;\">\n",
       "      <th></th>\n",
       "      <th>AGG</th>\n",
       "      <th>SPY</th>\n",
       "    </tr>\n",
       "  </thead>\n",
       "  <tbody>\n",
       "    <tr>\n",
       "      <th>7556</th>\n",
       "      <td>1036.406924</td>\n",
       "      <td>430.307731</td>\n",
       "    </tr>\n",
       "    <tr>\n",
       "      <th>7557</th>\n",
       "      <td>1036.547289</td>\n",
       "      <td>427.887938</td>\n",
       "    </tr>\n",
       "    <tr>\n",
       "      <th>7558</th>\n",
       "      <td>1038.899873</td>\n",
       "      <td>427.945540</td>\n",
       "    </tr>\n",
       "    <tr>\n",
       "      <th>7559</th>\n",
       "      <td>1040.355164</td>\n",
       "      <td>434.503433</td>\n",
       "    </tr>\n",
       "    <tr>\n",
       "      <th>7560</th>\n",
       "      <td>1038.167418</td>\n",
       "      <td>431.900661</td>\n",
       "    </tr>\n",
       "  </tbody>\n",
       "</table>\n",
       "</div>"
      ],
      "text/plain": [
       "              AGG         SPY\n",
       "7556  1036.406924  430.307731\n",
       "7557  1036.547289  427.887938\n",
       "7558  1038.899873  427.945540\n",
       "7559  1040.355164  434.503433\n",
       "7560  1038.167418  431.900661"
      ]
     },
     "execution_count": 201,
     "metadata": {},
     "output_type": "execute_result"
    }
   ],
   "source": [
    "# Check if its last.\n",
    "simulated_price_df.tail()"
   ]
  },
  {
   "cell_type": "code",
   "execution_count": 202,
   "metadata": {},
   "outputs": [],
   "source": [
    "last_row = simulated_price_df[-1:]"
   ]
  },
  {
   "cell_type": "code",
   "execution_count": 203,
   "metadata": {},
   "outputs": [],
   "source": [
    "last_row_daily_return = simulated_daily_returns[-1:]"
   ]
  },
  {
   "cell_type": "code",
   "execution_count": 204,
   "metadata": {},
   "outputs": [
    {
     "data": {
      "text/html": [
       "<div>\n",
       "<style scoped>\n",
       "    .dataframe tbody tr th:only-of-type {\n",
       "        vertical-align: middle;\n",
       "    }\n",
       "\n",
       "    .dataframe tbody tr th {\n",
       "        vertical-align: top;\n",
       "    }\n",
       "\n",
       "    .dataframe thead th {\n",
       "        text-align: right;\n",
       "    }\n",
       "</style>\n",
       "<table border=\"1\" class=\"dataframe\">\n",
       "  <thead>\n",
       "    <tr style=\"text-align: right;\">\n",
       "      <th></th>\n",
       "      <th>AGG</th>\n",
       "      <th>SPY</th>\n",
       "    </tr>\n",
       "  </thead>\n",
       "  <tbody>\n",
       "    <tr>\n",
       "      <th>7560</th>\n",
       "      <td>-0.002103</td>\n",
       "      <td>-0.00599</td>\n",
       "    </tr>\n",
       "  </tbody>\n",
       "</table>\n",
       "</div>"
      ],
      "text/plain": [
       "           AGG      SPY\n",
       "7560 -0.002103 -0.00599"
      ]
     },
     "execution_count": 204,
     "metadata": {},
     "output_type": "execute_result"
    }
   ],
   "source": [
    "last_row_daily_return"
   ]
  },
  {
   "cell_type": "code",
   "execution_count": 205,
   "metadata": {},
   "outputs": [
    {
     "data": {
      "text/html": [
       "<div>\n",
       "<style scoped>\n",
       "    .dataframe tbody tr th:only-of-type {\n",
       "        vertical-align: middle;\n",
       "    }\n",
       "\n",
       "    .dataframe tbody tr th {\n",
       "        vertical-align: top;\n",
       "    }\n",
       "\n",
       "    .dataframe thead th {\n",
       "        text-align: right;\n",
       "    }\n",
       "</style>\n",
       "<table border=\"1\" class=\"dataframe\">\n",
       "  <thead>\n",
       "    <tr style=\"text-align: right;\">\n",
       "      <th></th>\n",
       "      <th>AGG</th>\n",
       "      <th>SPY</th>\n",
       "    </tr>\n",
       "  </thead>\n",
       "  <tbody>\n",
       "    <tr>\n",
       "      <th>7556</th>\n",
       "      <td>-0.004570</td>\n",
       "      <td>-0.008175</td>\n",
       "    </tr>\n",
       "    <tr>\n",
       "      <th>7557</th>\n",
       "      <td>0.000135</td>\n",
       "      <td>-0.005623</td>\n",
       "    </tr>\n",
       "    <tr>\n",
       "      <th>7558</th>\n",
       "      <td>0.002270</td>\n",
       "      <td>0.000135</td>\n",
       "    </tr>\n",
       "    <tr>\n",
       "      <th>7559</th>\n",
       "      <td>0.001401</td>\n",
       "      <td>0.015324</td>\n",
       "    </tr>\n",
       "    <tr>\n",
       "      <th>7560</th>\n",
       "      <td>-0.002103</td>\n",
       "      <td>-0.005990</td>\n",
       "    </tr>\n",
       "  </tbody>\n",
       "</table>\n",
       "</div>"
      ],
      "text/plain": [
       "           AGG       SPY\n",
       "7556 -0.004570 -0.008175\n",
       "7557  0.000135 -0.005623\n",
       "7558  0.002270  0.000135\n",
       "7559  0.001401  0.015324\n",
       "7560 -0.002103 -0.005990"
      ]
     },
     "execution_count": 205,
     "metadata": {},
     "output_type": "execute_result"
    }
   ],
   "source": [
    "# Check if last.\n",
    "simulated_daily_returns.tail()"
   ]
  },
  {
   "cell_type": "code",
   "execution_count": 206,
   "metadata": {},
   "outputs": [],
   "source": [
    "cumulative_returns_20yr=(1+last_row_daily_return).cumprod()"
   ]
  },
  {
   "cell_type": "code",
   "execution_count": 207,
   "metadata": {},
   "outputs": [
    {
     "data": {
      "text/html": [
       "<div>\n",
       "<style scoped>\n",
       "    .dataframe tbody tr th:only-of-type {\n",
       "        vertical-align: middle;\n",
       "    }\n",
       "\n",
       "    .dataframe tbody tr th {\n",
       "        vertical-align: top;\n",
       "    }\n",
       "\n",
       "    .dataframe thead th {\n",
       "        text-align: right;\n",
       "    }\n",
       "</style>\n",
       "<table border=\"1\" class=\"dataframe\">\n",
       "  <thead>\n",
       "    <tr style=\"text-align: right;\">\n",
       "      <th></th>\n",
       "      <th>AGG</th>\n",
       "      <th>SPY</th>\n",
       "    </tr>\n",
       "  </thead>\n",
       "  <tbody>\n",
       "    <tr>\n",
       "      <th>7560</th>\n",
       "      <td>0.997897</td>\n",
       "      <td>0.99401</td>\n",
       "    </tr>\n",
       "  </tbody>\n",
       "</table>\n",
       "</div>"
      ],
      "text/plain": [
       "           AGG      SPY\n",
       "7560  0.997897  0.99401"
      ]
     },
     "execution_count": 207,
     "metadata": {},
     "output_type": "execute_result"
    }
   ],
   "source": [
    "cumulative_returns_20yr"
   ]
  },
  {
   "cell_type": "code",
   "execution_count": 208,
   "metadata": {},
   "outputs": [],
   "source": [
    "# I actually think this is what I should be using. \n",
    "last_port_cumulative_ret = portfolio_cumulative_returns.iloc[-1,:]"
   ]
  },
  {
   "cell_type": "code",
   "execution_count": 209,
   "metadata": {},
   "outputs": [
    {
     "data": {
      "text/plain": [
       "0       22.836127\n",
       "1        5.409639\n",
       "2       19.923557\n",
       "3        6.550014\n",
       "4       12.199576\n",
       "5       51.080467\n",
       "6       10.846362\n",
       "7        5.119521\n",
       "8       79.384584\n",
       "9       31.169248\n",
       "10      36.450613\n",
       "11      17.371349\n",
       "12       5.933783\n",
       "13       2.140859\n",
       "14       5.324015\n",
       "15       3.906984\n",
       "16      16.971631\n",
       "17      10.714581\n",
       "18       4.217006\n",
       "19       7.072588\n",
       "20       8.577268\n",
       "21      56.132509\n",
       "22      18.336318\n",
       "23       1.354064\n",
       "24       6.150163\n",
       "25      11.248928\n",
       "26      13.267037\n",
       "27      26.011772\n",
       "28      15.217406\n",
       "29       3.422551\n",
       "          ...    \n",
       "470     11.528964\n",
       "471      2.743543\n",
       "472      2.238175\n",
       "473     36.105982\n",
       "474      3.736495\n",
       "475      1.135601\n",
       "476      3.997316\n",
       "477      7.908240\n",
       "478      2.813259\n",
       "479      2.058734\n",
       "480      1.108637\n",
       "481    126.814286\n",
       "482     25.102314\n",
       "483      5.606579\n",
       "484     60.769217\n",
       "485      3.972800\n",
       "486     83.313305\n",
       "487      5.229404\n",
       "488      7.421982\n",
       "489      1.013239\n",
       "490     34.131993\n",
       "491     11.799282\n",
       "492     25.944140\n",
       "493     12.768103\n",
       "494     11.315055\n",
       "495     24.170929\n",
       "496      8.889244\n",
       "497     18.308269\n",
       "498      5.052439\n",
       "499      4.352822\n",
       "Name: 7560, Length: 500, dtype: float64"
      ]
     },
     "execution_count": 209,
     "metadata": {},
     "output_type": "execute_result"
    }
   ],
   "source": [
    "last_port_cumulative_ret"
   ]
  },
  {
   "cell_type": "code",
   "execution_count": 210,
   "metadata": {},
   "outputs": [],
   "source": [
    "# Display the 90% confidence interval for the ending returns\n",
    "confidence_interval= last_port_cumulative_ret.quantile(q=[0.05,0.95])"
   ]
  },
  {
   "cell_type": "code",
   "execution_count": 211,
   "metadata": {},
   "outputs": [
    {
     "data": {
      "text/plain": [
       "0.05     1.868195\n",
       "0.95    65.039301\n",
       "Name: 7560, dtype: float64"
      ]
     },
     "execution_count": 211,
     "metadata": {},
     "output_type": "execute_result"
    }
   ],
   "source": [
    "confidence_interval"
   ]
  },
  {
   "cell_type": "code",
   "execution_count": 212,
   "metadata": {},
   "outputs": [],
   "source": [
    "# Visualize the distribution of the ending returns"
   ]
  },
  {
   "cell_type": "code",
   "execution_count": 213,
   "metadata": {},
   "outputs": [
    {
     "data": {
      "text/plain": [
       "<matplotlib.lines.Line2D at 0x7fec3ed4f3d0>"
      ]
     },
     "execution_count": 213,
     "metadata": {},
     "output_type": "execute_result"
    },
    {
     "data": {
      "image/png": "[encoded data removed]",
      "text/plain": [
       "<Figure size 432x288 with 1 Axes>"
      ]
     },
     "metadata": {
      "needs_background": "light"
     },
     "output_type": "display_data"
    }
   ],
   "source": [
    "last_port_cumulative_ret.plot.hist(legend=True,bins=50, title=\"Simulated Ending Cumulative Returns With 90% Confidence Intervals\")\n",
    "plt.axvline(confidence_interval.iloc[0],color='r')\n",
    "plt.axvline(confidence_interval.iloc[1],color='r')"
   ]
  },
  {
   "cell_type": "markdown",
   "metadata": {},
   "source": [
    "# **RETIREMENT ANALYSIS**"
   ]
  },
  {
   "cell_type": "markdown",
   "metadata": {},
   "source": [
    "**1. What are the expected cumulative returns at 30 years for the 10th, 50th, and 90th percentiles?**"
   ]
  },
  {
   "cell_type": "code",
   "execution_count": 214,
   "metadata": {},
   "outputs": [
    {
     "data": {
      "text/plain": [
       "<matplotlib.lines.Line2D at 0x7fec2410da90>"
      ]
     },
     "execution_count": 214,
     "metadata": {},
     "output_type": "execute_result"
    },
    {
     "data": {
      "image/png": "[encoded data removed]",
      "text/plain": [
       "<Figure size 432x288 with 1 Axes>"
      ]
     },
     "metadata": {
      "needs_background": "light"
     },
     "output_type": "display_data"
    }
   ],
   "source": [
    "# 90th Percentiles.\n",
    "last_port_cumulative_ret.plot.hist(legend=True,bins=50)\n",
    "plt.axvline(confidence_interval.iloc[0],color='r')\n",
    "plt.axvline(confidence_interval.iloc[1],color='r')"
   ]
  },
  {
   "cell_type": "code",
   "execution_count": 215,
   "metadata": {},
   "outputs": [],
   "source": [
    "cum_90_perct = last_port_cumulative_ret.quantile(0.9)"
   ]
  },
  {
   "cell_type": "code",
   "execution_count": 216,
   "metadata": {},
   "outputs": [
    {
     "name": "stdout",
     "output_type": "stream",
     "text": [
      "The expected cumulative returns at 30 years for the 90'th percentile is 44.61\n"
     ]
    }
   ],
   "source": [
    "print(f\"The expected cumulative returns at 30 years for the 90'th percentile is {round(cum_90_perct,2)}\")"
   ]
  },
  {
   "cell_type": "code",
   "execution_count": 217,
   "metadata": {},
   "outputs": [],
   "source": [
    "# 50th Percentiles.\n",
    "confidence_interval_fifty=last_port_cumulative_ret.quantile(q=[0.25,0.75])"
   ]
  },
  {
   "cell_type": "code",
   "execution_count": 218,
   "metadata": {},
   "outputs": [
    {
     "data": {
      "text/plain": [
       "<matplotlib.lines.Line2D at 0x7fec2426f0d0>"
      ]
     },
     "execution_count": 218,
     "metadata": {},
     "output_type": "execute_result"
    },
    {
     "data": {
      "image/png": "[encoded data removed]",
      "text/plain": [
       "<Figure size 432x288 with 1 Axes>"
      ]
     },
     "metadata": {
      "needs_background": "light"
     },
     "output_type": "display_data"
    }
   ],
   "source": [
    "last_port_cumulative_ret.plot.hist(legend=True,bins=50)\n",
    "plt.axvline(confidence_interval_fifty.iloc[0],color='r')\n",
    "plt.axvline(confidence_interval_fifty.iloc[1],color='r')"
   ]
  },
  {
   "cell_type": "code",
   "execution_count": 219,
   "metadata": {},
   "outputs": [],
   "source": [
    "cum_50_perct = last_port_cumulative_ret.quantile(0.5)"
   ]
  },
  {
   "cell_type": "code",
   "execution_count": 220,
   "metadata": {},
   "outputs": [
    {
     "name": "stdout",
     "output_type": "stream",
     "text": [
      "The expected cumulative returns at 30 years for the 50'th percentile is 11.86\n"
     ]
    }
   ],
   "source": [
    "print(f\"The expected cumulative returns at 30 years for the 50'th percentile is {round(cum_50_perct,2)}\")"
   ]
  },
  {
   "cell_type": "code",
   "execution_count": 221,
   "metadata": {},
   "outputs": [],
   "source": [
    "# 10th Percentiles.\n",
    "confidence_interval_tenth=last_port_cumulative_ret.quantile(q=[0.1,0.9])"
   ]
  },
  {
   "cell_type": "code",
   "execution_count": 222,
   "metadata": {},
   "outputs": [
    {
     "data": {
      "text/plain": [
       "<matplotlib.lines.Line2D at 0x7fec24281650>"
      ]
     },
     "execution_count": 222,
     "metadata": {},
     "output_type": "execute_result"
    },
    {
     "data": {
      "image/png": "[encoded data removed]",
      "text/plain": [
       "<Figure size 432x288 with 1 Axes>"
      ]
     },
     "metadata": {
      "needs_background": "light"
     },
     "output_type": "display_data"
    }
   ],
   "source": [
    "last_port_cumulative_ret.plot.hist(legend=True,bins=50)\n",
    "plt.axvline(confidence_interval_tenth.iloc[0],color='r')\n",
    "plt.axvline(confidence_interval_tenth.iloc[1],color='r')"
   ]
  },
  {
   "cell_type": "code",
   "execution_count": 223,
   "metadata": {},
   "outputs": [],
   "source": [
    "cum_10_perct = last_port_cumulative_ret.quantile(0.1)"
   ]
  },
  {
   "cell_type": "code",
   "execution_count": 224,
   "metadata": {},
   "outputs": [
    {
     "name": "stdout",
     "output_type": "stream",
     "text": [
      "The expected cumulative returns at 30 years for the 10'th percentile is 2.81\n"
     ]
    }
   ],
   "source": [
    "print(f\"The expected cumulative returns at 30 years for the 10'th percentile is {round(cum_10_perct,2)}\")"
   ]
  },
  {
   "cell_type": "code",
   "execution_count": 225,
   "metadata": {},
   "outputs": [
    {
     "data": {
      "text/html": [
       "<div>\n",
       "<style scoped>\n",
       "    .dataframe tbody tr th:only-of-type {\n",
       "        vertical-align: middle;\n",
       "    }\n",
       "\n",
       "    .dataframe tbody tr th {\n",
       "        vertical-align: top;\n",
       "    }\n",
       "\n",
       "    .dataframe thead th {\n",
       "        text-align: right;\n",
       "    }\n",
       "</style>\n",
       "<table border=\"1\" class=\"dataframe\">\n",
       "  <thead>\n",
       "    <tr style=\"text-align: right;\">\n",
       "      <th></th>\n",
       "      <th>0</th>\n",
       "      <th>1</th>\n",
       "      <th>2</th>\n",
       "      <th>3</th>\n",
       "      <th>4</th>\n",
       "      <th>5</th>\n",
       "      <th>6</th>\n",
       "      <th>7</th>\n",
       "      <th>8</th>\n",
       "      <th>9</th>\n",
       "      <th>...</th>\n",
       "      <th>490</th>\n",
       "      <th>491</th>\n",
       "      <th>492</th>\n",
       "      <th>493</th>\n",
       "      <th>494</th>\n",
       "      <th>495</th>\n",
       "      <th>496</th>\n",
       "      <th>497</th>\n",
       "      <th>498</th>\n",
       "      <th>499</th>\n",
       "    </tr>\n",
       "  </thead>\n",
       "  <tbody>\n",
       "    <tr>\n",
       "      <th>0</th>\n",
       "      <td>1.000000</td>\n",
       "      <td>1.000000</td>\n",
       "      <td>1.000000</td>\n",
       "      <td>1.000000</td>\n",
       "      <td>1.000000</td>\n",
       "      <td>1.000000</td>\n",
       "      <td>1.000000</td>\n",
       "      <td>1.000000</td>\n",
       "      <td>1.000000</td>\n",
       "      <td>1.000000</td>\n",
       "      <td>...</td>\n",
       "      <td>1.000000</td>\n",
       "      <td>1.000000</td>\n",
       "      <td>1.000000</td>\n",
       "      <td>1.000000</td>\n",
       "      <td>1.000000</td>\n",
       "      <td>1.000000</td>\n",
       "      <td>1.000000</td>\n",
       "      <td>1.000000</td>\n",
       "      <td>1.000000</td>\n",
       "      <td>1.000000</td>\n",
       "    </tr>\n",
       "    <tr>\n",
       "      <th>1</th>\n",
       "      <td>1.007885</td>\n",
       "      <td>0.989530</td>\n",
       "      <td>0.987434</td>\n",
       "      <td>0.982331</td>\n",
       "      <td>1.001555</td>\n",
       "      <td>0.999226</td>\n",
       "      <td>0.991236</td>\n",
       "      <td>0.973839</td>\n",
       "      <td>1.008436</td>\n",
       "      <td>1.015533</td>\n",
       "      <td>...</td>\n",
       "      <td>0.984873</td>\n",
       "      <td>1.003187</td>\n",
       "      <td>0.991985</td>\n",
       "      <td>1.011152</td>\n",
       "      <td>0.995489</td>\n",
       "      <td>1.001024</td>\n",
       "      <td>0.994893</td>\n",
       "      <td>1.012908</td>\n",
       "      <td>0.995254</td>\n",
       "      <td>1.008331</td>\n",
       "    </tr>\n",
       "    <tr>\n",
       "      <th>2</th>\n",
       "      <td>1.011927</td>\n",
       "      <td>0.993790</td>\n",
       "      <td>0.996768</td>\n",
       "      <td>0.980799</td>\n",
       "      <td>1.009841</td>\n",
       "      <td>1.000265</td>\n",
       "      <td>0.987716</td>\n",
       "      <td>0.971829</td>\n",
       "      <td>0.986275</td>\n",
       "      <td>1.016978</td>\n",
       "      <td>...</td>\n",
       "      <td>0.985560</td>\n",
       "      <td>0.989673</td>\n",
       "      <td>0.959755</td>\n",
       "      <td>1.010022</td>\n",
       "      <td>0.988403</td>\n",
       "      <td>1.018779</td>\n",
       "      <td>0.983385</td>\n",
       "      <td>1.000990</td>\n",
       "      <td>0.966036</td>\n",
       "      <td>1.028269</td>\n",
       "    </tr>\n",
       "    <tr>\n",
       "      <th>3</th>\n",
       "      <td>1.026131</td>\n",
       "      <td>0.998475</td>\n",
       "      <td>1.003792</td>\n",
       "      <td>0.991327</td>\n",
       "      <td>1.000681</td>\n",
       "      <td>0.964732</td>\n",
       "      <td>0.995144</td>\n",
       "      <td>0.965883</td>\n",
       "      <td>0.988067</td>\n",
       "      <td>1.024247</td>\n",
       "      <td>...</td>\n",
       "      <td>0.991886</td>\n",
       "      <td>1.004817</td>\n",
       "      <td>0.976173</td>\n",
       "      <td>1.000418</td>\n",
       "      <td>0.991533</td>\n",
       "      <td>1.018205</td>\n",
       "      <td>0.994092</td>\n",
       "      <td>1.022879</td>\n",
       "      <td>0.966248</td>\n",
       "      <td>1.035716</td>\n",
       "    </tr>\n",
       "    <tr>\n",
       "      <th>4</th>\n",
       "      <td>1.008310</td>\n",
       "      <td>1.006534</td>\n",
       "      <td>1.008767</td>\n",
       "      <td>1.006156</td>\n",
       "      <td>0.991187</td>\n",
       "      <td>0.971839</td>\n",
       "      <td>0.997884</td>\n",
       "      <td>0.966151</td>\n",
       "      <td>0.981989</td>\n",
       "      <td>1.036294</td>\n",
       "      <td>...</td>\n",
       "      <td>0.998777</td>\n",
       "      <td>1.020604</td>\n",
       "      <td>0.977661</td>\n",
       "      <td>0.986750</td>\n",
       "      <td>0.976491</td>\n",
       "      <td>1.031385</td>\n",
       "      <td>1.006318</td>\n",
       "      <td>1.013931</td>\n",
       "      <td>0.965799</td>\n",
       "      <td>1.037016</td>\n",
       "    </tr>\n",
       "  </tbody>\n",
       "</table>\n",
       "<p>5 rows × 500 columns</p>\n",
       "</div>"
      ],
      "text/plain": [
       "        0         1         2         3         4         5         6    \\\n",
       "0  1.000000  1.000000  1.000000  1.000000  1.000000  1.000000  1.000000   \n",
       "1  1.007885  0.989530  0.987434  0.982331  1.001555  0.999226  0.991236   \n",
       "2  1.011927  0.993790  0.996768  0.980799  1.009841  1.000265  0.987716   \n",
       "3  1.026131  0.998475  1.003792  0.991327  1.000681  0.964732  0.995144   \n",
       "4  1.008310  1.006534  1.008767  1.006156  0.991187  0.971839  0.997884   \n",
       "\n",
       "        7         8         9    ...       490       491       492       493  \\\n",
       "0  1.000000  1.000000  1.000000  ...  1.000000  1.000000  1.000000  1.000000   \n",
       "1  0.973839  1.008436  1.015533  ...  0.984873  1.003187  0.991985  1.011152   \n",
       "2  0.971829  0.986275  1.016978  ...  0.985560  0.989673  0.959755  1.010022   \n",
       "3  0.965883  0.988067  1.024247  ...  0.991886  1.004817  0.976173  1.000418   \n",
       "4  0.966151  0.981989  1.036294  ...  0.998777  1.020604  0.977661  0.986750   \n",
       "\n",
       "        494       495       496       497       498       499  \n",
       "0  1.000000  1.000000  1.000000  1.000000  1.000000  1.000000  \n",
       "1  0.995489  1.001024  0.994893  1.012908  0.995254  1.008331  \n",
       "2  0.988403  1.018779  0.983385  1.000990  0.966036  1.028269  \n",
       "3  0.991533  1.018205  0.994092  1.022879  0.966248  1.035716  \n",
       "4  0.976491  1.031385  1.006318  1.013931  0.965799  1.037016  \n",
       "\n",
       "[5 rows x 500 columns]"
      ]
     },
     "execution_count": 225,
     "metadata": {},
     "output_type": "execute_result"
    }
   ],
   "source": [
    "portfolio_cumulative_returns.head()"
   ]
  },
  {
   "cell_type": "markdown",
   "metadata": {},
   "source": [
    "**2. Given an initial investment of $20,000, what is the expected return in dollars at the 10th, 50th, and 90th percentiles?**"
   ]
  },
  {
   "cell_type": "code",
   "execution_count": 226,
   "metadata": {},
   "outputs": [
    {
     "data": {
      "text/plain": [
       "2.8057457975493465"
      ]
     },
     "execution_count": 226,
     "metadata": {},
     "output_type": "execute_result"
    }
   ],
   "source": [
    "# 10th Percentile.\n",
    "cum_10_perct"
   ]
  },
  {
   "cell_type": "code",
   "execution_count": 227,
   "metadata": {},
   "outputs": [],
   "source": [
    "investment=20_000\n",
    "returns_at10=investment*cum_10_perct"
   ]
  },
  {
   "cell_type": "code",
   "execution_count": 228,
   "metadata": {},
   "outputs": [
    {
     "data": {
      "text/plain": [
       "56114.91595098693"
      ]
     },
     "execution_count": 228,
     "metadata": {},
     "output_type": "execute_result"
    }
   ],
   "source": [
    "returns_at10"
   ]
  },
  {
   "cell_type": "code",
   "execution_count": 229,
   "metadata": {},
   "outputs": [],
   "source": [
    "# 50th Percentile."
   ]
  },
  {
   "cell_type": "code",
   "execution_count": 230,
   "metadata": {},
   "outputs": [
    {
     "data": {
      "text/plain": [
       "11.858431011476856"
      ]
     },
     "execution_count": 230,
     "metadata": {},
     "output_type": "execute_result"
    }
   ],
   "source": [
    "cum_50_perct"
   ]
  },
  {
   "cell_type": "code",
   "execution_count": 231,
   "metadata": {},
   "outputs": [],
   "source": [
    "returns_at50=investment*cum_50_perct"
   ]
  },
  {
   "cell_type": "code",
   "execution_count": 232,
   "metadata": {},
   "outputs": [
    {
     "data": {
      "text/plain": [
       "237168.62022953713"
      ]
     },
     "execution_count": 232,
     "metadata": {},
     "output_type": "execute_result"
    }
   ],
   "source": [
    "returns_at50"
   ]
  },
  {
   "cell_type": "code",
   "execution_count": 233,
   "metadata": {},
   "outputs": [],
   "source": [
    "# 90th Percentile."
   ]
  },
  {
   "cell_type": "code",
   "execution_count": 234,
   "metadata": {},
   "outputs": [
    {
     "data": {
      "text/plain": [
       "44.6091093053367"
      ]
     },
     "execution_count": 234,
     "metadata": {},
     "output_type": "execute_result"
    }
   ],
   "source": [
    "cum_90_perct"
   ]
  },
  {
   "cell_type": "code",
   "execution_count": 235,
   "metadata": {},
   "outputs": [],
   "source": [
    "returns_at90=investment*cum_90_perct"
   ]
  },
  {
   "cell_type": "code",
   "execution_count": 236,
   "metadata": {},
   "outputs": [
    {
     "data": {
      "text/plain": [
       "892182.1861067341"
      ]
     },
     "execution_count": 236,
     "metadata": {},
     "output_type": "execute_result"
    }
   ],
   "source": [
    "returns_at90"
   ]
  },
  {
   "cell_type": "markdown",
   "metadata": {},
   "source": [
    "With an initial investment of $20,000.00 the expected returns in dollars at the 10th, 50th, and 90th percentiles would be as follows:\n",
    "\n",
    "10th Percentile: $56,991.51\n",
    "\n",
    "50th Percentile: $240,807.09\n",
    "\n",
    "90th Percentile: $905,736.76"
   ]
  },
  {
   "cell_type": "markdown",
   "metadata": {},
   "source": [
    "**3. Given the current projected annual income from the Plaid analysis, will a 4% withdrawal rate meet or exceed that value at the 10th percentile? Note: This is basically determining if retirement income is equivalent to current income.**"
   ]
  },
  {
   "cell_type": "code",
   "execution_count": 237,
   "metadata": {},
   "outputs": [],
   "source": [
    "retirement_income=0.04*(projected_yearly_income*cum_10_perct)"
   ]
  },
  {
   "cell_type": "code",
   "execution_count": 250,
   "metadata": {},
   "outputs": [
    {
     "data": {
      "text/plain": [
       "6085"
      ]
     },
     "execution_count": 250,
     "metadata": {},
     "output_type": "execute_result"
    }
   ],
   "source": [
    "projected_yearly_income"
   ]
  },
  {
   "cell_type": "code",
   "execution_count": 238,
   "metadata": {},
   "outputs": [],
   "source": [
    "rate_2=0.04*(investment*cum_10_perct)"
   ]
  },
  {
   "cell_type": "code",
   "execution_count": 239,
   "metadata": {},
   "outputs": [
    {
     "data": {
      "text/plain": [
       "682.9185271235109"
      ]
     },
     "execution_count": 239,
     "metadata": {},
     "output_type": "execute_result"
    }
   ],
   "source": [
    "retirement_income"
   ]
  },
  {
   "cell_type": "code",
   "execution_count": 240,
   "metadata": {},
   "outputs": [
    {
     "data": {
      "text/plain": [
       "2244.596638039477"
      ]
     },
     "execution_count": 240,
     "metadata": {},
     "output_type": "execute_result"
    }
   ],
   "source": [
    "rate_2"
   ]
  },
  {
   "cell_type": "code",
   "execution_count": 241,
   "metadata": {},
   "outputs": [
    {
     "name": "stdout",
     "output_type": "stream",
     "text": [
      "Here if one invests the projected yearly income of $6085 then with a 4% withdrawal rate we predict a 10'th percentile value of $682.92. This would be less than if we did a 4% withdrawal rate with an initial investment of $20,000.00 which would be $2244.6. This would also be less than the general 10th percentile projected return of an investment of $20,000.00 which would be $56114.92\n"
     ]
    }
   ],
   "source": [
    "print(f\"Here if one invests the projected yearly income of ${projected_yearly_income} then with a 4% withdrawal rate we predict a 10'th percentile value of ${round(retirement_income,2)}. This would be less than if we did a 4% withdrawal rate with an initial investment of $20,000.00 which would be ${round(rate_2,2)}. This would also be less than the general 10th percentile projected return of an investment of $20,000.00 which would be ${round(returns_at10,2)}\") "
   ]
  },
  {
   "cell_type": "markdown",
   "metadata": {},
   "source": [
    "**4. How would a 50% increase in the initial investment amount affect the 4% retirement withdrawal? In other words, what happens if the initial investment had been bigger?**"
   ]
  },
  {
   "cell_type": "code",
   "execution_count": 251,
   "metadata": {},
   "outputs": [],
   "source": [
    "# Increased $20,000.00 investment by 50%\n",
    "investment_larger = 30_000"
   ]
  },
  {
   "cell_type": "code",
   "execution_count": 243,
   "metadata": {},
   "outputs": [],
   "source": [
    "returns_at10_larger = 0.04*(investment_larger)*(cum_10_perct)"
   ]
  },
  {
   "cell_type": "code",
   "execution_count": 244,
   "metadata": {},
   "outputs": [
    {
     "data": {
      "text/plain": [
       "3366.894957059216"
      ]
     },
     "execution_count": 244,
     "metadata": {},
     "output_type": "execute_result"
    }
   ],
   "source": [
    "returns_at10_larger"
   ]
  },
  {
   "cell_type": "code",
   "execution_count": 245,
   "metadata": {},
   "outputs": [],
   "source": [
    "returns_at50_larger = 0.04*(investment_larger)*(cum_50_perct)"
   ]
  },
  {
   "cell_type": "code",
   "execution_count": 246,
   "metadata": {},
   "outputs": [
    {
     "data": {
      "text/plain": [
       "14230.117213772228"
      ]
     },
     "execution_count": 246,
     "metadata": {},
     "output_type": "execute_result"
    }
   ],
   "source": [
    "returns_at50_larger"
   ]
  },
  {
   "cell_type": "code",
   "execution_count": 247,
   "metadata": {},
   "outputs": [],
   "source": [
    "returns_at90_larger = 0.04*(investment_larger)*(cum_90_perct)"
   ]
  },
  {
   "cell_type": "code",
   "execution_count": 248,
   "metadata": {},
   "outputs": [
    {
     "data": {
      "text/plain": [
       "53530.93116640404"
      ]
     },
     "execution_count": 248,
     "metadata": {},
     "output_type": "execute_result"
    }
   ],
   "source": [
    "returns_at90_larger"
   ]
  },
  {
   "cell_type": "code",
   "execution_count": 253,
   "metadata": {},
   "outputs": [],
   "source": [
    "# Increased projected yearly income by 50%\n",
    "projected_yrly_larger = 9127.50"
   ]
  },
  {
   "cell_type": "code",
   "execution_count": 254,
   "metadata": {},
   "outputs": [],
   "source": [
    "returns_at10_larger_yrly_in = 0.04*(projected_yrly_larger)*(cum_10_perct)"
   ]
  },
  {
   "cell_type": "code",
   "execution_count": 255,
   "metadata": {},
   "outputs": [
    {
     "data": {
      "text/plain": [
       "1024.3777906852665"
      ]
     },
     "execution_count": 255,
     "metadata": {},
     "output_type": "execute_result"
    }
   ],
   "source": [
    "returns_at10_larger_yrly_in"
   ]
  },
  {
   "cell_type": "code",
   "execution_count": 256,
   "metadata": {},
   "outputs": [],
   "source": [
    "returns_at50_larger_yrly_in = 0.04*(projected_yrly_larger)*(cum_50_perct)"
   ]
  },
  {
   "cell_type": "code",
   "execution_count": 257,
   "metadata": {},
   "outputs": [
    {
     "data": {
      "text/plain": [
       "4329.513162290201"
      ]
     },
     "execution_count": 257,
     "metadata": {},
     "output_type": "execute_result"
    }
   ],
   "source": [
    "returns_at50_larger_yrly_in"
   ]
  },
  {
   "cell_type": "code",
   "execution_count": 258,
   "metadata": {},
   "outputs": [],
   "source": [
    "returns_at90_larger_yrly_in = 0.04*(projected_yrly_larger)*(cum_90_perct)"
   ]
  },
  {
   "cell_type": "code",
   "execution_count": 259,
   "metadata": {},
   "outputs": [
    {
     "data": {
      "text/plain": [
       "16286.78580737843"
      ]
     },
     "execution_count": 259,
     "metadata": {},
     "output_type": "execute_result"
    }
   ],
   "source": [
    "returns_at90_larger_yrly_in"
   ]
  },
  {
   "cell_type": "code",
   "execution_count": 261,
   "metadata": {},
   "outputs": [
    {
     "name": "stdout",
     "output_type": "stream",
     "text": [
      "If the initial investment was $30000.00 as opposed to $20000.00 the returns for the retirement account with the 4% retirement withdrawal would be $3366.89 for the 10th percentile, $14230.12 for the 50th percentile, and $53530.93 for the 90th percentile. So one can see that if the initial investment is/was bigger, then the returns would be larger as well. The same goes if we increase the projected yearly income of $6085.00 by 50% to $9127.50. We would then get $1024.38 for the 10th percentile, $4329.51 for the 50th percentile, and $16286.79 for the 90th percentile. Again, increasing the investment increases the returns.\n"
     ]
    }
   ],
   "source": [
    "print(f\"If the initial investment was ${investment_larger}.00 as opposed to ${investment}.00 the returns for the retirement account with the 4% retirement withdrawal would be ${round(returns_at10_larger,2)} for the 10th percentile, ${round(returns_at50_larger,2)} for the 50th percentile, and ${round(returns_at90_larger,2)} for the 90th percentile. So one can see that if the initial investment is/was bigger, then the returns would be larger as well. The same goes if we increase the projected yearly income of ${projected_yearly_income}.00 by 50% to ${projected_yrly_larger}0. We would then get ${round(returns_at10_larger_yrly_in,2)} for the 10th percentile, ${round(returns_at50_larger_yrly_in,2)} for the 50th percentile, and ${round(returns_at90_larger_yrly_in,2)} for the 90th percentile. Again, increasing the investment increases the returns.\")"
   ]
  },
  {
   "cell_type": "code",
   "execution_count": null,
   "metadata": {},
   "outputs": [],
   "source": []
  }
 ],
 "metadata": {
  "kernelspec": {
   "display_name": "Python 3",
   "language": "python",
   "name": "python3"
  },
  "language_info": {
   "codemirror_mode": {
    "name": "ipython",
    "version": 3
   },
   "file_extension": ".py",
   "mimetype": "text/x-python",
   "name": "python",
   "nbconvert_exporter": "python",
   "pygments_lexer": "ipython3",
   "version": "3.7.6"
  }
 },
 "nbformat": 4,
 "nbformat_minor": 4
}
